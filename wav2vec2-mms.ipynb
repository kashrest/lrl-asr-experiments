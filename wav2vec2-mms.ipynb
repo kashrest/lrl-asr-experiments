{
 "cells": [
  {
   "cell_type": "code",
   "execution_count": 10,
   "id": "1cb385bf",
   "metadata": {},
   "outputs": [],
   "source": [
    "from datasets import load_metric, load_dataset, Audio\n",
    "from transformers import Wav2Vec2ForCTC, AutoProcessor\n",
    "import torch\n",
    "from tqdm import tqdm"
   ]
  },
  {
   "cell_type": "code",
   "execution_count": 2,
   "id": "b1d5ffba",
   "metadata": {},
   "outputs": [],
   "source": [
    "# Hausa\n",
    "cache_dir=\"/data/users/kashrest/lrl-asr-experiments/data/fleurs\"\n",
    "stream_data = load_dataset(\"google/fleurs\", \"ha_ng\", split=\"test\", cache_dir=cache_dir, streaming=True)\n",
    "sample = next(iter(stream_data))\n",
    "ha_sample = sample[\"audio\"][\"array\"]\n",
    "ha_sample_transcription = sample[\"transcription\"]"
   ]
  },
  {
   "cell_type": "code",
   "execution_count": 35,
   "id": "b67f69af",
   "metadata": {},
   "outputs": [
    {
     "data": {
      "application/vnd.jupyter.widget-view+json": {
       "model_id": "038e2e7d62584e6cb1decb9d9efa0dcd",
       "version_major": 2,
       "version_minor": 0
      },
      "text/plain": [
       "VBox(children=(HTML(value='<center> <img\\nsrc=https://huggingface.co/front/assets/huggingface_logo-noborder.sv…"
      ]
     },
     "metadata": {},
     "output_type": "display_data"
    },
    {
     "name": "stderr",
     "output_type": "stream",
     "text": [
      "Using the latest cached version of the module from /data/users/kashrest/huggingface/modules/datasets_modules/datasets/mozilla-foundation--common_voice_13_0/22809012aac1fc9803eaffc44122e4149043748e93933935d5ea19898587e4d7 (last modified on Sun May 21 19:02:16 2023) since it couldn't be found locally at mozilla-foundation/common_voice_13_0., or remotely on the Hugging Face Hub.\n",
      "Found cached dataset common_voice_13_0 (/data/users/kashrest/lrl-asr-experiments/data/cv_13/mozilla-foundation___common_voice_13_0/ha/13.0.0/22809012aac1fc9803eaffc44122e4149043748e93933935d5ea19898587e4d7)\n"
     ]
    }
   ],
   "source": [
    "# Hausa\n",
    "from huggingface_hub import notebook_login\n",
    "\n",
    "notebook_login()\n",
    "\n",
    "cache_dir=\"/data/users/kashrest/lrl-asr-experiments/data/cv_13\"\n",
    "\n",
    "data = load_dataset(\"mozilla-foundation/common_voice_13_0\", \"ha\", split=\"test\", cache_dir=cache_dir)\n",
    "data = data.cast_column(\"audio\", Audio(sampling_rate=16_000))"
   ]
  },
  {
   "cell_type": "code",
   "execution_count": 18,
   "id": "0ba590f7",
   "metadata": {},
   "outputs": [
    {
     "data": {
      "text/plain": [
       "{'id': 1801,\n",
       " 'num_samples': 303360,\n",
       " 'path': '/data/users/kashrest/asr-experiments/downloads/extracted/fac2676a78ab0636b6b11f8ff4da4f6e98ba2d10be2c0aa7f2b7c1a89819b928/10063376879559181525.wav',\n",
       " 'audio': {'path': 'test/10063376879559181525.wav',\n",
       "  'array': array([0.        , 0.        , 0.        , ..., 0.00063068, 0.00077605,\n",
       "         0.00100565]),\n",
       "  'sampling_rate': 16000},\n",
       " 'transcription': 'an kwatanta faretin gine-ginen da ke yin sararin samaniyar hong kong da ginshiƙi mai walƙiya wanda aka bayyana ta gaban ruwan victoria harbor',\n",
       " 'raw_transcription': 'An kwatanta faretin gine-ginen da ke yin sararin samaniyar Hong Kong da ginshiƙi mai walƙiya wanda aka bayyana ta gaban ruwan Victoria Harbor.',\n",
       " 'gender': 1,\n",
       " 'lang_id': 30,\n",
       " 'language': 'Hausa',\n",
       " 'lang_group_id': 3}"
      ]
     },
     "execution_count": 18,
     "metadata": {},
     "output_type": "execute_result"
    }
   ],
   "source": [
    "data[0]"
   ]
  },
  {
   "cell_type": "code",
   "execution_count": null,
   "id": "a1964ad1",
   "metadata": {},
   "outputs": [],
   "source": [
    "data_samples = []\n"
   ]
  },
  {
   "cell_type": "code",
   "execution_count": 3,
   "id": "6f1c6e03",
   "metadata": {},
   "outputs": [],
   "source": [
    "model_id = \"facebook/mms-1b-all\"\n",
    "\n",
    "processor = AutoProcessor.from_pretrained(model_id)\n",
    "model = Wav2Vec2ForCTC.from_pretrained(model_id)"
   ]
  },
  {
   "cell_type": "code",
   "execution_count": 4,
   "id": "9b9e5d23",
   "metadata": {},
   "outputs": [],
   "source": [
    "processor.tokenizer.set_target_lang(\"hau\")\n",
    "model.load_adapter(\"hau\")\n",
    "\n",
    "inputs = processor(ha_sample, sampling_rate=16_000, return_tensors=\"pt\")\n",
    "\n",
    "with torch.no_grad():\n",
    "    outputs = model(**inputs).logits\n",
    "\n",
    "ids = torch.argmax(outputs, dim=-1)[0]\n",
    "transcription = processor.decode(ids)\n",
    "# 'wachambuzi wa soka wanamtaja mesi kama nyota hatari zaidi duniani'\n",
    "# => In English: \"soccer analysts describe Messi as the most dangerous player in the world\""
   ]
  },
  {
   "cell_type": "code",
   "execution_count": 15,
   "id": "7723db69",
   "metadata": {
    "collapsed": true
   },
   "outputs": [
    {
     "data": {
      "text/plain": [
       "{'!': 74,\n",
       " '$': 52,\n",
       " '%': 56,\n",
       " '&': 76,\n",
       " \"'\": 28,\n",
       " '+': 64,\n",
       " ',': 45,\n",
       " '-': 33,\n",
       " '.': 43,\n",
       " '/': 48,\n",
       " '0': 30,\n",
       " '1': 32,\n",
       " '2': 34,\n",
       " '3': 40,\n",
       " '4': 39,\n",
       " '5': 38,\n",
       " '6': 42,\n",
       " '7': 44,\n",
       " '8': 41,\n",
       " '9': 36,\n",
       " ':': 50,\n",
       " ';': 54,\n",
       " '<': 65,\n",
       " '</s>': 2,\n",
       " '<pad>': 0,\n",
       " '<s>': 1,\n",
       " '<unk>': 3,\n",
       " '>': 66,\n",
       " '[': 62,\n",
       " ']': 63,\n",
       " 'a': 4,\n",
       " 'b': 19,\n",
       " 'c': 23,\n",
       " 'd': 12,\n",
       " 'e': 16,\n",
       " 'f': 24,\n",
       " 'g': 21,\n",
       " 'h': 20,\n",
       " 'i': 7,\n",
       " 'j': 26,\n",
       " 'k': 8,\n",
       " 'l': 22,\n",
       " 'm': 14,\n",
       " 'n': 6,\n",
       " 'o': 18,\n",
       " 'p': 31,\n",
       " 'q': 49,\n",
       " 'r': 10,\n",
       " 's': 11,\n",
       " 't': 15,\n",
       " 'u': 9,\n",
       " 'v': 35,\n",
       " 'w': 17,\n",
       " 'x': 46,\n",
       " 'y': 13,\n",
       " 'z': 25,\n",
       " '|': 5,\n",
       " '£': 71,\n",
       " '¥': 68,\n",
       " '°': 61,\n",
       " '²': 72,\n",
       " 'á': 58,\n",
       " 'ã': 70,\n",
       " 'ç': 67,\n",
       " 'é': 69,\n",
       " 'í': 59,\n",
       " 'ó': 73,\n",
       " 'õ': 60,\n",
       " 'ö': 78,\n",
       " 'ú': 75,\n",
       " 'ü': 53,\n",
       " 'ā': 77,\n",
       " 'ă': 82,\n",
       " 'ū': 83,\n",
       " 'ƙ': 27,\n",
       " 'ƴ': 55,\n",
       " 'ɓ': 37,\n",
       " 'ɗ': 29,\n",
       " 'ʻ': 79,\n",
       " 'ˈ': 81,\n",
       " '—': 80,\n",
       " '‘': 57,\n",
       " '’': 47,\n",
       " '”': 51}"
      ]
     },
     "execution_count": 15,
     "metadata": {},
     "output_type": "execute_result"
    }
   ],
   "source": [
    "processor.tokenizer.get_vocab()[\"hau\"]"
   ]
  },
  {
   "cell_type": "code",
   "execution_count": 17,
   "id": "0660356d",
   "metadata": {},
   "outputs": [],
   "source": [
    "from finetuning_util_hausa import preprocess_text"
   ]
  },
  {
   "cell_type": "code",
   "execution_count": 36,
   "id": "e275fd08",
   "metadata": {},
   "outputs": [
    {
     "name": "stderr",
     "output_type": "stream",
     "text": [
      "100%|███████████████████████████████████████████████████████████████████████████████████████████████████████████████████████████████████████████████████████████████████| 659/659 [05:24<00:00,  2.03it/s]\n"
     ]
    }
   ],
   "source": [
    "#batch = processor.pad(input_features, padding=self.padding, max_length=self.max_length, pad_to_multiple_of=self.pad_to_multiple_of, return_tensors=\"pt\")\n",
    "processor.tokenizer.set_target_lang(\"hau\")\n",
    "model.load_adapter(\"hau\")\n",
    "transcriptions = []\n",
    "gold_transcriptions = []\n",
    "for elem in tqdm(data):\n",
    "    inputs = processor(elem[\"audio\"][\"array\"], sampling_rate=16_000, return_tensors=\"pt\")\n",
    "    with torch.no_grad():\n",
    "        outputs = model(**inputs).logits\n",
    "    ids = torch.argmax(outputs, dim=-1)[0]\n",
    "    transcriptions.append(processor.decode(ids))\n",
    "    gold_transcriptions.append(preprocess_text(elem[\"sentence\"]))\n",
    "    # 'wachambuzi wa soka wanamtaja mesi kama nyota hatari zaidi duniani'\n",
    "    # => In English: \"soccer analysts describe Messi as the most dangerous player in the world\""
   ]
  },
  {
   "cell_type": "code",
   "execution_count": 37,
   "id": "6563a783",
   "metadata": {},
   "outputs": [
    {
     "data": {
      "text/plain": [
       "(659, 659)"
      ]
     },
     "execution_count": 37,
     "metadata": {},
     "output_type": "execute_result"
    }
   ],
   "source": [
    "len(transcriptions), len(gold_transcriptions)"
   ]
  },
  {
   "cell_type": "code",
   "execution_count": 38,
   "id": "95b00062",
   "metadata": {},
   "outputs": [
    {
     "data": {
      "text/plain": [
       "(0.3554274735830932, 0.07887218045112782)"
      ]
     },
     "execution_count": 38,
     "metadata": {},
     "output_type": "execute_result"
    }
   ],
   "source": [
    "wer_metric = load_metric(\"wer\")\n",
    "cer_metric = load_metric(\"cer\")\n",
    "wer = wer_metric.compute(predictions=transcriptions, references=gold_transcriptions)\n",
    "cer = cer_metric.compute(predictions=transcriptions, references=gold_transcriptions)\n",
    "wer, cer"
   ]
  },
  {
   "cell_type": "code",
   "execution_count": 39,
   "id": "f65028c4",
   "metadata": {},
   "outputs": [
    {
     "data": {
      "text/plain": [
       "'habibu da hamsatu ba su kyauta min ba'"
      ]
     },
     "execution_count": 39,
     "metadata": {},
     "output_type": "execute_result"
    }
   ],
   "source": [
    "transcriptions[0]"
   ]
  },
  {
   "cell_type": "code",
   "execution_count": 40,
   "id": "ba636fe0",
   "metadata": {},
   "outputs": [
    {
     "data": {
      "text/plain": [
       "'habibu da hamsatu ba su kyauta min ba.'"
      ]
     },
     "execution_count": 40,
     "metadata": {},
     "output_type": "execute_result"
    }
   ],
   "source": [
    "gold_transcriptions[0]"
   ]
  },
  {
   "cell_type": "code",
   "execution_count": null,
   "id": "363a9823",
   "metadata": {},
   "outputs": [],
   "source": []
  }
 ],
 "metadata": {
  "kernelspec": {
   "display_name": "Python 3 (ipykernel)",
   "language": "python",
   "name": "python3"
  },
  "language_info": {
   "codemirror_mode": {
    "name": "ipython",
    "version": 3
   },
   "file_extension": ".py",
   "mimetype": "text/x-python",
   "name": "python",
   "nbconvert_exporter": "python",
   "pygments_lexer": "ipython3",
   "version": "3.10.11"
  }
 },
 "nbformat": 4,
 "nbformat_minor": 5
}
