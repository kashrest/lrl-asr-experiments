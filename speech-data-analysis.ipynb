{
 "cells": [
  {
   "cell_type": "code",
   "execution_count": null,
   "id": "85af8450",
   "metadata": {},
   "outputs": [],
   "source": [
    "!nvidia-smi"
   ]
  },
  {
   "cell_type": "code",
   "execution_count": 1,
   "id": "527f64e9",
   "metadata": {},
   "outputs": [],
   "source": [
    "from datasets import load_dataset\n",
    "import IPython.display as ipd\n",
    "import numpy as np\n",
    "import random"
   ]
  },
  {
   "cell_type": "markdown",
   "id": "1b4f82b2",
   "metadata": {},
   "source": [
    "# FLEURS \n",
    "## Wikipedia, not very relevant to African speakers"
   ]
  },
  {
   "cell_type": "code",
   "execution_count": null,
   "id": "4341e7b9",
   "metadata": {},
   "outputs": [],
   "source": [
    "cache_dir=\"/data/users/kashrest/asr-experiments\"\n",
    "fleurs_hausa_train = load_dataset(\"google/fleurs\", \"ha_ng\", split=\"train\", cache_dir=cache_dir)"
   ]
  },
  {
   "cell_type": "code",
   "execution_count": null,
   "id": "d51cf2bc",
   "metadata": {},
   "outputs": [],
   "source": [
    "sampling_rate = 16000\n",
    "rand_int = random.randint(0, len(fleurs_hausa_train)-1)\n",
    "print(fleurs_hausa_train[rand_int][\"raw_transcription\"])\n",
    "secs = len(fleurs_hausa_train[rand_int][\"audio\"][\"array\"])/sampling_rate\n",
    "print(f\"This utterance is {secs} seconds\")\n",
    "print(f\"This utterance is sampled at {fleurs_hausa_train[rand_int]['audio']['sampling_rate']} Hz\")\n",
    "ipd.Audio(data=fleurs_hausa_train[rand_int][\"audio\"][\"array\"], autoplay=True, rate=16000)"
   ]
  },
  {
   "cell_type": "code",
   "execution_count": null,
   "id": "0b69a767",
   "metadata": {},
   "outputs": [],
   "source": [
    "entire_transcript = \"\"\n",
    "for i in fleurs_hausa_train:\n",
    "    entire_transcript += \" \".join(i[\"transcription\"])\n",
    "    \n",
    "for i in load_dataset(\"google/fleurs\", \"ha_ng\", split=\"validation\", cache_dir=cache_dir):\n",
    "    entire_transcript += \" \".join(i[\"transcription\"])\n",
    "\n",
    "for i in load_dataset(\"google/fleurs\", \"ha_ng\", split=\"test\", cache_dir=cache_dir):\n",
    "    entire_transcript += \" \".join(i[\"transcription\"])    "
   ]
  },
  {
   "cell_type": "code",
   "execution_count": null,
   "id": "04fcc4bc",
   "metadata": {},
   "outputs": [],
   "source": [
    "len(set(entire_transcript))"
   ]
  },
  {
   "cell_type": "code",
   "execution_count": null,
   "id": "dc10462f",
   "metadata": {},
   "outputs": [],
   "source": [
    "from collections import Counter\n",
    "Counter(list(entire_transcript)).most_common()"
   ]
  },
  {
   "cell_type": "markdown",
   "id": "62ab2c5c",
   "metadata": {},
   "source": [
    "# OpenSLR 129 -  BibleTTS"
   ]
  },
  {
   "cell_type": "code",
   "execution_count": 4,
   "id": "2f50b630",
   "metadata": {},
   "outputs": [
    {
     "name": "stdout",
     "output_type": "stream",
     "text": [
      "/data/users/kashrest/asr-experiments\r\n"
     ]
    }
   ],
   "source": [
    "!pwd"
   ]
  },
  {
   "cell_type": "code",
   "execution_count": 2,
   "id": "e5993eac",
   "metadata": {},
   "outputs": [],
   "source": [
    "# Hausa\n",
    "#from torchaudio.utils import download_asset\n",
    "import torchaudio\n",
    "flac_obj = torchaudio.load(\"data/open_slr_129/hausa/train/1CH/1CH_001_Verse_000.flac\")\n"
   ]
  },
  {
   "cell_type": "code",
   "execution_count": 31,
   "id": "a5f37844",
   "metadata": {},
   "outputs": [],
   "source": [
    "train_transcription_paths = []\n",
    "train_audio_paths = []\n",
    "\n",
    "import os\n",
    "\n",
    "for root, dirs, files in os.walk(\"./data/open_slr_129/hausa/train\"):\n",
    "    if len(files) > 0:\n",
    "        for file in files:\n",
    "            if file[-3:] == \"txt\":\n",
    "                train_transcription_paths.append(root+\"/\"+file)\n",
    "            elif file [-4:] == \"flac\":\n",
    "                train_audio_paths.append(root+\"/\"+file)"
   ]
  },
  {
   "cell_type": "code",
   "execution_count": 44,
   "id": "1173217e",
   "metadata": {},
   "outputs": [
    {
     "data": {
      "text/plain": [
       "'./data/open_slr_129/hausa/train/NUM/NUM_023_Verse_015.txt'"
      ]
     },
     "execution_count": 44,
     "metadata": {},
     "output_type": "execute_result"
    }
   ],
   "source": [
    "import random\n",
    "rand = random.randint(0, len(train_transcription_paths)-1)\n",
    "\n",
    "train_transcription_paths = sorted(train_transcription_paths)\n",
    "train_transcription_paths[rand]"
   ]
  },
  {
   "cell_type": "code",
   "execution_count": 45,
   "id": "76f59847",
   "metadata": {},
   "outputs": [
    {
     "data": {
      "text/plain": [
       "'./data/open_slr_129/hausa/train/NUM/NUM_023_Verse_015.flac'"
      ]
     },
     "execution_count": 45,
     "metadata": {},
     "output_type": "execute_result"
    }
   ],
   "source": [
    "train_audio_paths = sorted(train_audio_paths)\n",
    "train_audio_paths[rand]"
   ]
  },
  {
   "cell_type": "code",
   "execution_count": 54,
   "id": "e3ad1701",
   "metadata": {},
   "outputs": [],
   "source": [
    "entire_transcript = \"\"\n",
    "\n",
    "for file in train_transcription_paths:\n",
    "    with open(file, \"r\") as f:\n",
    "        entire_transcript += \" \".join(f.readline().lower())"
   ]
  },
  {
   "cell_type": "code",
   "execution_count": 57,
   "id": "6f0789b0",
   "metadata": {},
   "outputs": [
    {
     "data": {
      "text/plain": [
       "{' ',\n",
       " '!',\n",
       " \"'\",\n",
       " ',',\n",
       " '.',\n",
       " ':',\n",
       " ';',\n",
       " '?',\n",
       " 'a',\n",
       " 'b',\n",
       " 'c',\n",
       " 'd',\n",
       " 'e',\n",
       " 'f',\n",
       " 'g',\n",
       " 'h',\n",
       " 'i',\n",
       " 'j',\n",
       " 'k',\n",
       " 'l',\n",
       " 'm',\n",
       " 'n',\n",
       " 'o',\n",
       " 'r',\n",
       " 's',\n",
       " 't',\n",
       " 'u',\n",
       " 'w',\n",
       " 'y',\n",
       " 'z',\n",
       " 'ā',\n",
       " 'ă',\n",
       " 'ū',\n",
       " 'ƙ',\n",
       " 'ɓ',\n",
       " 'ɗ',\n",
       " '’'}"
      ]
     },
     "execution_count": 57,
     "metadata": {},
     "output_type": "execute_result"
    }
   ],
   "source": [
    "(set(entire_transcript))"
   ]
  },
  {
   "cell_type": "code",
   "execution_count": null,
   "id": "d3b9dd32",
   "metadata": {},
   "outputs": [],
   "source": []
  }
 ],
 "metadata": {
  "kernelspec": {
   "display_name": "Python 3 (ipykernel)",
   "language": "python",
   "name": "python3"
  },
  "language_info": {
   "codemirror_mode": {
    "name": "ipython",
    "version": 3
   },
   "file_extension": ".py",
   "mimetype": "text/x-python",
   "name": "python",
   "nbconvert_exporter": "python",
   "pygments_lexer": "ipython3",
   "version": "3.10.11"
  }
 },
 "nbformat": 4,
 "nbformat_minor": 5
}
