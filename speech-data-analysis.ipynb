{
 "cells": [
  {
   "cell_type": "code",
   "execution_count": 71,
   "id": "85af8450",
   "metadata": {},
   "outputs": [
    {
     "name": "stdout",
     "output_type": "stream",
     "text": [
      "Wed May 10 06:32:20 2023       \n",
      "+-----------------------------------------------------------------------------+\n",
      "| NVIDIA-SMI 520.61.05    Driver Version: 520.61.05    CUDA Version: 11.8     |\n",
      "|-------------------------------+----------------------+----------------------+\n",
      "| GPU  Name        Persistence-M| Bus-Id        Disp.A | Volatile Uncorr. ECC |\n",
      "| Fan  Temp  Perf  Pwr:Usage/Cap|         Memory-Usage | GPU-Util  Compute M. |\n",
      "|                               |                      |               MIG M. |\n",
      "|===============================+======================+======================|\n",
      "|   0  NVIDIA A100 80G...  On   | 00000000:A1:00.0 Off |                    0 |\n",
      "| N/A   33C    P0    66W / 300W |  22766MiB / 81920MiB |     46%      Default |\n",
      "|                               |                      |             Disabled |\n",
      "+-------------------------------+----------------------+----------------------+\n",
      "                                                                               \n",
      "+-----------------------------------------------------------------------------+\n",
      "| Processes:                                                                  |\n",
      "|  GPU   GI   CI        PID   Type   Process name                  GPU Memory |\n",
      "|        ID   ID                                                   Usage      |\n",
      "|=============================================================================|\n",
      "|    0   N/A  N/A     19030      C   ...onda3/envs/asr/bin/python    14136MiB |\n",
      "|    0   N/A  N/A     20270      C   ...3/envs/nlpvenv/bin/python     8628MiB |\n",
      "+-----------------------------------------------------------------------------+\n"
     ]
    }
   ],
   "source": [
    "!nvidia-smi"
   ]
  },
  {
   "cell_type": "code",
   "execution_count": 1,
   "id": "527f64e9",
   "metadata": {},
   "outputs": [],
   "source": [
    "from datasets import load_dataset\n",
    "import IPython.display as ipd\n",
    "import numpy as np\n",
    "import random\n",
    "import torchaudio\n",
    "import random\n",
    "import os\n",
    "\n",
    "from collections import Counter"
   ]
  },
  {
   "cell_type": "markdown",
   "id": "1b4f82b2",
   "metadata": {},
   "source": [
    "# FLEURS \n",
    "## Wikipedia, not very relevant to African speakers"
   ]
  },
  {
   "cell_type": "code",
   "execution_count": 4,
   "id": "4341e7b9",
   "metadata": {},
   "outputs": [
    {
     "name": "stdout",
     "output_type": "stream",
     "text": [
      "Downloading and preparing dataset fleurs/ha_ng to /data/users/kashrest/asr-experiments/google___fleurs/ha_ng/2.0.0/af82dbec419a815084fa63ebd5d5a9f24a6e9acdf9887b9e3b8c6bbd64e0b7ac...\n"
     ]
    },
    {
     "data": {
      "application/vnd.jupyter.widget-view+json": {
       "model_id": "4c1482cbdc7345328c259f3bdf5495cb",
       "version_major": 2,
       "version_minor": 0
      },
      "text/plain": [
       "Downloading data files:   0%|          | 0/3 [00:00<?, ?it/s]"
      ]
     },
     "metadata": {},
     "output_type": "display_data"
    },
    {
     "data": {
      "application/vnd.jupyter.widget-view+json": {
       "model_id": "cdce7d6471574905a878b46407e02c04",
       "version_major": 2,
       "version_minor": 0
      },
      "text/plain": [
       "Downloading data:   0%|          | 0.00/2.49G [00:00<?, ?B/s]"
      ]
     },
     "metadata": {},
     "output_type": "display_data"
    },
    {
     "data": {
      "application/vnd.jupyter.widget-view+json": {
       "model_id": "3ef1f21299484a60b714bdae0369d628",
       "version_major": 2,
       "version_minor": 0
      },
      "text/plain": [
       "Downloading data:   0%|          | 0.00/275M [00:00<?, ?B/s]"
      ]
     },
     "metadata": {},
     "output_type": "display_data"
    },
    {
     "data": {
      "application/vnd.jupyter.widget-view+json": {
       "model_id": "df5790a93f604b2aa8ea3da6d8e12d90",
       "version_major": 2,
       "version_minor": 0
      },
      "text/plain": [
       "Downloading data:   0%|          | 0.00/602M [00:00<?, ?B/s]"
      ]
     },
     "metadata": {},
     "output_type": "display_data"
    },
    {
     "data": {
      "application/vnd.jupyter.widget-view+json": {
       "model_id": "46e84c9624bd45a09def9d259a8e5d30",
       "version_major": 2,
       "version_minor": 0
      },
      "text/plain": [
       "Extracting data files:   0%|          | 0/3 [00:00<?, ?it/s]"
      ]
     },
     "metadata": {},
     "output_type": "display_data"
    },
    {
     "data": {
      "application/vnd.jupyter.widget-view+json": {
       "model_id": "7a9e93ce7d5c4aa49460b5bfd3ab0b23",
       "version_major": 2,
       "version_minor": 0
      },
      "text/plain": [
       "Downloading data files:   0%|          | 0/3 [00:00<?, ?it/s]"
      ]
     },
     "metadata": {},
     "output_type": "display_data"
    },
    {
     "data": {
      "application/vnd.jupyter.widget-view+json": {
       "model_id": "8b2e1f905f7445c9944de361f6deab99",
       "version_major": 2,
       "version_minor": 0
      },
      "text/plain": [
       "Downloading data:   0%|          | 0.00/1.87M [00:00<?, ?B/s]"
      ]
     },
     "metadata": {},
     "output_type": "display_data"
    },
    {
     "data": {
      "application/vnd.jupyter.widget-view+json": {
       "model_id": "98a63b3a43cf49d4a69104fd48426de5",
       "version_major": 2,
       "version_minor": 0
      },
      "text/plain": [
       "Downloading data:   0%|          | 0.00/173k [00:00<?, ?B/s]"
      ]
     },
     "metadata": {},
     "output_type": "display_data"
    },
    {
     "data": {
      "application/vnd.jupyter.widget-view+json": {
       "model_id": "481a39aecd92458588248cebc52555f9",
       "version_major": 2,
       "version_minor": 0
      },
      "text/plain": [
       "Downloading data:   0%|          | 0.00/378k [00:00<?, ?B/s]"
      ]
     },
     "metadata": {},
     "output_type": "display_data"
    },
    {
     "data": {
      "application/vnd.jupyter.widget-view+json": {
       "model_id": "",
       "version_major": 2,
       "version_minor": 0
      },
      "text/plain": [
       "Generating train split: 0 examples [00:00, ? examples/s]"
      ]
     },
     "metadata": {},
     "output_type": "display_data"
    },
    {
     "data": {
      "application/vnd.jupyter.widget-view+json": {
       "model_id": "",
       "version_major": 2,
       "version_minor": 0
      },
      "text/plain": [
       "Generating validation split: 0 examples [00:00, ? examples/s]"
      ]
     },
     "metadata": {},
     "output_type": "display_data"
    },
    {
     "data": {
      "application/vnd.jupyter.widget-view+json": {
       "model_id": "",
       "version_major": 2,
       "version_minor": 0
      },
      "text/plain": [
       "Generating test split: 0 examples [00:00, ? examples/s]"
      ]
     },
     "metadata": {},
     "output_type": "display_data"
    },
    {
     "name": "stdout",
     "output_type": "stream",
     "text": [
      "Dataset fleurs downloaded and prepared to /data/users/kashrest/asr-experiments/google___fleurs/ha_ng/2.0.0/af82dbec419a815084fa63ebd5d5a9f24a6e9acdf9887b9e3b8c6bbd64e0b7ac. Subsequent calls will reuse this data.\n"
     ]
    }
   ],
   "source": [
    "cache_dir=\"/data/users/kashrest/asr-experiments\"\n",
    "fleurs_hausa_train = load_dataset(\"google/fleurs\", \"ha_ng\", split=\"train\", cache_dir=cache_dir)"
   ]
  },
  {
   "cell_type": "code",
   "execution_count": null,
   "id": "d51cf2bc",
   "metadata": {},
   "outputs": [],
   "source": [
    "sampling_rate = 16000\n",
    "rand_int = random.randint(0, len(fleurs_hausa_train)-1)\n",
    "print(fleurs_hausa_train[rand_int][\"raw_transcription\"])\n",
    "secs = len(fleurs_hausa_train[rand_int][\"audio\"][\"array\"])/sampling_rate\n",
    "print(f\"This utterance is {secs} seconds\")\n",
    "print(f\"This utterance is sampled at {fleurs_hausa_train[rand_int]['audio']['sampling_rate']} Hz\")\n",
    "ipd.Audio(data=fleurs_hausa_train[rand_int][\"audio\"][\"array\"], autoplay=True, rate=16000)"
   ]
  },
  {
   "cell_type": "code",
   "execution_count": 74,
   "id": "3c71b8b2",
   "metadata": {},
   "outputs": [
    {
     "name": "stderr",
     "output_type": "stream",
     "text": [
      "Found cached dataset fleurs (/data/users/kashrest/asr-experiments/google___fleurs/ha_ng/2.0.0/af82dbec419a815084fa63ebd5d5a9f24a6e9acdf9887b9e3b8c6bbd64e0b7ac)\n"
     ]
    },
    {
     "name": "stdout",
     "output_type": "stream",
     "text": [
      "Dubunnan shekarun da suka gabata, wani mutum da ake kira Aristarchus yace Tsarin Rana ya zagaya Rana. \n",
      "\n",
      "Amazon kuma shine kogi mafi fadi a Duniya, a wasu lokutan nisan mil shida. \n",
      "\n",
      "A farkon lamari, kabilar Byzantine da ke gabashi ta karfafa saka tufafi. \n",
      "\n",
      "A cikin wannan na’urar sufuri mai sauyawa kowa na da alaka da juna tare da tallafawa, tsarin sufuri ne wanda ya dogara da motocin daidaikun mutane. \n",
      "\n",
      "NHK ta kuma ruwaito cewa masana’antar samar da makamashin nukiliya ta Kashiwazaki Kariwa a gundumar Niigata tana aiki yadda yakamata. \n",
      "\n",
      "Ta kai ga wannan matsayin ne saboda yawan tofa albarkatun bakin mutane tare da kwarin gwiwa wanda maza da mata ke rokar cewa amfani da magungunan hana haihuwa sun zama dole. \n",
      "\n",
      "Kasancewa a kasar waje a karo na farko, na sa matafiya yin hakuri da nuna fahimta, saboda sanin cewa matafiya na bukatar hakan domin su saba da wajen. \n",
      "\n",
      "Sabuwar Daula ta daulolin baya na Misra su na yaba yadda kakanninsu su ka giggina abubuwa na tarihi, wadanda ko a wancan lokacin sun haura shekaru dubu. \n",
      "\n",
      "Karfin barnansa ta shafe kowa daga sarki har na gama-gari. \n",
      "\n",
      "Tsibiran Gabashin Afirka suna cikin Tekun India kusa da gaɓar gabashin Afirka. \n",
      "\n",
      "Yanzu ana samu a faɗin rukunin tsibiran, jerin nau’ikan abincin yan Java, yawancin kayan kamshin da su ka fi sakawa shine na gyada, yaji da sukari (musamman sukarin kwakwa) da kuma wasu kayan kanshin. \n",
      "\n",
      "Kila wasu marasa lafiya sun kamu da cutar a asibiti, Dokta Moll yana tsammani, kuma aƙalla biyu sun kasance ma'aikatan kiwon lafiya na asibiti. \n",
      "\n",
      "Wayar tauraron dan adam a gaba daya ba za ta maye gurbin wayar hannu ba, domin sai kun kasance a waje tare da yin saiti da tauraron dan adam don yin kiran da wayar. \n",
      "\n",
      "Duk da haka kashi tamanin cikin kayan mu sun samu haraji a kasashen Amurka ta tsakiya. Zamu kula da kai. \n",
      "\n",
      "A cikin wannan na’urar sufuri mai sauyawa kowa na da alaka da juna tare da tallafawa, tsarin sufuri ne wanda ya dogara da motocin daidaikun mutane. \n",
      "\n",
      "Za ka iya ganin dalar a cikin duhu kuma za ka iya ganin su a tsanake kafin shirin ya fara. \n",
      "\n",
      "Tsohon kakakin majalisar Newt Gingrich, gwamnan Texas Rick Perry, da uwargidan majalisar wakilai, Michele Bachmann sun gama a mataki na hudu, na biyar, da na shida, bi da bi. \n",
      "\n",
      "Kasancewa a kasar waje a karo na farko, na sa matafiya yin hakuri da nuna fahimta, saboda sanin cewa matafiya na bukatar hakan domin su saba da wajen. \n",
      "\n",
      "Sannan, sai Lakkha Singh ya yi jagora a rera waƙar bhajans. \n",
      "\n",
      "Daga karshe, an sauya tayoyin katako da na karfe. A cikin 1767 an kaddamar da farkon hanyar jirgin kasa kerar karfe. \n",
      "\n",
      "Tsarin gashin fuka-fukan ya nuna cewa ba ana amfani da su ba ne domin tashi sama, sai dai domin samar da tsarin daidaiton dumin jiki da kuma motsawa. Binciken ya nuna cewa duk da cewa jelar ta wani karamin kakan kadangare ce, abin na nuna cewa gashin balagagge ne ba na dan tsako ba. \n",
      "\n",
      "Yawancin hanyoyin gama gari na yau da kullun (misali tsarin APS na iyali) ya kusa da wannan tsari. \n",
      "\n",
      "Ruwa na zubewa kan levee a sashi mai fadin kafa 100. \n",
      "\n",
      "Ana iya zuwa yawancin gundumomi a cikin kananan bas wadanda ke da kwari ga dadin tafiya. \n",
      "\n",
      "Furuci yana da ɗan sauƙi a cikin Italiyanci tunda yawancin kalmomi ana furta daidai yadda ake rubuta suu \n",
      "\n",
      "Kuɗaɗen ɗaukar nauyin yaƙi na mulkin mallakar Amurka a yakin mallake Philippines mutanen Phillippines ne da kansu suka biya. \n",
      "\n",
      "Bayan ganin munanan abubuwa da munanan yaƙe-yaƙe yayin Yaƙin Duniya na ɗaya, al'ummomi sun so su guje wa irin wannan yanayin a nan gaba. \n",
      "\n",
      "Masu binciken sun nuna cewa, duk da cewa sun gamsu jelar ta kakannin kadangare ce, ta kuma nuna cewa ta balagagge ce ba jariri ba. \n",
      "\n",
      "Mahukuntan yankin suna gargadin mazauna yankin da ke kusa da masana’antar da su kasance cikin gidajensu, a kashe na’urorin sanyaya ɗaki kuma kada a sha ruwan famfo. \n",
      "\n",
      "Na kasa fahimtar abin, hakika babu adalci a ciki. \n",
      "\n",
      "Fasaha tana ba da mafita tare da tafiye-tafiye na fili. Dalibai na iya kallon kayan tarihin, ziyartar akwatin kifaye, ko kuma sha'awar kyawawan fasaha yayin zama tare da ajinsu. \n",
      "\n",
      "A farkon lamari, kabilar Byzantine da ke gabashi ta karfafa saka tufafi. \n",
      "\n",
      "‘Yan sanda sun ce da alama gawar ta kai tsawon kwana daya a wurin. \n",
      "\n",
      "Arly Velasquez na kasar Mexico ya ƙare a matsayin na goma sha biyar a jerin Super-G na maza na zaune. Adam Hall na New Zealand ya ƙare a matsayin na tara a Suƙer-G na maza na tsaye. \n",
      "\n",
      "Cikin abubuwan da ake ci a tsohuwar daular Rum, ba zai kasance abincin da ya zo Turai daga Amurka ba ko kuma daga Asia a karnonin da su ka zo daga baya. \n",
      "\n",
      "Irin waɗannan abubuwa sun zama horo daban, waɗanda ke mai da hankali kan samar da mafita ga matsalolin rayuwa. \n",
      "\n",
      "Rahotanni sun nuna an kwashe tsawon daren ana wasoson kayan jama’a, sakamakon rashin jami’an tsaro a titunan Bishkek. \n",
      "\n",
      "Na kasa fahimtar abin, hakika babu adalci a ciki. \n",
      "\n",
      "Shahararun mawaka a faɗin ƙasar sun gabatar da bhajans, ko wakokin ibada, zuw ga kafafun Shri Sham. \n",
      "\n",
      "Ana iya musayar kudi a banki daya kaɗai da ke tsibiran wanda ke ketaren Stanley daga shagon FIC West. \n",
      "\n",
      "Za'a iya ma'anar kayayyakin aikin hannu azaman tsoffin kayayyakin tarihi, dukda cewa sunfi saurayi irin kayan da aka girka. \n",
      "\n",
      "Kodayake ana amfani da shi ko'ina, musamman tsakanin waɗanda ba Romani ba, kalmar “Gypsy” galibi ana ɗaukarta abin ƙyama ne saboda ƙungiyoyinta da ra'ayoyi marasa kyau da ra'ayoyi marasa kyau game da mutanen Romani. \n",
      "\n",
      "Da fatan za a kula da rukunin yanar gizon tare da dukkan mutunci, girmamawa da girmama shi. Kada ku yi ba'a game da fitinar Holocaust ko Nazis. \n",
      "\n",
      "Masana kimiyya sun ce fashewar da hatsarin ya haifar na da girma. \n",
      "\n",
      "A lokuta da dama shiga/fara kwas na ratan shekara guda a ketare zai iya inganta damammakinka na kara nosawa gaba a karatu idan ka dawo kasar haihuwarka. \n",
      "\n",
      "Ya kamata mata su gane cewa bambamcin al’ada na iya haifar da sakamako wanda za’a gani kaman cin zarafi da bi wanda ba a sani ba, kama da hannu, da makamancin su.. \n",
      "\n",
      "Tun da dalibai sune galibin wadanda suka ziyartar shafi, mawallafin shafin intanet lallai ne ya yi kokarin inganta salon rubutunsa saboda gujewa suka. \n",
      "\n",
      "Wasu dabbobi, kamar giwaye da raƙuman dawa, su kan je kusa da motoci kuma na’ura mai kyau za ta ba da damar kallo sosai. \n",
      "\n",
      "A lokuta da dama shiga/fara kwas na ratan shekara guda a ketare zai iya inganta damammakinka na kara nosawa gaba a karatu idan ka dawo kasar haihuwarka. \n",
      "\n",
      "Lokacin hunturu na iya zama mai sanyida wasa-wasa: yanayin zafi ba safai ake yin sanyi ba, amma iska da zafi suna haduwa don sanya shi jin sanyi fiye da abin da ma'aunin zafi da sanyio ya fada. \n",
      "\n",
      "A duk faɗin Amurka, akwai kusan rahoto 400,000 na cutar Multiple Sclerosis (MS), abinda ya sa ta zama ja-gaba cikin ciwukan sadarwa a jiki ga matasa da masu shekaru tsaka-tsaki. \n",
      "\n",
      "Lambun ya dauki fili mai fadin 19,500 km² kuma ya rabu har kashi 14, kowanne na tallafa wa dabbobin daji dabam. \n",
      "\n",
      "Alal misali, “koyo” da “cudanya” ana kallonsu a matsayin muhimman hanyoyin ƙarfafa yin amfani da yanar gizo (James et al., 1995). \n",
      "\n",
      "A baya, Shugaban kamfanin Ring, Jamie Siminoff, ya bayyana cewa kamfanin ya fara lokacin da ba a jiyo sauti kararrawar jikin ƙofar sa daga shagonsa a cikin garejinsa. \n",
      "\n",
      "Ko da yake, ana nuna galibin alamomin ana nuna su Katalanci sakamakon bisa doka shi ne yaren hukumana farko. \n",
      "\n",
      "Rahotanni sun nuna an kwashe tsawon daren ana wasoson kayan jama’a, sakamakon rashin jami’an tsaro a titunan Bishkek. \n",
      "\n",
      "An tashi wasan da banbancin maki daya, wato 20-21, abinda ya kawo karshen samun nasarar All Black karo na 15 a jere. \n",
      "\n",
      "A cikin haɗin gwiwar NPWS da Sportungiyar Sporting Shooters Association of Australia (NSW) Inc, an ɗauki ƙwararrun masu sa kai, a ƙarƙashin shirin wasannin kungiyar maharba. \n",
      "\n",
      "Mai magana da yawun Bush Gordon Johndroe ya kira alwashin da Koriya ta Arewa ta yi “babban mataki ne ga burin cimma nasarar narkar da makaman nukiliya na zirin Koriya.” \n",
      "\n",
      "Idan ka ziyarci nahiyar Arctic ko Antarctica a lokacin hunturu zaka tsinkayi daren sanyi, wanda a lokacinsa rana bata fitowa. \n",
      "\n",
      "Shi ne CEP Matelly na biyar cikin shekara hudu. \n",
      "\n",
      "Yanzu ana samu a faɗin rukunin tsibiran, jerin nau’ikan abincin yan Java, yawancin kayan kamshin da su ka fi sakawa shine na gyada, yaji da sukari (musamman sukarin kwakwa) da kuma wasu kayan kanshin. \n",
      "\n",
      "Na rasa yar uwata tare da kawarta, kuma a hanya na gamu da wasu nakasassu biyu a kan keke, jama’a suna ta tsallake su tare da tura su,” inji Armand Versace. \n",
      "\n",
      "Giya ta gida da aka sani ita ce ‘Ta Ɗaya’, ba giya ce mai haɗe-haɗe ba, amma tana da daɗi da wartsakarwa. Ana kiran daya giyar ta gida “Manta”. \n",
      "\n",
      "Babban addini a Moldova shine Kiristocin aqidah. \n",
      "\n",
      "Alal misali, “koyo” da “cudanya” ana kallonsu a matsayin muhimman hanyoyin ƙarfafa yin amfani da yanar gizo (James et al., 1995). \n",
      "\n",
      "Kila wasu marasa lafiya sun kamu da cutar a asibiti, Dokta Moll yana tsammani, kuma aƙalla biyu sun kasance ma'aikatan kiwon lafiya na asibiti. \n",
      "\n",
      "Da zarar ka fita daga ruwan, sake komawa ruwan ba zai zo da wata sarkakiya ba. \n",
      "\n",
      "Kirsimeti wani biki ne mai mahimmanci na Kiristanci, kuma ana bikinta a matsayin ranar haihuwar Yesu. \n",
      "\n",
      "Mai magana da yawun Bush Gordon Johndroe ya kira alwashin da Koriya ta Arewa ta yi “babban mataki ne ga burin cimma nasarar narkar da makaman nukiliya na zirin Koriya.” \n",
      "\n",
      "Masu rajin ɗabi’ar yanayi da masana falsafa sun maida hankali kan tsofaffin rubuce-rubuce, musamman, akan Baibul da a ka rubuta da yaren Latin. \n",
      "\n",
      "Ra’ayoyin da aka gabatar galibi na gaggawa ne, na gaba daya kuma marar zurfin tunani idan aka kwatanta su da cikakken bayanin da ake samu a wani wuri. \n",
      "\n",
      "An yi kashedin cewa babu tabbacin cewa duk wani mataki da za’a dauka a kasar Iraki a yanzu zai iya maganin yakin banbance banbance darika, karuwar rikici ko ma dosar rashin doka da oda. \n",
      "\n",
      "Hakanan ba ta da ikon yin watsi da dokokin haraji da haraji tsakanin jihohi. \n",
      "\n",
      "Dazuzzukan ba kawai daji ne mai surkukiyar bishiyoyi da laka ba kawai - sun kunshi daya daga cikin daji mai duhu da su ka rage wanda ya mamayi yankin Gangetic. \n",
      "\n",
      "Shafe rabin sa’a na tattaki a cikin shu’umin ƙauyen ya biya. \n",
      "\n",
      "Wannan sabon muhallin yana da albarkatu daban da kuma masu gasa daban, don haka sabuwar al’umma za ta buƙaci mabambantan fasali ko karɓuwa don zama ƙaƙƙarfar mai gasafiye da abin da su ka buƙata a baya. \n",
      "\n",
      "Ba da dadewa ba, jami'an da ke sanye da kayan aikin kwantar tarzoma suka shiga yankin sun kore yan fursunan da barkonon tsohuwa. \n",
      "\n",
      "Masana kimiyya sun ce fashewar da hatsarin ya haifar na da girma. \n",
      "\n",
      "Hanya koyaushe za ta rufe dukkan batutuwan da aka tattauna a nan cikin mafi cikakken bayani, yawanci tare da ƙwarewar aiki. \n",
      "\n",
      "Manya-manyan tituna, gidajen gilashi da manyan kantunan siyayya an kawata su da jajayen rufi na gargajiya, kasuwa ta karni na 18, da wani tsohon masallaci da coci, koda yake dai garin ya fi kama da irin na turai da ke gabar bahar rum fiye da ace garin gargajiya ne a kasar Turkiya. \n",
      "\n",
      "Ilimin kimiyya yanzu ya nuna cewa wannan babban tattalin arzikin carbon ya lalata biosphere daga ɗayan ƙasashe masu tabbatacce waɗanda suke tallafawa cigaban ɗan adam shekaru miliyan biyu da suka gabata. \n",
      "\n",
      "Duk wani gyara ko buƙata za a tura ta wurin jami’in tafiye-tafiye da farko ba kai tsaye zuwa otal ba. \n",
      "\n",
      "Hanya koyaushe za ta rufe dukkan batutuwan da aka tattauna a nan cikin mafi cikakken bayani, yawanci tare da ƙwarewar aiki. \n",
      "\n",
      "Za'a iya ma'anar kayayyakin aikin hannu azaman tsoffin kayayyakin tarihi, dukda cewa sunfi saurayi irin kayan da aka girka. \n",
      "\n",
      "Ban sani ba ko kun gane shi ko a'a, amma yawancin kayayyaki daga Amurka ta Tsakiya sun shigo wannan ƙasa ba tare da biyan haraji ba. \n",
      "\n",
      "Wurin Shakatawar Ƙasa na Kruger (KNP) yana yankin arewa maso gabas na Afirka ta Kudu inda ya miƙa ta jikin iyakar oasar Mozambique a gabas, Zimbabwe a arewa, kuma a iyakar da ke Ƙoramar Kada ce. \n",
      "\n",
      "A Japan, sarkin ne ya shirya kungiyar siyasa na farko don kan sa kawai da wasu membobin da ke da martaba kewaye da kotun sarakuna.. \n",
      "\n",
      "Babban abincin, kamar na yankuna masu kama da wannan a cikin Bahar Rum, ya dogara ne akan burodi, kayan lambu da nama (musamman alade), kuma yana amfani da man zaitun ko'ina. \n",
      "\n",
      "Kori na iya kasancewa “busasshe” ko “mai ruwa” abinda ya danganta da yawan ruwan da ke jikinsa. \n",
      "\n",
      "Ana iya musayar kudi a banki daya kaɗai da ke tsibiran wanda ke ketaren Stanley daga shagon FIC West. \n",
      "\n",
      "Da lambobin yabo goma sha takwas kacal da ake da su a rana, kasashe da dama sun gaza kaiwa ga dandamalin bada lambar yabo. \n",
      "\n",
      "An yi kashedin cewa babu tabbacin cewa duk wani mataki da za’a dauka a kasar Iraki a yanzu zai iya maganin yakin banbance banbance darika, karuwar rikici ko ma dosar rashin doka da oda. \n",
      "\n",
      "Rahotanni sun nuna an kwashe tsawon daren ana wasoson kayan jama’a, sakamakon rashin jami’an tsaro a titunan Bishkek. \n",
      "\n",
      "Wurin Shakatawar Ƙasa na Kruger (KNP) yana yankin arewa maso gabas na Afirka ta Kudu inda ya miƙa ta jikin iyakar oasar Mozambique a gabas, Zimbabwe a arewa, kuma a iyakar da ke Ƙoramar Kada ce. \n",
      "\n",
      "A cikin farfajiyar majami'ar, akwai zane-zanen marmara mai ban sha'awa na kurciya akan wasu kaburburan. \n",
      "\n",
      "Ba da dadewa ba, jami'an da ke sanye da kayan aikin kwantar tarzoma suka shiga yankin sun kore yan fursunan da barkonon tsohuwa. \n",
      "\n",
      "Lambun ya dauki fili mai fadin 19,500 km² kuma ya rabu har kashi 14, kowanne na tallafa wa dabbobin daji dabam. \n",
      "\n",
      "Har yanzu suna ƙoƙarin gano yadda girman hatsarin ya kasance da kuma yadda abin zai shafi Duniya. \n",
      "\n",
      "A na biyan kamfanonin aika saƙonni sosai don isar da abubuwa da sauri. Akai-akai, lokaci yana da matukar mahimmanci game da takardun kasuwanci, abin sayarwa ko kayan gyara don gyara na gaggawa. \n",
      "\n",
      "Masu binciken sun nuna cewa, duk da cewa sun gamsu jelar ta kakannin kadangare ce, ta kuma nuna cewa ta balagagge ce ba jariri ba. \n",
      "\n",
      "Ana iya musayar kudi a banki daya kaɗai da ke tsibiran wanda ke ketaren Stanley daga shagon FIC West. \n",
      "\n",
      "Robin Uthapa ya ci makunan wasan kriket mafi sama, guduwa 70 cikin kawai ƙwallaye 41 ta hanyar bugawa huɗu guda 11 da kuma shida guda 2. \n",
      "\n",
      "Arly Velasquez na kasar Mexico ya ƙare a matsayin na goma sha biyar a jerin Super-G na maza na zaune. Adam Hall na New Zealand ya ƙare a matsayin na tara a Suƙer-G na maza na tsaye. \n",
      "\n",
      "A wajaje masu kankara, ko sanyi halin jiki na zama matsakaici ne a kasashe da yawa, kuma cinkoso na cigabawa ne ba tare da tsayawa ba. \n",
      "\n",
      "Mutanen Spain sun fara mulkin mallaka wanda ya ɗauki ƙarni uku. \n",
      "\n",
      "A duk faɗin Amurka, akwai kusan rahoto 400,000 na cutar Multiple Sclerosis (MS), abinda ya sa ta zama ja-gaba cikin ciwukan sadarwa a jiki ga matasa da masu shekaru tsaka-tsaki. \n",
      "\n",
      "Bincike a kan na’urorin mutum mutumi ya jibanci saka na’urori aiki wanda ke bukatar basira kafin aikata su. \n",
      "\n",
      "Za mu iya fara zaman nuna sabo ga muhalli, za mu iya shiga cikin yunƙurin inganta muhalli, kuma mu kan iya zama ‘yan gwagwarmaya don rage wahala nan gaba a wani mataki. \n",
      "\n",
      "Rahoton ya buɗe ne tare da roƙo don buɗe muhawara da kuma kafa yarjejeniya a Amurka game da manufofin Gabas ta Tsakiya. \n",
      "\n",
      "Tsohon kakakin majalisar Newt Gingrich, gwamnan Texas Rick Perry, da uwargidan majalisar wakilai, Michele Bachmann sun gama a mataki na hudu, na biyar, da na shida, bi da bi. \n",
      "\n",
      "Daga cikin mutane 1,400 da aka jefa kuri’a gabanin zaben tarayya na 2010, wadanda ke adawa da Australia ta zama jamhuriya sun karu da kashi 8 cikin 100 tun daga shekarar 2008. \n",
      "\n",
      "Kwari ne dabbobin da suka fara tashi cikin iska. Iya tashin su ya taimaka musu wajen kauce wa abokan gaba cikin sauki kuma su sami abinci da yin barnara sosai. \n",
      "\n",
      "A baya, Shugaban kamfanin Ring, Jamie Siminoff, ya bayyana cewa kamfanin ya fara lokacin da ba a jiyo sauti kararrawar jikin ƙofar sa daga shagonsa a cikin garejinsa. \n",
      "\n",
      "Karin Bama-bamai uku sun fashe kusa a gine-ginen gwamnati a cikin tsawon sa’aoi biyu. \n",
      "\n",
      "Lokacin hunturu na iya zama mai sanyida wasa-wasa: yanayin zafi ba safai ake yin sanyi ba, amma iska da zafi suna haduwa don sanya shi jin sanyi fiye da abin da ma'aunin zafi da sanyio ya fada. \n",
      "\n",
      "Mutanen Spain sun fara mulkin mallaka wanda ya ɗauki ƙarni uku. \n",
      "\n",
      "A Japan, sarkin ne ya shirya kungiyar siyasa na farko don kan sa kawai da wasu membobin da ke da martaba kewaye da kotun sarakuna.. \n",
      "\n",
      "A baya, Shugaban kamfanin Ring, Jamie Siminoff, ya bayyana cewa kamfanin ya fara lokacin da ba a jiyo sauti kararrawar jikin ƙofar sa daga shagonsa a cikin garejinsa. \n",
      "\n",
      "A cikin haɗin gwiwar NPWS da Sportungiyar Sporting Shooters Association of Australia (NSW) Inc, an ɗauki ƙwararrun masu sa kai, a ƙarƙashin shirin wasannin kungiyar maharba. \n",
      "\n",
      "Duk wani gyara ko buƙata za a tura ta wurin jami’in tafiye-tafiye da farko ba kai tsaye zuwa otal ba. \n",
      "\n",
      "Kori na iya kasancewa “busasshe” ko “mai ruwa” abinda ya danganta da yawan ruwan da ke jikinsa. \n",
      "\n",
      "kasancewarsa dan NSA, ya taimaka wa Carter a harkokin dokokin kasashen waje wajen kula da lamuran duniya, kamar Yarjejeniyar Camp David, 1978; daidaita alaƙar Amurka da China tana tunanin ƙarshen shekarun 1970; juyin juya halin Iran, wanda ya haifar da rikicin garkuwar da Iran, 1979; da mamayar Soviet a Afghanistan, 1979. \n",
      "\n",
      "Ra’ayoyin da aka gabatar galibi na gaggawa ne, na gaba daya kuma marar zurfin tunani idan aka kwatanta su da cikakken bayanin da ake samu a wani wuri. \n",
      "\n",
      "Wasu rahotanni sun kai adadin mutuwan zuwa takwas, kuma tabbatacciyar rahoto na tabbatar da cewa mutum 30 suka ji rauni; amma ba a san adadin ƙarshe ba. \n",
      "\n",
      "Amazon kuma shine kogi mafi fadi a Duniya, a wasu lokutan nisan mil shida. \n",
      "\n",
      "Na farko ita ce Slalom, inda ta samu nasarar Ba ta inarshe ba a wasanninta na farko. 36 daga cikin gasa 116 sun sami irin wannan sakamakon a wannan tseren. \n",
      "\n",
      "Yawancin rayuwar dangin Ibrananci sun faru ne a sararin sama. \n",
      "\n",
      "Shafe rabin sa’a na tattaki a cikin shu’umin ƙauyen ya biya. \n",
      "\n",
      "Babban addini a Moldova shine Kiristocin aqidah. \n",
      "\n",
      "Yan Portugal sun rushe shi sannan suka sake gina shi a karkashin sunan Casa Branca, amma suka watsar da shi bayan wata girgizar kasa a 1755. \n",
      "\n",
      "Bincike a kan na’urorin mutum mutumi ya jibanci saka na’urori aiki wanda ke bukatar basira kafin aikata su. \n",
      "\n",
      "Cikin abubuwan da ake ci a tsohuwar daular Rum, ba zai kasance abincin da ya zo Turai daga Amurka ba ko kuma daga Asia a karnonin da su ka zo daga baya. \n",
      "\n",
      "Wayar tauraron dan adam a gaba daya ba za ta maye gurbin wayar hannu ba, domin sai kun kasance a waje tare da yin saiti da tauraron dan adam don yin kiran da wayar. \n",
      "\n",
      "Suna iya gani sosai cikin duhu tare da ganin na dare, kuma suna tafiya cikin sanɗa. Kyanwar daji na farautar abin farautar su ta hanyar sajewa da wurin da su ke sannan su dirar wa abin farautar su. \n",
      "\n",
      "Ruwan gishiri na Kaduna ba ya rayuwa a cikin teku, asalin wurin zaman su shine a cikin kogin estuaries a arewa daga Rockhampton. \n",
      "\n",
      "An ba da rahoton kamuwa da cutar na farko a wannan kakar a karshen Yuli. \n",
      "\n",
      "Lokacin da fada ya barke bayan an kai wadanda suka ji rauni zuwa asibiti, kusan sauran fursunoni 40 da suka rage sun zauna a farfajiyar kuma sun ki komawa dakinsu. \n",
      "\n",
      "Shahararun mawaka a faɗin ƙasar sun gabatar da bhajans, ko wakokin ibada, zuw ga kafafun Shri Sham. \n",
      "\n",
      "Wannan sabon muhallin yana da albarkatu daban da kuma masu gasa daban, don haka sabuwar al’umma za ta buƙaci mabambantan fasali ko karɓuwa don zama ƙaƙƙarfar mai gasafiye da abin da su ka buƙata a baya. \n",
      "\n",
      "Watakila Safaris ita ce mafi girman zane-zanen yawon buda ido a Afirka kuma abin birgewa ga baƙi da yawa. \n",
      "\n",
      "Za mu iya fara zaman nuna sabo ga muhalli, za mu iya shiga cikin yunƙurin inganta muhalli, kuma mu kan iya zama ‘yan gwagwarmaya don rage wahala nan gaba a wani mataki. \n",
      "\n",
      "Farantai 108 na Chhappan Bhog (a Indiyanci, kayan abinci daban-daban gud 56, kamar, Alewa, 'ya'yan itace, masu kwanso, abinci da sauran su waɗanda aka bayar ga abin bauta) ga Baba Shyam. \n",
      "\n",
      "Masu rajin ɗabi’ar yanayi da masana falsafa sun maida hankali kan tsofaffin rubuce-rubuce, musamman, akan Baibul da a ka rubuta da yaren Latin. \n",
      "\n",
      "Daga cikin mutane 1,400 da aka jefa kuri’a gabanin zaben tarayya na 2010, wadanda ke adawa da Australia ta zama jamhuriya sun karu da kashi 8 cikin 100 tun daga shekarar 2008. \n",
      "\n",
      "Da zarar ka fita daga ruwan, sake komawa ruwan ba zai zo da wata sarkakiya ba. \n",
      "\n",
      "Saboda doguwar nesa daga nahiyoyi masu shayarwa ba su iya yin tafiyar ba wanda ya sa katowar kunkuru matsayin dabba ta farko da ake kiwo a Galapagos. \n",
      "\n",
      "Na gaba, wasu siddi, mussamman siddin Ingila, na dauke da kariya dake barin fata ya fita daga siddin yayin da mai hawa ya janyo shi baya gabanin fadowa. \n",
      "\n",
      "Membobin masana'antar sau da yawa suna nuna alamar kasancewa memba ta hanyar rarrabe mai amfani da alama ta salon, wanda ya haɗa da salon, halayen kirki, da ɗaukar hoto. \n",
      "\n",
      "Misalin ire-iren ayyukan sun hada farauta, kama kifi, yin hoto, kallon tsuntsaye da kuma ziyartar wurin hutawa da kuma koyan ilimi game da labarin muhallin. \n",
      "\n",
      "A lokuta da dama shiga/fara kwas na ratan shekara guda a ketare zai iya inganta damammakinka na kara nosawa gaba a karatu idan ka dawo kasar haihuwarka. \n",
      "\n",
      "Ta kai ga wannan matsayin ne saboda yawan tofa albarkatun bakin mutane tare da kwarin gwiwa wanda maza da mata ke rokar cewa amfani da magungunan hana haihuwa sun zama dole. \n",
      "\n",
      "Ya ce, ya gina ƙararrawar ƙofa ta WiFi. \n",
      "\n",
      "Babbar manufar kimiyya ita ce gano yadda duniya ke wanzuwa ta hanyar kimiyya. Alal hakika wannan hanya ta bincike ita ce ke yin jagora ga mafi yawan bincike na kimiyya. \n",
      "\n",
      "Misalin ire-iren ayyukan sun hada farauta, kama kifi, yin hoto, kallon tsuntsaye da kuma ziyartar wurin hutawa da kuma koyan ilimi game da labarin muhallin. \n",
      "\n",
      "Wannan ya zama aikin gama gari, sai ƙarfe ya haifar da ƙarin lalacewa a ƙafafun katako na kekunan. \n",
      "\n",
      "Wasa kan dusar kankara wasa ne na masu tafiye-tafiye da masun goyon baya da yawa, a wasu lokatai an san shi da “ski bums,” suna tsara dukkan hutu ga wasa kan dusan kankara a wani wuri na musamman. \n",
      "\n",
      "Kirsimeti wani biki ne mai mahimmanci na Kiristanci, kuma ana bikinta a matsayin ranar haihuwar Yesu. \n",
      "\n",
      "Buddhist na Tibet ya dogara ne da koyarwar Buddha, amma hanyar mahayana da ta hanyar fasahar India da yawa sun ninka ta. \n",
      "\n",
      "Jirgin ruwa na cikin gida na iya zama jigo mai kyau don kafa hutu a kusa. \n",
      "\n",
      "Bisa ga fadin yan sanda, direban motan da ya buge mai hoton na iya fuskantan zargin aikata laifi. \n",
      "\n",
      "Japans suna riƙe da kusan tsibirai 7,000 (babba shine Honshu), yana mai sanya Japan tsibiri na 7 mafi girma a duniya! \n",
      "\n",
      "Kafin wata ma’aikata ta zama mai kirkira, dole jagoranci ya samar da wata al’ada ta kirki da kuma musayar ilimi da tsarin koyo na ma’aikata. \n",
      "\n"
     ]
    },
    {
     "name": "stdout",
     "output_type": "stream",
     "text": [
      "Gasar wasannin mafi girma a shekara ana yin ta ne a watan Disamba a filayen wasan ƙwallon dawakai da ke Las Cantas. \n",
      "\n",
      "Masana kimiyya sun ce fashewar da hatsarin ya haifar na da girma. \n",
      "\n",
      "Kuɗaɗen ɗaukar nauyin yaƙi na mulkin mallakar Amurka a yakin mallake Philippines mutanen Phillippines ne da kansu suka biya. \n",
      "\n",
      "Har yanzu suna ƙoƙarin gano yadda girman hatsarin ya kasance da kuma yadda abin zai shafi Duniya. \n",
      "\n",
      "Tun da dalibai sune galibin wadanda suka ziyartar shafi, mawallafin shafin intanet lallai ne ya yi kokarin inganta salon rubutunsa saboda gujewa suka. \n",
      "\n",
      "Idan ka ziyarci nahiyar Arctic ko Antarctica a lokacin hunturu zaka tsinkayi daren sanyi, wanda a lokacinsa rana bata fitowa. \n",
      "\n",
      "Masana ilimin kimiyya suna tunanin cewa ocelots na bin dabbobi da kama su ta hanyar sansanar sawun inda su ka bi su ka wuce. \n",
      "\n",
      "Mahukuntan yankin suna gargadin mazauna yankin da ke kusa da masana’antar da su kasance cikin gidajensu, a kashe na’urorin sanyaya ɗaki kuma kada a sha ruwan famfo. \n",
      "\n",
      "Kirsimeti wani biki ne mai mahimmanci na Kiristanci, kuma ana bikinta a matsayin ranar haihuwar Yesu. \n",
      "\n",
      "Na farko ita ce Slalom, inda ta samu nasarar Ba ta inarshe ba a wasanninta na farko. 36 daga cikin gasa 116 sun sami irin wannan sakamakon a wannan tseren. \n",
      "\n",
      "Na kasa fahimtar abin, hakika babu adalci a ciki. \n",
      "\n",
      "Mazaje na Poland masu fama da rashin gani a wasan ƙwallon ƙafa Maciej Krezel da jagorar Anna Ogarzynska sun gama na goma sha uku a gasar Super-G. Jong Seork Park na Koriya ta Kudu ya kammala na ashirin da huɗu a gasar maza ta Super-G. \n",
      "\n",
      "Marar lafiyar ya je Najeriya, inda aka samu wasu sun kamu da cutar ta Ebola. \n",
      "\n",
      "Sakamakon binciken makirci za'a sanya shi zuwa gidan yanar gizon jama'a. \n",
      "\n",
      "Babbar manufar kimiyya ita ce gano yadda duniya ke wanzuwa ta hanyar kimiyya. Alal hakika wannan hanya ta bincike ita ce ke yin jagora ga mafi yawan bincike na kimiyya. \n",
      "\n",
      "Misalin ire-iren ayyukan sun hada farauta, kama kifi, yin hoto, kallon tsuntsaye da kuma ziyartar wurin hutawa da kuma koyan ilimi game da labarin muhallin. \n",
      "\n",
      "An ba da rahoton kamuwa da cutar na farko a wannan kakar a karshen Yuli. \n",
      "\n",
      "Asalin al’umman basu canza ba ko kadan, suna bukatan karbuwa kamar da. \n",
      "\n",
      "Isra'ila ta bukaci sojoji su ci gaba da kasancewa a kwarin na tsawon shekaru goma matukar an rattaba hannu yayin da hukumar falasdinawa ta amince da barin irin wannan kasancewar na tsawon shekaru biyar kacal. \n",
      "\n",
      "Lokacin da fada ya barke bayan an kai wadanda suka ji rauni zuwa asibiti, kusan sauran fursunoni 40 da suka rage sun zauna a farfajiyar kuma sun ki komawa dakinsu. \n",
      "\n",
      "Manya-manyan tituna, gidajen gilashi da manyan kantunan siyayya an kawata su da jajayen rufi na gargajiya, kasuwa ta karni na 18, da wani tsohon masallaci da coci, koda yake dai garin ya fi kama da irin na turai da ke gabar bahar rum fiye da ace garin gargajiya ne a kasar Turkiya. \n",
      "\n",
      "Da aka nemi tsokacinsa, sai Miller ya ce, “Mike ya yi magana da yawa lokacin zaman jin ba’asin...ina kan shiri saboda haka ban saurari abin da yake cewa ba.” \n",
      "\n",
      "Fasaha tana ba da mafita tare da tafiye-tafiye na fili. Dalibai na iya kallon kayan tarihin, ziyartar akwatin kifaye, ko kuma sha'awar kyawawan fasaha yayin zama tare da ajinsu. \n",
      "\n",
      "An san ƙasar Argentina da mallakar ɗaya daga cikin ƙungiyoyin wasan ƙwallon doki da ‘yan wasa mafi nagarta a duniya. \n",
      "\n",
      "A firgice Sarki Louis da Sarauniya Marie Antoinette da yayansu guda biyu (Marie yar shekaru 11 da kuma Louis-Charles dan shekara hudu) da kuma yar'uwar Sarki, Madam Elizabeth, wadanda matan kasuwa masu bore a ranar 6 ga watan Oktoba 1789 sun tilasta musu komawa birnin Faris daga garin Versailles. \n",
      "\n",
      "A Japan, sarkin ne ya shirya kungiyar siyasa na farko don kan sa kawai da wasu membobin da ke da martaba kewaye da kotun sarakuna.. \n",
      "\n",
      "Da fatan za a kula da rukunin yanar gizon tare da dukkan mutunci, girmamawa da girmama shi. Kada ku yi ba'a game da fitinar Holocaust ko Nazis. \n",
      "\n",
      "Hatiminsa na 1,000 ya kasance mafi kyawun “Maɗaukakan Ayyuka na Sarakunan Sweden” da David Klocker Ehrenstrahi ya yi a shekarar 2000, wanda aka sanya a cikin Littafin Bayanan Al’ajabi na Guinness. \n",
      "\n",
      "‘Yan sanda sun ce da alama gawar ta kai tsawon kwana daya a wurin. \n",
      "\n",
      "Watakila Safaris ita ce mafi girman zane-zanen yawon buda ido a Afirka kuma abin birgewa ga baƙi da yawa. \n",
      "\n",
      "Fasaha tana ba da mafita tare da tafiye-tafiye na fili. Dalibai na iya kallon kayan tarihin, ziyartar akwatin kifaye, ko kuma sha'awar kyawawan fasaha yayin zama tare da ajinsu. \n",
      "\n",
      "Yawancin hanyoyin gama gari na yau da kullun (misali tsarin APS na iyali) ya kusa da wannan tsari. \n",
      "\n",
      "A na biyan kamfanonin aika saƙonni sosai don isar da abubuwa da sauri. Akai-akai, lokaci yana da matukar mahimmanci game da takardun kasuwanci, abin sayarwa ko kayan gyara don gyara na gaggawa. \n",
      "\n",
      "Tsibiran Gabashin Afirka suna cikin Tekun India kusa da gaɓar gabashin Afirka. \n",
      "\n",
      "Jirgin ruwa na cikin gida na iya zama jigo mai kyau don kafa hutu a kusa. \n",
      "\n",
      "Hakanan ba ta da ikon yin watsi da dokokin haraji da haraji tsakanin jihohi. \n",
      "\n",
      "Kodayake mutane uku ke ciki lokacin da motar ta yi karo da gidan, amma ba wanda da ya ji rauni a cikinsu. \n",
      "\n",
      "Idan aka haɗu da rashin damar isa can, Sunan “Timbuktu” ya zama abin misaltawa ga wuraren nesa, masu wuyar zuwa. \n",
      "\n",
      "Lokacin da kuka kira wanda yake da nisan duban mil kuna amfani da tauraron dan adam. \n",
      "\n",
      "Kori na iya kasancewa “busasshe” ko “mai ruwa” abinda ya danganta da yawan ruwan da ke jikinsa. \n",
      "\n",
      "Masana ilimin kimiya sun ce fiffiken dabbar launi kasa ne a sama mai dauke da kodaden launi da launin toka-toka ta karkashin ta. \n",
      "\n",
      "Kyawawan siffofin da suke tabbatar da wata ƙaramar al’ada a matsayin wadda ta fita daban kan iya kasancewa na yare, kyau, addini, siyasa, jinsi, na yanki, ko hadin abubuwa. \n",
      "\n",
      "Yawancin rayuwar dangin Ibrananci sun faru ne a sararin sama. \n",
      "\n",
      "A duk faɗin Amurka, akwai kusan rahoto 400,000 na cutar Multiple Sclerosis (MS), abinda ya sa ta zama ja-gaba cikin ciwukan sadarwa a jiki ga matasa da masu shekaru tsaka-tsaki. \n",
      "\n",
      "Farantai 108 na Chhappan Bhog (a Indiyanci, kayan abinci daban-daban gud 56, kamar, Alewa, 'ya'yan itace, masu kwanso, abinci da sauran su waɗanda aka bayar ga abin bauta) ga Baba Shyam. \n",
      "\n",
      "Tsarin gashin fuka-fukan ya nuna cewa ba ana amfani da su ba ne domin tashi sama, sai dai domin samar da tsarin daidaiton dumin jiki da kuma motsawa. Binciken ya nuna cewa duk da cewa jelar ta wani karamin kakan kadangare ce, abin na nuna cewa gashin balagagge ne ba na dan tsako ba. \n",
      "\n",
      "Japans suna riƙe da kusan tsibirai 7,000 (babba shine Honshu), yana mai sanya Japan tsibiri na 7 mafi girma a duniya! \n",
      "\n",
      "Ra’ayoyin da aka gabatar galibi na gaggawa ne, na gaba daya kuma marar zurfin tunani idan aka kwatanta su da cikakken bayanin da ake samu a wani wuri. \n",
      "\n",
      "Na rasa yar uwata tare da kawarta, kuma a hanya na gamu da wasu nakasassu biyu a kan keke, jama’a suna ta tsallake su tare da tura su,” inji Armand Versace. \n",
      "\n",
      "An san ƙasar Argentina da mallakar ɗaya daga cikin ƙungiyoyin wasan ƙwallon doki da ‘yan wasa mafi nagarta a duniya. \n",
      "\n",
      "Shi ne CEP Matelly na biyar cikin shekara hudu. \n",
      "\n",
      "Karin Bama-bamai uku sun fashe kusa a gine-ginen gwamnati a cikin tsawon sa’aoi biyu. \n",
      "\n",
      "Waɗannan hasashe suna nuna cewa mutane suna da wasu buƙatu da/ko sha'awa waɗanda akai maida su ciki yayin da suke manyanta zuwa balaga. \n",
      "\n",
      "Japans suna riƙe da kusan tsibirai 7,000 (babba shine Honshu), yana mai sanya Japan tsibiri na 7 mafi girma a duniya! \n",
      "\n",
      "Da zarar ka fita daga ruwan, sake komawa ruwan ba zai zo da wata sarkakiya ba. \n",
      "\n",
      "Da lambobin yabo goma sha takwas kacal da ake da su a rana, kasashe da dama sun gaza kaiwa ga dandamalin bada lambar yabo. \n",
      "\n",
      "Za mu iya fara zaman nuna sabo ga muhalli, za mu iya shiga cikin yunƙurin inganta muhalli, kuma mu kan iya zama ‘yan gwagwarmaya don rage wahala nan gaba a wani mataki. \n",
      "\n",
      "Sabuwar Daula ta daulolin baya na Misra su na yaba yadda kakanninsu su ka giggina abubuwa na tarihi, wadanda ko a wancan lokacin sun haura shekaru dubu. \n",
      "\n",
      "Wasa kan dusar kankara wasa ne na masu tafiye-tafiye da masun goyon baya da yawa, a wasu lokatai an san shi da “ski bums,” suna tsara dukkan hutu ga wasa kan dusan kankara a wani wuri na musamman. \n",
      "\n",
      "Da fatan za a kula da rukunin yanar gizon tare da dukkan mutunci, girmamawa da girmama shi. Kada ku yi ba'a game da fitinar Holocaust ko Nazis. \n",
      "\n",
      "Wani tsohon dan sanda na Philippines ya tsare mutanen da ke yawon bude ido a Hong Kong ta hanyar satar motar bas din su a Manila, babban birnin Philippines. \n",
      "\n",
      "Na gaba, wasu siddi, mussamman siddin Ingila, na dauke da kariya dake barin fata ya fita daga siddin yayin da mai hawa ya janyo shi baya gabanin fadowa. \n",
      "\n",
      "A bisa ƙa’ida Budancin Tibet yana da sauƙi. Ya kunshi tsarin motsa jiki na Yoga, kadaicewa domin tunani da kuma bin tafarkin son kowa da komai. \n",
      "\n",
      "Za ka iya ganin dalar a cikin duhu kuma za ka iya ganin su a tsanake kafin shirin ya fara. \n",
      "\n",
      "Isra'ila ta bukaci sojoji su ci gaba da kasancewa a kwarin na tsawon shekaru goma matukar an rattaba hannu yayin da hukumar falasdinawa ta amince da barin irin wannan kasancewar na tsawon shekaru biyar kacal. \n",
      "\n",
      "Bayan ganin munanan abubuwa da munanan yaƙe-yaƙe yayin Yaƙin Duniya na ɗaya, al'ummomi sun so su guje wa irin wannan yanayin a nan gaba. \n",
      "\n",
      "Babban abincin, kamar na yankuna masu kama da wannan a cikin Bahar Rum, ya dogara ne akan burodi, kayan lambu da nama (musamman alade), kuma yana amfani da man zaitun ko'ina. \n",
      "\n",
      "Yankin arewacin ko Sentinel Range yana da tsaunukan tsaunuka mafi girma na Antarctica, Vinson Massif, wanda yake hawa sama a tsaunin 4892 m Mount Vinson. \n",
      "\n",
      "Alal misali, “koyo” da “cudanya” ana kallonsu a matsayin muhimman hanyoyin ƙarfafa yin amfani da yanar gizo (James et al., 1995). \n",
      "\n",
      "Tun da dalibai sune galibin wadanda suka ziyartar shafi, mawallafin shafin intanet lallai ne ya yi kokarin inganta salon rubutunsa saboda gujewa suka. \n",
      "\n",
      "An yanke cewa za’a sare ta ranar Talata, amma sai wani hukunci gaggawa na kotu ya ceci lamarin. \n",
      "\n",
      "Shi ne CEP Matelly na biyar cikin shekara hudu. \n",
      "\n",
      "Karin Bama-bamai uku sun fashe kusa a gine-ginen gwamnati a cikin tsawon sa’aoi biyu. \n",
      "\n",
      "Ya kamata mata su gane cewa bambamcin al’ada na iya haifar da sakamako wanda za’a gani kaman cin zarafi da bi wanda ba a sani ba, kama da hannu, da makamancin su.. \n",
      "\n",
      "Kafin wata ma’aikata ta zama mai kirkira, dole jagoranci ya samar da wata al’ada ta kirki da kuma musayar ilimi da tsarin koyo na ma’aikata. \n",
      "\n",
      "Kodayake ana amfani da shi ko'ina, musamman tsakanin waɗanda ba Romani ba, kalmar “Gypsy” galibi ana ɗaukarta abin ƙyama ne saboda ƙungiyoyinta da ra'ayoyi marasa kyau da ra'ayoyi marasa kyau game da mutanen Romani. \n",
      "\n",
      "Masana ilimin kimiyya suna tunanin cewa ocelots na bin dabbobi da kama su ta hanyar sansanar sawun inda su ka bi su ka wuce. \n",
      "\n",
      "Ban sani ba ko kun gane shi ko a'a, amma yawancin kayayyaki daga Amurka ta Tsakiya sun shigo wannan ƙasa ba tare da biyan haraji ba. \n",
      "\n",
      "Da aka nemi tsokacinsa, sai Miller ya ce, “Mike ya yi magana da yawa lokacin zaman jin ba’asin...ina kan shiri saboda haka ban saurari abin da yake cewa ba.” \n",
      "\n",
      "Lokacin da fada ya barke bayan an kai wadanda suka ji rauni zuwa asibiti, kusan sauran fursunoni 40 da suka rage sun zauna a farfajiyar kuma sun ki komawa dakinsu. \n",
      "\n",
      "An tashi wasan da banbancin maki daya, wato 20-21, abinda ya kawo karshen samun nasarar All Black karo na 15 a jere. \n",
      "\n",
      "Ya kamata mata su gane cewa bambamcin al’ada na iya haifar da sakamako wanda za’a gani kaman cin zarafi da bi wanda ba a sani ba, kama da hannu, da makamancin su.. \n",
      "\n",
      "Babban addini a Moldova shine Kiristocin aqidah. \n",
      "\n",
      "Wanda ya lashe lambar zinare a gasar Olympics ya kamata ne ya yi iyo a tseren mita 100 da 200 kuma a cikin wasanni uku a wasannin Commonwealth, amma saboda korafin da ya yi ya nuna shakku kan lafiyar sa. \n",
      "\n",
      "Shugaban Amurka George W. Bush ya yi maraba da sanarwar. \n",
      "\n",
      "Labaran sun buƙaci yarjejeniya baki ɗaya daga dukkan jihohin kafin a iya gyara su kuma jihohi sun ɗauki gwamnatin tarraya a sauƙaƙe cewa wakilansu ba su nan. \n",
      "\n",
      "Yankin arewacin ko Sentinel Range yana da tsaunukan tsaunuka mafi girma na Antarctica, Vinson Massif, wanda yake hawa sama a tsaunin 4892 m Mount Vinson. \n",
      "\n",
      "Larabawa kuma sun shigo da Musulunci zuwa kasashe kuma ya yi tasiri sosai Comoros da Mayotte. \n",
      "\n",
      "Kodayake mutane uku ke ciki lokacin da motar ta yi karo da gidan, amma ba wanda da ya ji rauni a cikinsu. \n",
      "\n",
      "Kodayake ana amfani da shi ko'ina, musamman tsakanin waɗanda ba Romani ba, kalmar “Gypsy” galibi ana ɗaukarta abin ƙyama ne saboda ƙungiyoyinta da ra'ayoyi marasa kyau da ra'ayoyi marasa kyau game da mutanen Romani. \n",
      "\n",
      "Bincike a kan na’urorin mutum mutumi ya jibanci saka na’urori aiki wanda ke bukatar basira kafin aikata su. \n",
      "\n",
      "Mazaje na Poland masu fama da rashin gani a wasan ƙwallon ƙafa Maciej Krezel da jagorar Anna Ogarzynska sun gama na goma sha uku a gasar Super-G. Jong Seork Park na Koriya ta Kudu ya kammala na ashirin da huɗu a gasar maza ta Super-G. \n",
      "\n",
      "Babu wani daji mai girma a ƙasar Kan'ana, saboda haka katako yana da tsada. \n",
      "\n",
      "Hakanan ba ta da ikon yin watsi da dokokin haraji da haraji tsakanin jihohi. \n",
      "\n",
      "A firgice Sarki Louis da Sarauniya Marie Antoinette da yayansu guda biyu (Marie yar shekaru 11 da kuma Louis-Charles dan shekara hudu) da kuma yar'uwar Sarki, Madam Elizabeth, wadanda matan kasuwa masu bore a ranar 6 ga watan Oktoba 1789 sun tilasta musu komawa birnin Faris daga garin Versailles. \n",
      "\n",
      "A wajaje masu kankara, ko sanyi halin jiki na zama matsakaici ne a kasashe da yawa, kuma cinkoso na cigabawa ne ba tare da tsayawa ba. \n",
      "\n",
      "Babbar manufar kimiyya ita ce gano yadda duniya ke wanzuwa ta hanyar kimiyya. Alal hakika wannan hanya ta bincike ita ce ke yin jagora ga mafi yawan bincike na kimiyya. \n",
      "\n",
      "A kan lokaci, yayin da sabbin yawan jama’a suka fara daidaita da sabon yanayin su, sai su fara dawo kadan da kadan kamar waɗancan yawan jama'a. \n",
      "\n",
      "Duk da haka kashi tamanin cikin kayan mu sun samu haraji a kasashen Amurka ta tsakiya. Zamu kula da kai. \n",
      "\n",
      "Manya-manyan tituna, gidajen gilashi da manyan kantunan siyayya an kawata su da jajayen rufi na gargajiya, kasuwa ta karni na 18, da wani tsohon masallaci da coci, koda yake dai garin ya fi kama da irin na turai da ke gabar bahar rum fiye da ace garin gargajiya ne a kasar Turkiya. \n",
      "\n",
      "Har yanzu suna ƙoƙarin gano yadda girman hatsarin ya kasance da kuma yadda abin zai shafi Duniya. \n",
      "\n",
      "Kwari ne dabbobin da suka fara tashi cikin iska. Iya tashin su ya taimaka musu wajen kauce wa abokan gaba cikin sauki kuma su sami abinci da yin barnara sosai. \n",
      "\n",
      "Yana amfani da fasahar tauraron dan adam maimakon amfani da rada a doron kasa domin baiwa masu kula da zirga zirgar jiragen sama damar gane inda jirage su ke babu kuskure ta yadda za su iya baiwa matukan jirgin sama cikakkun bayanai. \n",
      "\n",
      "Majalisar dinkin duniya na kokarin hada kudade domin tallafawa kasashe wadanda ke fama da sauyin yanayi. \n",
      "\n",
      "Waɗannan hasashe suna nuna cewa mutane suna da wasu buƙatu da/ko sha'awa waɗanda akai maida su ciki yayin da suke manyanta zuwa balaga. \n",
      "\n",
      "Na rasa yar uwata tare da kawarta, kuma a hanya na gamu da wasu nakasassu biyu a kan keke, jama’a suna ta tsallake su tare da tura su,” inji Armand Versace. \n",
      "\n",
      "Ilimin kimiyya yanzu ya nuna cewa wannan babban tattalin arzikin carbon ya lalata biosphere daga ɗayan ƙasashe masu tabbatacce waɗanda suke tallafawa cigaban ɗan adam shekaru miliyan biyu da suka gabata. \n",
      "\n",
      "An tashi wasan da banbancin maki daya, wato 20-21, abinda ya kawo karshen samun nasarar All Black karo na 15 a jere. \n",
      "\n",
      "Kuɗaɗen ɗaukar nauyin yaƙi na mulkin mallakar Amurka a yakin mallake Philippines mutanen Phillippines ne da kansu suka biya. \n",
      "\n",
      "Arly Velasquez na kasar Mexico ya ƙare a matsayin na goma sha biyar a jerin Super-G na maza na zaune. Adam Hall na New Zealand ya ƙare a matsayin na tara a Suƙer-G na maza na tsaye. \n",
      "\n",
      "Shafe rabin sa’a na tattaki a cikin shu’umin ƙauyen ya biya. \n",
      "\n",
      "Yan Portugal sun rushe shi sannan suka sake gina shi a karkashin sunan Casa Branca, amma suka watsar da shi bayan wata girgizar kasa a 1755. \n",
      "\n",
      "Wannan sabon muhallin yana da albarkatu daban da kuma masu gasa daban, don haka sabuwar al’umma za ta buƙaci mabambantan fasali ko karɓuwa don zama ƙaƙƙarfar mai gasafiye da abin da su ka buƙata a baya. \n",
      "\n",
      "Larabawa kuma sun shigo da Musulunci zuwa kasashe kuma ya yi tasiri sosai Comoros da Mayotte. \n",
      "\n",
      "Wasu dabbobi, kamar giwaye da raƙuman dawa, su kan je kusa da motoci kuma na’ura mai kyau za ta ba da damar kallo sosai. \n",
      "\n",
      "Masana ilimin kimiya sun ce fiffiken dabbar launi kasa ne a sama mai dauke da kodaden launi da launin toka-toka ta karkashin ta. \n",
      "\n",
      "Lokacin da kuka kira wanda yake da nisan duban mil kuna amfani da tauraron dan adam. \n",
      "\n",
      "Kyawawan siffofin da suke tabbatar da wata ƙaramar al’ada a matsayin wadda ta fita daban kan iya kasancewa na yare, kyau, addini, siyasa, jinsi, na yanki, ko hadin abubuwa. \n",
      "\n",
      "Masana ilimin kimiyya suna tunanin cewa ocelots na bin dabbobi da kama su ta hanyar sansanar sawun inda su ka bi su ka wuce. \n",
      "\n",
      "Kila wasu marasa lafiya sun kamu da cutar a asibiti, Dokta Moll yana tsammani, kuma aƙalla biyu sun kasance ma'aikatan kiwon lafiya na asibiti. \n",
      "\n",
      "A wajaje masu kankara, ko sanyi halin jiki na zama matsakaici ne a kasashe da yawa, kuma cinkoso na cigabawa ne ba tare da tsayawa ba. \n",
      "\n",
      "Tsarin gashin fuka-fukan ya nuna cewa ba ana amfani da su ba ne domin tashi sama, sai dai domin samar da tsarin daidaiton dumin jiki da kuma motsawa. Binciken ya nuna cewa duk da cewa jelar ta wani karamin kakan kadangare ce, abin na nuna cewa gashin balagagge ne ba na dan tsako ba. \n",
      "\n",
      "Daga cikin mutane 1,400 da aka jefa kuri’a gabanin zaben tarayya na 2010, wadanda ke adawa da Australia ta zama jamhuriya sun karu da kashi 8 cikin 100 tun daga shekarar 2008. \n",
      "\n",
      "Waɗansu bukukuwan na da wurin sansani na musamman domin iyalai da ke da ƙananan yara. \n",
      "\n",
      "Akwai gaɓar teku mai rairayi da dama, sakamakon zagaye tasoshin jiragen ruwa biyu da Auckland ta yi. Fitattun cikinsu suna cikin yankuna uku. \n",
      "\n",
      "Buddhist na Tibet ya dogara ne da koyarwar Buddha, amma hanyar mahayana da ta hanyar fasahar India da yawa sun ninka ta. \n",
      "\n",
      "Babu wani daji mai girma a ƙasar Kan'ana, saboda haka katako yana da tsada. \n",
      "\n",
      "Giya ta gida da aka sani ita ce ‘Ta Ɗaya’, ba giya ce mai haɗe-haɗe ba, amma tana da daɗi da wartsakarwa. Ana kiran daya giyar ta gida “Manta”. \n",
      "\n",
      "An yanke cewa za’a sare ta ranar Talata, amma sai wani hukunci gaggawa na kotu ya ceci lamarin. \n",
      "\n",
      "Wani tsohon dan sanda na Philippines ya tsare mutanen da ke yawon bude ido a Hong Kong ta hanyar satar motar bas din su a Manila, babban birnin Philippines. \n",
      "\n",
      "Wayar tauraron dan adam a gaba daya ba za ta maye gurbin wayar hannu ba, domin sai kun kasance a waje tare da yin saiti da tauraron dan adam don yin kiran da wayar. \n",
      "\n",
      "NHK ta kuma ruwaito cewa masana’antar samar da makamashin nukiliya ta Kashiwazaki Kariwa a gundumar Niigata tana aiki yadda yakamata. \n",
      "\n",
      "A bisa ƙa’ida Budancin Tibet yana da sauƙi. Ya kunshi tsarin motsa jiki na Yoga, kadaicewa domin tunani da kuma bin tafarkin son kowa da komai. \n",
      "\n"
     ]
    }
   ],
   "source": [
    "for i in load_dataset(\"google/fleurs\", \"ha_ng\", split=\"validation\", cache_dir=cache_dir):\n",
    "   print(i[\"raw_transcription\"], \"\\n\")\n"
   ]
  },
  {
   "cell_type": "code",
   "execution_count": 27,
   "id": "0b69a767",
   "metadata": {},
   "outputs": [
    {
     "name": "stderr",
     "output_type": "stream",
     "text": [
      "Found cached dataset fleurs (/data/users/kashrest/asr-experiments/google___fleurs/ha_ng/2.0.0/af82dbec419a815084fa63ebd5d5a9f24a6e9acdf9887b9e3b8c6bbd64e0b7ac)\n"
     ]
    },
    {
     "name": "stdout",
     "output_type": "stream",
     "text": [
      "78440\n"
     ]
    },
    {
     "name": "stderr",
     "output_type": "stream",
     "text": [
      "Found cached dataset fleurs (/data/users/kashrest/asr-experiments/google___fleurs/ha_ng/2.0.0/af82dbec419a815084fa63ebd5d5a9f24a6e9acdf9887b9e3b8c6bbd64e0b7ac)\n"
     ]
    },
    {
     "name": "stdout",
     "output_type": "stream",
     "text": [
      "7188\n"
     ]
    },
    {
     "name": "stderr",
     "output_type": "stream",
     "text": [
      "Found cached dataset fleurs (/data/users/kashrest/asr-experiments/google___fleurs/ha_ng/2.0.0/af82dbec419a815084fa63ebd5d5a9f24a6e9acdf9887b9e3b8c6bbd64e0b7ac)\n"
     ]
    },
    {
     "name": "stdout",
     "output_type": "stream",
     "text": [
      "15632\n"
     ]
    },
    {
     "data": {
      "text/plain": [
       "86"
      ]
     },
     "execution_count": 27,
     "metadata": {},
     "output_type": "execute_result"
    }
   ],
   "source": [
    "entire_transcript = \"\"\n",
    "\n",
    "count_chars = 0\n",
    "for i in load_dataset(\"google/fleurs\", \"ha_ng\", split=\"train\", cache_dir=cache_dir):\n",
    "    entire_transcript += \" \".join(i[\"raw_transcription\"].lower())\n",
    "    count_chars += len(i[\"raw_transcription\"].split(\" \"))\n",
    "print(count_chars)\n",
    "    \n",
    "count_chars = 0\n",
    "for i in load_dataset(\"google/fleurs\", \"ha_ng\", split=\"validation\", cache_dir=cache_dir):\n",
    "    entire_transcript += \" \".join(i[\"raw_transcription\"].lower())\n",
    "    count_chars += len(i[\"raw_transcription\"].split(\" \"))\n",
    "print(count_chars)\n",
    "\n",
    "count_chars = 0\n",
    "for i in load_dataset(\"google/fleurs\", \"ha_ng\", split=\"test\", cache_dir=cache_dir):\n",
    "    entire_transcript += \" \".join(i[\"raw_transcription\"].lower())\n",
    "    count_chars += len(i[\"raw_transcription\"].split(\" \"))\n",
    "print(count_chars)\n",
    "\n",
    "len(set(entire_transcript))"
   ]
  },
  {
   "cell_type": "code",
   "execution_count": 28,
   "id": "dc10462f",
   "metadata": {
    "collapsed": true
   },
   "outputs": [
    {
     "data": {
      "text/plain": [
       "[(' ', 655761),\n",
       " ('a', 119333),\n",
       " ('n', 44392),\n",
       " ('i', 38084),\n",
       " ('k', 23048),\n",
       " ('u', 22169),\n",
       " ('r', 21454),\n",
       " ('s', 20832),\n",
       " ('d', 19000),\n",
       " ('y', 15845),\n",
       " ('m', 15793),\n",
       " ('t', 14224),\n",
       " ('e', 13943),\n",
       " ('w', 11449),\n",
       " ('b', 10627),\n",
       " ('o', 10601),\n",
       " ('h', 8682),\n",
       " ('g', 8023),\n",
       " ('l', 7278),\n",
       " ('c', 6903),\n",
       " ('f', 5321),\n",
       " ('.', 4772),\n",
       " (',', 4319),\n",
       " ('z', 3511),\n",
       " ('j', 3310),\n",
       " ('ƙ', 1990),\n",
       " ('ɗ', 1203),\n",
       " ('0', 1063),\n",
       " ('p', 959),\n",
       " ('1', 765),\n",
       " ('-', 723),\n",
       " ('’', 669),\n",
       " (\"'\", 622),\n",
       " ('2', 464),\n",
       " ('v', 370),\n",
       " ('(', 357),\n",
       " (')', 355),\n",
       " ('“', 327),\n",
       " ('”', 310),\n",
       " ('9', 304),\n",
       " ('ɓ', 288),\n",
       " ('5', 277),\n",
       " ('3', 236),\n",
       " ('4', 236),\n",
       " ('8', 233),\n",
       " ('6', 219),\n",
       " ('7', 171),\n",
       " ('‘', 125),\n",
       " ('x', 104),\n",
       " (':', 102),\n",
       " ('/', 65),\n",
       " ('q', 61),\n",
       " (';', 56),\n",
       " ('?', 26),\n",
       " ('$', 22),\n",
       " ('!', 17),\n",
       " ('ü', 13),\n",
       " ('ƴ', 12),\n",
       " ('%', 11),\n",
       " ('é', 9),\n",
       " ('á', 8),\n",
       " ('í', 8),\n",
       " ('–', 6),\n",
       " ('õ', 6),\n",
       " ('[', 5),\n",
       " (']', 5),\n",
       " ('°', 5),\n",
       " ('ó', 5),\n",
       " ('²', 4),\n",
       " ('<', 4),\n",
       " ('>', 4),\n",
       " ('+', 4),\n",
       " ('ç', 3),\n",
       " ('ã', 3),\n",
       " ('£', 3),\n",
       " ('¥', 3),\n",
       " ('ā', 2),\n",
       " ('ú', 2),\n",
       " ('&', 2),\n",
       " ('—', 2),\n",
       " ('ş', 2),\n",
       " ('ă', 2),\n",
       " ('ö', 1),\n",
       " ('¾', 1),\n",
       " ('½', 1),\n",
       " ('{', 1)]"
      ]
     },
     "execution_count": 28,
     "metadata": {},
     "output_type": "execute_result"
    }
   ],
   "source": [
    "Counter(list(entire_transcript)).most_common()"
   ]
  },
  {
   "cell_type": "markdown",
   "id": "62ab2c5c",
   "metadata": {},
   "source": [
    "# OpenSLR 129 -  BibleTTS"
   ]
  },
  {
   "cell_type": "code",
   "execution_count": 2,
   "id": "a5f37844",
   "metadata": {},
   "outputs": [],
   "source": [
    "train_transcription_paths = []\n",
    "train_audio_paths = []\n",
    "\n",
    "val_transcription_paths = []\n",
    "val_audio_paths = []\n",
    "\n",
    "test_transcription_paths = []\n",
    "test_audio_paths = []\n",
    "\n",
    "for root, dirs, files in os.walk(\"./data/open_slr_129/hausa/train\"):\n",
    "    if len(files) > 0:\n",
    "        for file in files:\n",
    "            if file[-3:] == \"txt\":\n",
    "                train_transcription_paths.append(root+\"/\"+file)\n",
    "            elif file [-4:] == \"flac\":\n",
    "                train_audio_paths.append(root+\"/\"+file)\n",
    "                \n",
    "for root, dirs, files in os.walk(\"./data/open_slr_129/hausa/dev\"):\n",
    "    if len(files) > 0:\n",
    "        for file in files:\n",
    "            if file[-3:] == \"txt\":\n",
    "                val_transcription_paths.append(root+\"/\"+file)\n",
    "            elif file [-4:] == \"flac\":\n",
    "                val_audio_paths.append(root+\"/\"+file)\n",
    "                \n",
    "for root, dirs, files in os.walk(\"./data/open_slr_129/hausa/test\"):\n",
    "    if len(files) > 0:\n",
    "        for file in files:\n",
    "            if file[-3:] == \"txt\":\n",
    "                test_transcription_paths.append(root+\"/\"+file)\n",
    "            elif file [-4:] == \"flac\":\n",
    "                test_audio_paths.append(root+\"/\"+file)"
   ]
  },
  {
   "cell_type": "code",
   "execution_count": 41,
   "id": "e3ad1701",
   "metadata": {},
   "outputs": [
    {
     "name": "stdout",
     "output_type": "stream",
     "text": [
      "3595524 691673 40215 39617\n",
      "29651 5358 264 264\n",
      "11918 2279 124 124\n"
     ]
    }
   ],
   "source": [
    "entire_transcript = \"\"\n",
    "\n",
    "transcripts = []\n",
    "num_chars = 0\n",
    "num_words = 0\n",
    "for file in train_transcription_paths:\n",
    "    with open(file, \"r\") as f:\n",
    "        transcript = f.readline()\n",
    "        transcripts.append(transcript)\n",
    "        num_chars += len(transcript)\n",
    "        num_words += len(transcript.split(\" \"))\n",
    "        entire_transcript += \" \".join(transcript.lower())  \n",
    "print(num_chars, num_words, len(transcripts), len(set(transcripts)))\n",
    "\n",
    "transcripts = []\n",
    "num_chars = 0\n",
    "num_words = 0\n",
    "for file in val_transcription_paths:\n",
    "    with open(file, \"r\") as f:\n",
    "        transcript = f.readline()\n",
    "        transcripts.append(transcript)\n",
    "        num_chars += len(transcript)\n",
    "        num_words += len(transcript.split(\" \"))\n",
    "        entire_transcript += \" \".join(transcript.lower())\n",
    "print(num_chars, num_words, len(transcripts), len(set(transcripts)))\n",
    "\n",
    "transcripts = []\n",
    "num_chars = 0\n",
    "num_words = 0\n",
    "for file in test_transcription_paths:\n",
    "    with open(file, \"r\") as f:\n",
    "        transcript = f.readline()\n",
    "        transcripts.append(transcript)\n",
    "        num_chars += len(transcript)\n",
    "        num_words += len(transcript.split(\" \"))\n",
    "        entire_transcript += \" \".join(transcript.lower())\n",
    "        \n",
    "print(num_chars, num_words, len(transcripts), len(set(transcripts)))"
   ]
  },
  {
   "cell_type": "code",
   "execution_count": 42,
   "id": "b1e9fefe",
   "metadata": {
    "collapsed": true
   },
   "outputs": [
    {
     "data": {
      "text/plain": [
       "[(' ', 4255197),\n",
       " ('a', 771347),\n",
       " ('i', 241680),\n",
       " ('n', 240927),\n",
       " ('u', 193833),\n",
       " ('k', 168683),\n",
       " ('s', 141173),\n",
       " ('m', 112195),\n",
       " ('d', 111747),\n",
       " ('y', 110632),\n",
       " ('r', 104733),\n",
       " ('e', 83356),\n",
       " ('b', 77950),\n",
       " ('t', 71033),\n",
       " ('w', 65207),\n",
       " ('h', 57482),\n",
       " (',', 54427),\n",
       " ('g', 51753),\n",
       " ('o', 50870),\n",
       " ('l', 42376),\n",
       " ('.', 34688),\n",
       " ('z', 33873),\n",
       " ('c', 32660),\n",
       " ('f', 28567),\n",
       " ('ƙ', 20252),\n",
       " ('j', 19834),\n",
       " ('’', 18191),\n",
       " ('ɗ', 17849),\n",
       " (';', 4564),\n",
       " ('ă', 4562),\n",
       " ('ɓ', 3824),\n",
       " ('ā', 3362),\n",
       " ('?', 3060),\n",
       " ('!', 1534),\n",
       " ('ū', 84),\n",
       " (\"'\", 77),\n",
       " (':', 1)]"
      ]
     },
     "execution_count": 42,
     "metadata": {},
     "output_type": "execute_result"
    }
   ],
   "source": [
    "Counter(entire_transcript).most_common()"
   ]
  },
  {
   "cell_type": "code",
   "execution_count": 3,
   "id": "e5993eac",
   "metadata": {},
   "outputs": [],
   "source": [
    "# Hausa\n",
    "#from torchaudio.utils import download_asset\n",
    "flac_obj = torchaudio.load(\"data/open_slr_129/hausa/train/1CH/1CH_001_Verse_000.flac\")"
   ]
  },
  {
   "cell_type": "code",
   "execution_count": 4,
   "id": "83bb767c",
   "metadata": {},
   "outputs": [
    {
     "data": {
      "text/plain": [
       "(tensor([[ 4.2915e-06,  4.5300e-06,  4.4107e-06,  ..., -1.0622e-04,\n",
       "          -7.7963e-05, -5.2571e-05]]),\n",
       " 48000)"
      ]
     },
     "execution_count": 4,
     "metadata": {},
     "output_type": "execute_result"
    }
   ],
   "source": [
    "flac_obj"
   ]
  },
  {
   "cell_type": "code",
   "execution_count": 69,
   "id": "2507cd2f",
   "metadata": {},
   "outputs": [
    {
     "name": "stdout",
     "output_type": "stream",
     "text": [
      "Total = 0.6881002777777775 hours\n"
     ]
    }
   ],
   "source": [
    "total_secs = 0\n",
    "for file in val_audio_paths:\n",
    "    waveform, sample_rate = torchaudio.load(file)\n",
    "    total_secs += len(waveform[0])/sample_rate\n",
    "print(f\"Total = {total_secs/3600} hours\")"
   ]
  },
  {
   "cell_type": "code",
   "execution_count": 70,
   "id": "249b96be",
   "metadata": {},
   "outputs": [
    {
     "name": "stdout",
     "output_type": "stream",
     "text": [
      "Total = 0.2397658333333334 hours\n"
     ]
    }
   ],
   "source": [
    "total_secs = 0\n",
    "for file in test_audio_paths:\n",
    "    waveform, sample_rate = torchaudio.load(file)\n",
    "    total_secs += len(waveform[0])/sample_rate\n",
    "print(f\"Total = {total_secs/3600} hours\")"
   ]
  },
  {
   "cell_type": "markdown",
   "id": "09538a74",
   "metadata": {},
   "source": [
    "# Common Voice"
   ]
  },
  {
   "cell_type": "code",
   "execution_count": null,
   "id": "11ecc4ca",
   "metadata": {},
   "outputs": [],
   "source": []
  }
 ],
 "metadata": {
  "kernelspec": {
   "display_name": "Python 3 (ipykernel)",
   "language": "python",
   "name": "python3"
  },
  "language_info": {
   "codemirror_mode": {
    "name": "ipython",
    "version": 3
   },
   "file_extension": ".py",
   "mimetype": "text/x-python",
   "name": "python",
   "nbconvert_exporter": "python",
   "pygments_lexer": "ipython3",
   "version": "3.10.11"
  }
 },
 "nbformat": 4,
 "nbformat_minor": 5
}
