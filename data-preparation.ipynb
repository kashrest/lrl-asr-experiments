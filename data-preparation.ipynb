{
 "cells": [
  {
   "cell_type": "markdown",
   "id": "f179b5b9",
   "metadata": {},
   "source": [
    "This script should be language- and preprocessing- customizable.\n",
    "\n",
    "Script call signature:\n",
    "\n",
    "python data-preparation.py -l ha_ng  "
   ]
  },
  {
   "cell_type": "code",
   "execution_count": null,
   "id": "62b39e54",
   "metadata": {},
   "outputs": [],
   "source": [
    "import argparse\n",
    "\n",
    "parser = argparse.ArgumentParser(prog='DataPreparationScript',\n",
    "                    description='This script takes in your language of choice for the FLEURS dataset, preprocessing steps produces preprocessed transcripts for ASR')\n",
    "#parser.add_argument('filename')           # positional argument\n",
    "parser.add_argument('-l', '--language_code', help=\"FLEURS language code e.g. 'ha_ng' for Hausa\")\n",
    "parser.add_argument()"
   ]
  }
 ],
 "metadata": {
  "kernelspec": {
   "display_name": "Python 3 (ipykernel)",
   "language": "python",
   "name": "python3"
  },
  "language_info": {
   "codemirror_mode": {
    "name": "ipython",
    "version": 3
   },
   "file_extension": ".py",
   "mimetype": "text/x-python",
   "name": "python",
   "nbconvert_exporter": "python",
   "pygments_lexer": "ipython3",
   "version": "3.10.11"
  }
 },
 "nbformat": 4,
 "nbformat_minor": 5
}
