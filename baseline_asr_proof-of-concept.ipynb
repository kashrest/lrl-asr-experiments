{
 "cells": [
  {
   "cell_type": "markdown",
   "id": "7fbbd9ef",
   "metadata": {},
   "source": [
    "# Imports"
   ]
  },
  {
   "cell_type": "code",
   "execution_count": 1,
   "id": "a42847e8",
   "metadata": {},
   "outputs": [
    {
     "name": "stdout",
     "output_type": "stream",
     "text": [
      "Wed May 10 09:56:15 2023       \n",
      "+-----------------------------------------------------------------------------+\n",
      "| NVIDIA-SMI 520.61.05    Driver Version: 520.61.05    CUDA Version: 11.8     |\n",
      "|-------------------------------+----------------------+----------------------+\n",
      "| GPU  Name        Persistence-M| Bus-Id        Disp.A | Volatile Uncorr. ECC |\n",
      "| Fan  Temp  Perf  Pwr:Usage/Cap|         Memory-Usage | GPU-Util  Compute M. |\n",
      "|                               |                      |               MIG M. |\n",
      "|===============================+======================+======================|\n",
      "|   0  NVIDIA A100 80G...  On   | 00000000:A1:00.0 Off |                    0 |\n",
      "| N/A   43C    P0   270W / 300W |  20742MiB / 81920MiB |     87%      Default |\n",
      "|                               |                      |             Disabled |\n",
      "+-------------------------------+----------------------+----------------------+\n",
      "                                                                               \n",
      "+-----------------------------------------------------------------------------+\n",
      "| Processes:                                                                  |\n",
      "|  GPU   GI   CI        PID   Type   Process name                  GPU Memory |\n",
      "|        ID   ID                                                   Usage      |\n",
      "|=============================================================================|\n",
      "|    0   N/A  N/A     20270      C   ...3/envs/nlpvenv/bin/python     8628MiB |\n",
      "|    0   N/A  N/A     31893      C   ...onda3/envs/asr/bin/python    12112MiB |\n",
      "+-----------------------------------------------------------------------------+\n"
     ]
    }
   ],
   "source": [
    "!nvidia-smi\n"
   ]
  },
  {
   "cell_type": "code",
   "execution_count": 1,
   "id": "238788d3",
   "metadata": {},
   "outputs": [],
   "source": [
    "import matplotlib.pyplot as plt\n",
    "import json\n",
    "\n",
    "from transformers import Wav2Vec2FeatureExtractor\n",
    "from transformers import Wav2Vec2Processor\n",
    "from transformers import Wav2Vec2CTCTokenizer\n",
    "from transformers import Wav2Vec2ForCTC\n",
    "from transformers import TrainingArguments\n",
    "from transformers import Trainer\n",
    "\n",
    "import IPython.display as ipd\n",
    "import numpy as np\n",
    "import random\n",
    "import os\n",
    "import torch\n",
    "import time\n",
    "import re\n",
    "\n",
    "from dataclasses import dataclass, field\n",
    "from typing import Any, Dict, List, Optional, Union\n",
    "\n",
    "from datasets import load_metric\n",
    "from datasets import load_dataset"
   ]
  },
  {
   "cell_type": "markdown",
   "id": "c49dc1da",
   "metadata": {},
   "source": [
    "# Global Variables"
   ]
  },
  {
   "cell_type": "code",
   "execution_count": 2,
   "id": "c9e2206b",
   "metadata": {},
   "outputs": [
    {
     "name": "stderr",
     "output_type": "stream",
     "text": [
      "Found cached dataset fleurs (/data/users/kashrest/lrl-asr-experiments/data/fleurs/google___fleurs/ha_ng/2.0.0/af82dbec419a815084fa63ebd5d5a9f24a6e9acdf9887b9e3b8c6bbd64e0b7ac)\n"
     ]
    },
    {
     "data": {
      "application/vnd.jupyter.widget-view+json": {
       "model_id": "ee4011bf3606444c8c002af7edff981b",
       "version_major": 2,
       "version_minor": 0
      },
      "text/plain": [
       "  0%|          | 0/3 [00:00<?, ?it/s]"
      ]
     },
     "metadata": {},
     "output_type": "display_data"
    }
   ],
   "source": [
    "cache_dir=\"/data/users/kashrest/lrl-asr-experiments/data/fleurs\"\n",
    "\n",
    "fleurs_hausa = load_dataset(\"google/fleurs\", \"ha_ng\", cache_dir=cache_dir)\n",
    "\n",
    "root = \"/data/users/kashrest/lrl-asr-experiments/\"\n",
    "\n",
    "pretrained_model_card = \"facebook/wav2vec2-xls-r-300m\"\n",
    "\n",
    "training_experiment_number = \"temp\"\n",
    "\n",
    "out_dir = root+pretrained_model_card.replace(\"/\", \"_\")+\"/\"+\"experiment_\"+training_experiment_number+\"/\"\n",
    "\n",
    "try:\n",
    "    os.mkdir(out_dir)\n",
    "except:\n",
    "    print(f\"Experiment folder already exists\") "
   ]
  },
  {
   "cell_type": "markdown",
   "id": "64e7626e",
   "metadata": {},
   "source": [
    "# Data Exploration"
   ]
  },
  {
   "cell_type": "code",
   "execution_count": null,
   "id": "0d0ab270",
   "metadata": {},
   "outputs": [],
   "source": [
    "\"\"\"total = 0\n",
    "for elem in fleurs_hausa[\"test\"]:\n",
    "    total += len(elem[\"audio\"][\"array\"])/16000\n",
    "    \n",
    "print(total/3600)\"\"\""
   ]
  },
  {
   "cell_type": "code",
   "execution_count": null,
   "id": "87d356bf",
   "metadata": {},
   "outputs": [],
   "source": [
    "\"\"\"def show_audio_plot(audio_array):\n",
    "    print(f\"Sample rate is 16kHz, this utterance has {len(audio_array)/16000} seconds of audio\")\n",
    "    plt.plot(list(range(len(audio_array))), audio_array)\n",
    "    plt.show()\"\"\""
   ]
  },
  {
   "cell_type": "code",
   "execution_count": null,
   "id": "059651e4",
   "metadata": {},
   "outputs": [],
   "source": [
    "\"\"\"r = random.randint(0, len(fleurs_hausa_train)-1)\n",
    "print(fleurs_hausa[\"train\"][r][\"transcription\"])\n",
    "ipd.Audio(data=fleurs_hausa_train[r][\"audio\"][\"array\"], autoplay=True, rate=16000)\n",
    "#show_audio_plot(fleurs_hausa[\"train\"][0][\"audio\"][\"array\"]) #rerun cell to get audio graph for new utterance\"\"\""
   ]
  },
  {
   "cell_type": "code",
   "execution_count": null,
   "id": "1168dbb6",
   "metadata": {},
   "outputs": [],
   "source": [
    "\"\"\"fleurs_hausa\"\"\""
   ]
  },
  {
   "cell_type": "markdown",
   "id": "69975e5b",
   "metadata": {},
   "source": [
    "# Try Huggingface Pipeline for reference numbers before creating custom model classes/pipeline"
   ]
  },
  {
   "cell_type": "code",
   "execution_count": 3,
   "id": "bafe9737",
   "metadata": {
    "scrolled": false
   },
   "outputs": [
    {
     "name": "stderr",
     "output_type": "stream",
     "text": [
      "Found cached dataset fleurs (/data/users/kashrest/lrl-asr-experiments/data/fleurs/google___fleurs/ha_ng/2.0.0/af82dbec419a815084fa63ebd5d5a9f24a6e9acdf9887b9e3b8c6bbd64e0b7ac)\n",
      "Found cached dataset fleurs (/data/users/kashrest/lrl-asr-experiments/data/fleurs/google___fleurs/ha_ng/2.0.0/af82dbec419a815084fa63ebd5d5a9f24a6e9acdf9887b9e3b8c6bbd64e0b7ac)\n",
      "Found cached dataset fleurs (/data/users/kashrest/lrl-asr-experiments/data/fleurs/google___fleurs/ha_ng/2.0.0/af82dbec419a815084fa63ebd5d5a9f24a6e9acdf9887b9e3b8c6bbd64e0b7ac)\n"
     ]
    }
   ],
   "source": [
    "fleurs_hausa_train = load_dataset(\"google/fleurs\", \"ha_ng\", split=\"train\", cache_dir=cache_dir)\n",
    "fleurs_hausa_val = load_dataset(\"google/fleurs\", \"ha_ng\", split=\"validation\", cache_dir=cache_dir)\n",
    "fleurs_hausa_test = load_dataset(\"google/fleurs\", \"ha_ng\", split=\"test\", cache_dir=cache_dir)\n",
    "# Hausa train/val/test = 3259/296/621"
   ]
  },
  {
   "cell_type": "markdown",
   "id": "73480d3b",
   "metadata": {},
   "source": [
    "## Character Vocabulary -- double check normalization from FLEURS\n"
   ]
  },
  {
   "cell_type": "code",
   "execution_count": null,
   "id": "2c63de31",
   "metadata": {},
   "outputs": [],
   "source": [
    "\"\"\"r = random.randint(0, len(fleurs_hausa_train)-1)\n",
    "print(fleurs_hausa[\"train\"][r][\"transcription\"])#’’''\n",
    "\n",
    "\n",
    "m = random.randint(0, len(fleurs_hausa_train)-1)\n",
    "print(fleurs_hausa[\"train\"][m][\"transcription\"])\n",
    "\n",
    "n = random.randint(0, len(fleurs_hausa_train)-1)\n",
    "print(fleurs_hausa[\"train\"][n][\"transcription\"])\n",
    "\n",
    "print(r, m, n)\"\"\""
   ]
  },
  {
   "cell_type": "code",
   "execution_count": 4,
   "id": "45489ca6",
   "metadata": {},
   "outputs": [
    {
     "name": "stderr",
     "output_type": "stream",
     "text": [
      "Loading cached processed dataset at /data/users/kashrest/lrl-asr-experiments/data/fleurs/google___fleurs/ha_ng/2.0.0/af82dbec419a815084fa63ebd5d5a9f24a6e9acdf9887b9e3b8c6bbd64e0b7ac/cache-ae98813eef4eeff7.arrow\n",
      "Loading cached processed dataset at /data/users/kashrest/lrl-asr-experiments/data/fleurs/google___fleurs/ha_ng/2.0.0/af82dbec419a815084fa63ebd5d5a9f24a6e9acdf9887b9e3b8c6bbd64e0b7ac/cache-f4720483dd7e8c81.arrow\n",
      "Loading cached processed dataset at /data/users/kashrest/lrl-asr-experiments/data/fleurs/google___fleurs/ha_ng/2.0.0/af82dbec419a815084fa63ebd5d5a9f24a6e9acdf9887b9e3b8c6bbd64e0b7ac/cache-8e39ca4bae8015c8.arrow\n",
      "Loading cached processed dataset at /data/users/kashrest/lrl-asr-experiments/data/fleurs/google___fleurs/ha_ng/2.0.0/af82dbec419a815084fa63ebd5d5a9f24a6e9acdf9887b9e3b8c6bbd64e0b7ac/cache-9641ad5e40d6c38c.arrow\n",
      "Loading cached processed dataset at /data/users/kashrest/lrl-asr-experiments/data/fleurs/google___fleurs/ha_ng/2.0.0/af82dbec419a815084fa63ebd5d5a9f24a6e9acdf9887b9e3b8c6bbd64e0b7ac/cache-086bf8104dc1339b.arrow\n",
      "Loading cached processed dataset at /data/users/kashrest/lrl-asr-experiments/data/fleurs/google___fleurs/ha_ng/2.0.0/af82dbec419a815084fa63ebd5d5a9f24a6e9acdf9887b9e3b8c6bbd64e0b7ac/cache-f372552b5ecb4327.arrow\n"
     ]
    }
   ],
   "source": [
    "chars_to_remove_regex = '[\\,\\?\\!\\-\\;\\:\\\"\\“\\‘\\'\\”\\�]' #'[\\,\\?\\!\\-\\;\\:\\\"\\“\\%\\‘\\'\\”\\�\\$]'\n",
    "\n",
    "and_sym = '&'\n",
    "\n",
    "def remove_special_characters(batch):\n",
    "    batch[\"transcription\"] = re.sub(chars_to_remove_regex, '', batch[\"transcription\"]).lower()\n",
    "    batch[\"transcription\"] = re.sub(\"\\[\", '', batch[\"transcription\"])\n",
    "    batch[\"transcription\"] = re.sub(\"\\]\", '', batch[\"transcription\"])\n",
    "    batch[\"transcription\"] = re.sub(\"\\{\", '', batch[\"transcription\"])\n",
    "    batch[\"transcription\"] = re.sub(\"\\}\", '', batch[\"transcription\"])\n",
    "    batch[\"transcription\"] = re.sub(r'[\\\\]', '', batch[\"transcription\"])\n",
    "    batch[\"transcription\"] = re.sub(r'[/]', '', batch[\"transcription\"])\n",
    "    #batch[\"transcription\"] = re.sub(u'[¥£°¾½²]', '', batch[\"transcription\"])\n",
    "    batch[\"transcription\"] = re.sub(u'[\\+><]', '', batch[\"transcription\"])\n",
    "    batch[\"transcription\"] = re.sub(and_sym, \"and\", batch[\"transcription\"])\n",
    "    return batch\n",
    "\n",
    "def normalize_diacritics(batch):\n",
    "    a = '[āăáã]'\n",
    "    u = '[ūúü]'\n",
    "    o = '[öõó]' \n",
    "    c = '[ç]'\n",
    "    i = '[í]'\n",
    "    s = '[ş]'\n",
    "    e = '[é]'\n",
    "    \n",
    "    batch[\"transcription\"] = re.sub(a, \"a\", batch[\"transcription\"])\n",
    "    batch[\"transcription\"] = re.sub(u, \"u\", batch[\"transcription\"])\n",
    "    batch[\"transcription\"] = re.sub(o, \"o\", batch[\"transcription\"])\n",
    "    batch[\"transcription\"] = re.sub(c, \"c\", batch[\"transcription\"])\n",
    "    batch[\"transcription\"] = re.sub(i, \"i\", batch[\"transcription\"])\n",
    "    batch[\"transcription\"] = re.sub(s, \"s\", batch[\"transcription\"])\n",
    "    batch[\"transcription\"] = re.sub(e, \"e\", batch[\"transcription\"])\n",
    "\n",
    "    return batch\n",
    "\n",
    "fleurs_hausa_train = fleurs_hausa_train.map(remove_special_characters)\n",
    "fleurs_hausa_val = fleurs_hausa_val.map(remove_special_characters)\n",
    "fleurs_hausa_test = fleurs_hausa_test.map(remove_special_characters)\n",
    "\n",
    "fleurs_hausa_train = fleurs_hausa_train.map(normalize_diacritics)\n",
    "fleurs_hausa_val = fleurs_hausa_val.map(normalize_diacritics)\n",
    "fleurs_hausa_test = fleurs_hausa_test.map(normalize_diacritics)"
   ]
  },
  {
   "cell_type": "code",
   "execution_count": 5,
   "id": "cbcd7c17",
   "metadata": {},
   "outputs": [
    {
     "data": {
      "application/vnd.jupyter.widget-view+json": {
       "model_id": "",
       "version_major": 2,
       "version_minor": 0
      },
      "text/plain": [
       "Map:   0%|          | 0/3259 [00:00<?, ? examples/s]"
      ]
     },
     "metadata": {},
     "output_type": "display_data"
    },
    {
     "data": {
      "application/vnd.jupyter.widget-view+json": {
       "model_id": "",
       "version_major": 2,
       "version_minor": 0
      },
      "text/plain": [
       "Map:   0%|          | 0/296 [00:00<?, ? examples/s]"
      ]
     },
     "metadata": {},
     "output_type": "display_data"
    },
    {
     "data": {
      "application/vnd.jupyter.widget-view+json": {
       "model_id": "",
       "version_major": 2,
       "version_minor": 0
      },
      "text/plain": [
       "Map:   0%|          | 0/621 [00:00<?, ? examples/s]"
      ]
     },
     "metadata": {},
     "output_type": "display_data"
    }
   ],
   "source": [
    "# Character vocabulary code from: https://colab.research.google.com/github/patrickvonplaten/notebooks/blob/master/Fine_Tune_XLSR_Wav2Vec2_on_Turkish_ASR_with_%F0%9F%A4%97_Transformers.ipynb#scrollTo=_0kRndSvqaKk\n",
    "def extract_all_chars(batch):\n",
    "  all_text = \" \".join(batch[\"transcription\"])\n",
    "  vocab = list(set(all_text))\n",
    "  return {\"vocab\": [vocab], \"all_text\": [all_text]}\n",
    "\n",
    "vocab_train = fleurs_hausa_train.map(extract_all_chars, batched=True, batch_size=-1, keep_in_memory=True, remove_columns=fleurs_hausa_train.column_names)\n",
    "vocab_val = fleurs_hausa_val.map(extract_all_chars, batched=True, batch_size=-1, keep_in_memory=True, remove_columns=fleurs_hausa_val.column_names)\n",
    "vocab_test = fleurs_hausa_test.map(extract_all_chars, batched=True, batch_size=-1, keep_in_memory=True, remove_columns=fleurs_hausa_test.column_names)"
   ]
  },
  {
   "cell_type": "code",
   "execution_count": 6,
   "id": "107f1725",
   "metadata": {},
   "outputs": [
    {
     "name": "stdout",
     "output_type": "stream",
     "text": [
      "Vocabulary length = 53 characters\n"
     ]
    }
   ],
   "source": [
    "vocab_list = list(set(vocab_train[\"vocab\"][0]) | set(vocab_test[\"vocab\"][0]) | set(vocab_val[\"vocab\"][0]))\n",
    "vocab_dict = {v: k for k, v in enumerate(vocab_list)}\n",
    "\n",
    "# for word delimiter, change \" \" --> \"|\" (ex. \"Hello my name is Kaleen\" --> \"Hello|my|name|is|Kaleen\")\n",
    "vocab_dict[\"|\"] = vocab_dict[\" \"]\n",
    "del vocab_dict[\" \"]\n",
    "vocab_dict[\"[UNK]\"] = len(vocab_dict)\n",
    "vocab_dict[\"[PAD]\"] = len(vocab_dict) # this is for CTC to predict the end of a character (e.g. \"hhh[PAD]iiiiii[PAD]\" == \"hi\")\n",
    "\n",
    "print(f\"Vocabulary length = {len(vocab_dict)} characters\")"
   ]
  },
  {
   "cell_type": "code",
   "execution_count": 7,
   "id": "b07eeedf",
   "metadata": {},
   "outputs": [],
   "source": [
    "# Save vocabulary file\n",
    "hausa_vocab_file = out_dir+\"vocab_hausa_fleurs_train_val_test.json\"\n",
    "with open(hausa_vocab_file, 'w') as vocab_file:\n",
    "    json.dump(vocab_dict, vocab_file)\n",
    "\n",
    "tokenizer = Wav2Vec2CTCTokenizer(hausa_vocab_file, unk_token=\"[UNK]\", pad_token=\"[PAD]\", word_delimiter_token=\"|\")\n",
    "\n",
    "sampling_rate = 16000\n",
    "feature_extractor = Wav2Vec2FeatureExtractor(feature_size=1, sampling_rate=sampling_rate, padding_value=0.0, do_normalize=True, return_attention_mask=True)\n",
    "processor = Wav2Vec2Processor(feature_extractor=feature_extractor, tokenizer=tokenizer)"
   ]
  },
  {
   "cell_type": "code",
   "execution_count": 8,
   "id": "9270fdc4",
   "metadata": {},
   "outputs": [
    {
     "data": {
      "text/plain": [
       "['k', 'a', 'l', 'e', 'e', 'n']"
      ]
     },
     "execution_count": 8,
     "metadata": {},
     "output_type": "execute_result"
    }
   ],
   "source": [
    "tokenizer.tokenize(\"kaleen\")"
   ]
  },
  {
   "cell_type": "code",
   "execution_count": null,
   "id": "6f208d38",
   "metadata": {},
   "outputs": [],
   "source": [
    "def prepare_dataset(batch):\n",
    "    audio = batch[\"audio\"]\n",
    "    # batched output is \"un-batched\"\n",
    "    batch[\"input_values\"] = processor(audio[\"array\"], sampling_rate=audio[\"sampling_rate\"]).input_values[0]\n",
    "    \n",
    "    with processor.as_target_processor():\n",
    "        batch[\"labels\"] = processor(batch[\"transcription\"]).input_ids\n",
    "    return batch\n",
    "\n",
    "fleurs_hausa_train = fleurs_hausa_train.map(prepare_dataset, remove_columns=fleurs_hausa_train.column_names, num_proc=4)\n",
    "fleurs_hausa_val = fleurs_hausa_val.map(prepare_dataset, remove_columns=fleurs_hausa_val.column_names, num_proc=4)\n",
    "fleurs_hausa_test = fleurs_hausa_test.map(prepare_dataset, remove_columns=fleurs_hausa_test.column_names, num_proc=4)"
   ]
  },
  {
   "cell_type": "code",
   "execution_count": null,
   "id": "6403202a",
   "metadata": {},
   "outputs": [],
   "source": [
    "@dataclass\n",
    "class DataCollatorCTCWithPadding:\n",
    "    \"\"\"\n",
    "    Data collator that will dynamically pad the inputs received.\n",
    "    Args:\n",
    "        processor (:class:`~transformers.Wav2Vec2Processor`)\n",
    "            The processor used for proccessing the data.\n",
    "        padding (:obj:`bool`, :obj:`str` or :class:`~transformers.tokenization_utils_base.PaddingStrategy`, `optional`, defaults to :obj:`True`):\n",
    "            Select a strategy to pad the returned sequences (according to the model's padding side and padding index)\n",
    "            among:\n",
    "            * :obj:`True` or :obj:`'longest'`: Pad to the longest sequence in the batch (or no padding if only a single\n",
    "              sequence if provided).\n",
    "            * :obj:`'max_length'`: Pad to a maximum length specified with the argument :obj:`max_length` or to the\n",
    "              maximum acceptable input length for the model if that argument is not provided.\n",
    "            * :obj:`False` or :obj:`'do_not_pad'` (default): No padding (i.e., can output a batch with sequences of\n",
    "              different lengths).\n",
    "        max_length (:obj:`int`, `optional`):\n",
    "            Maximum length of the ``input_values`` of the returned list and optionally padding length (see above).\n",
    "        max_length_labels (:obj:`int`, `optional`):\n",
    "            Maximum length of the ``labels`` returned list and optionally padding length (see above).\n",
    "        pad_to_multiple_of (:obj:`int`, `optional`):\n",
    "            If set will pad the sequence to a multiple of the provided value.\n",
    "            This is especially useful to enable the use of Tensor Cores on NVIDIA hardware with compute capability >=\n",
    "            7.5 (Volta).\n",
    "    \"\"\"\n",
    "\n",
    "    processor: Wav2Vec2Processor\n",
    "    padding: Union[bool, str] = True\n",
    "    max_length: Optional[int] = None\n",
    "    max_length_labels: Optional[int] = None\n",
    "    pad_to_multiple_of: Optional[int] = None\n",
    "    pad_to_multiple_of_labels: Optional[int] = None\n",
    "\n",
    "    def __call__(self, features: List[Dict[str, Union[List[int], torch.Tensor]]]) -> Dict[str, torch.Tensor]:\n",
    "        # split inputs and labels since they have to be of different lenghts and need\n",
    "        # different padding methods\n",
    "        input_features = [{\"input_values\": feature[\"input_values\"]} for feature in features]\n",
    "        label_features = [{\"input_ids\": feature[\"labels\"]} for feature in features]\n",
    "\n",
    "        batch = self.processor.pad(\n",
    "            input_features,\n",
    "            padding=self.padding,\n",
    "            max_length=self.max_length,\n",
    "            pad_to_multiple_of=self.pad_to_multiple_of,\n",
    "            return_tensors=\"pt\",\n",
    "        )\n",
    "        with self.processor.as_target_processor():\n",
    "            labels_batch = self.processor.pad(\n",
    "                label_features,\n",
    "                padding=self.padding,\n",
    "                max_length=self.max_length_labels,\n",
    "                pad_to_multiple_of=self.pad_to_multiple_of_labels,\n",
    "                return_tensors=\"pt\",\n",
    "            )\n",
    "\n",
    "        # replace padding with -100 to ignore loss correctly\n",
    "        labels = labels_batch[\"input_ids\"].masked_fill(labels_batch.attention_mask.ne(1), -100)\n",
    "\n",
    "        batch[\"labels\"] = labels\n",
    "\n",
    "        return batch\n",
    "\n",
    "data_collator = DataCollatorCTCWithPadding(processor=processor, padding=True)"
   ]
  },
  {
   "cell_type": "code",
   "execution_count": null,
   "id": "16f930bc",
   "metadata": {},
   "outputs": [],
   "source": [
    "wer_metric = load_metric(\"wer\")\n",
    "cer_metric = load_metric(\"cer\")\n",
    "\n",
    "def compute_metrics(pred):\n",
    "    pred_logits = pred.predictions\n",
    "    pred_ids = np.argmax(pred_logits, axis=-1)\n",
    "\n",
    "    pred.label_ids[pred.label_ids == -100] = processor.tokenizer.pad_token_id\n",
    "\n",
    "    pred_str = processor.batch_decode(pred_ids)\n",
    "    # we do not want to group tokens when computing the metrics\n",
    "    label_str = processor.batch_decode(pred.label_ids, group_tokens=False)\n",
    "\n",
    "    wer = wer_metric.compute(predictions=pred_str, references=label_str)\n",
    "    cer = cer_metric.compute(predictions=pred_str, references=label_str)\n",
    "    return {\"wer\": wer, \"cer\": cer}"
   ]
  },
  {
   "cell_type": "markdown",
   "id": "6af078a0",
   "metadata": {},
   "source": [
    "# Training"
   ]
  },
  {
   "cell_type": "code",
   "execution_count": null,
   "id": "0df0db9b",
   "metadata": {},
   "outputs": [],
   "source": [
    "batch_size = 16\n",
    "learning_rate = 3e-4\n",
    "num_train_epochs = 30\n",
    "attention_dropout = 0.1\n",
    "hidden_dropout = 0.1\n",
    "feat_proj_dropout = 0.0\n",
    "mask_time_prob = 0.05\n",
    "layerdrop = 0.1\n",
    "warmup_steps = 500\n",
    "    \n",
    "hyperparameters_file = out_dir+\"hyperparameters.jsonl\"\n",
    "with open(hyperparameters_file, \"w\") as f:\n",
    "    obj = {\"training batch size\": batch_size,\n",
    "           \"learning rate\": learning_rate,\n",
    "           \"number of training epochs\": num_train_epochs,\n",
    "           \"attention dropout probability\": attention_dropout,\n",
    "           \"hidden layer dropout probability\": hidden_dropout,\n",
    "           \"feature projection layer dropout probability\": feat_proj_dropout,\n",
    "           \"mask time probability\": mask_time_prob,\n",
    "           \"layer dropout probability\": layerdrop,\n",
    "           \"warm up steps\": warmup_steps}\n",
    "    json.dump(obj, f)\n",
    "\n",
    "model = Wav2Vec2ForCTC.from_pretrained(\n",
    "    pretrained_model_card, \n",
    "    attention_dropout=attention_dropout,\n",
    "    hidden_dropout=hidden_dropout,\n",
    "    feat_proj_dropout=feat_proj_dropout,\n",
    "    mask_time_prob=mask_time_prob,\n",
    "    layerdrop=layerdrop,\n",
    "    ctc_loss_reduction=\"mean\", \n",
    "    pad_token_id=processor.tokenizer.pad_token_id,\n",
    "    vocab_size=len(processor.tokenizer)\n",
    ")\n",
    "\n",
    "model.num_parameters() # facebook/wav2vec2-xls-r-300m\n",
    "model.freeze_feature_extractor()\n",
    "model.gradient_checkpointing_enable()\n",
    "\n",
    "training_args = TrainingArguments(\n",
    "  output_dir=out_dir,\n",
    "  group_by_length=True,\n",
    "  per_device_train_batch_size=batch_size,\n",
    "  gradient_accumulation_steps=2,\n",
    "  evaluation_strategy=\"steps\",\n",
    "  num_train_epochs=num_train_epochs,\n",
    "  fp16=True,\n",
    "  save_steps=100,\n",
    "  eval_steps=100,\n",
    "  logging_steps=10,\n",
    "  load_best_model_at_end=True,\n",
    "  learning_rate=learning_rate,\n",
    "  warmup_steps=warmup_steps,\n",
    "  save_total_limit=2,\n",
    ")\n",
    "\n",
    "trainer = Trainer(\n",
    "    model=model,\n",
    "    data_collator=data_collator,\n",
    "    args=training_args,\n",
    "    compute_metrics=compute_metrics,\n",
    "    train_dataset=fleurs_hausa_train,\n",
    "    eval_dataset=fleurs_hausa_val, \n",
    "    tokenizer=processor.feature_extractor,\n",
    ")\n",
    "\n",
    "t1 = time.time()\n",
    "trainer.train()\n",
    "t2 = time.time()\n",
    "print(f\"Training took {t2-t1} seconds\")"
   ]
  }
 ],
 "metadata": {
  "kernelspec": {
   "display_name": "Python 3 (ipykernel)",
   "language": "python",
   "name": "python3"
  },
  "language_info": {
   "codemirror_mode": {
    "name": "ipython",
    "version": 3
   },
   "file_extension": ".py",
   "mimetype": "text/x-python",
   "name": "python",
   "nbconvert_exporter": "python",
   "pygments_lexer": "ipython3",
   "version": "3.10.11"
  }
 },
 "nbformat": 4,
 "nbformat_minor": 5
}
