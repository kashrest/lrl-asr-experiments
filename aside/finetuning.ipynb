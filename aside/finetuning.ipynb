{
 "cells": [
  {
   "cell_type": "markdown",
   "id": "daea5f80",
   "metadata": {},
   "source": [
    "This script will take in prepared data and finetune a with specified hyperparameters. The supported model architectures are:\n",
    "* Wav2Vec2 (trained with CTC)\n",
    "* Whisper (encoder-decoder, Sequence to Sequence)"
   ]
  },
  {
   "cell_type": "code",
   "execution_count": null,
   "id": "3b5c8e11",
   "metadata": {},
   "outputs": [],
   "source": []
  }
 ],
 "metadata": {
  "kernelspec": {
   "display_name": "Python 3 (ipykernel)",
   "language": "python",
   "name": "python3"
  },
  "language_info": {
   "codemirror_mode": {
    "name": "ipython",
    "version": 3
   },
   "file_extension": ".py",
   "mimetype": "text/x-python",
   "name": "python",
   "nbconvert_exporter": "python",
   "pygments_lexer": "ipython3",
   "version": "3.10.11"
  }
 },
 "nbformat": 4,
 "nbformat_minor": 5
}
