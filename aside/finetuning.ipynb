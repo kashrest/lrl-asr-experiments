{
 "cells": [
  {
   "cell_type": "markdown",
   "id": "daea5f80",
   "metadata": {},
   "source": [
    "This script will take in prepared data and finetune a with specified hyperparameters. The supported model architectures are:\n",
    "* Wav2Vec2 (trained with CTC)\n",
    "* Whisper (encoder-decoder, Sequence to Sequence)"
   ]
  },
  {
   "cell_type": "code",
   "execution_count": null,
   "id": "3b5c8e11",
   "metadata": {},
   "outputs": [],
   "source": [
    "import argparse\n",
    "import json\n",
    "\n",
    "parser = argparse.ArgumentParser(prog='DataPreparationScript',\n",
    "                    description='This script takes in either a fluers language code or custom dataset script and model card to finetune.')\n",
    "parser.add_argument('-f', '--fluers_language_code', help=\"FLEURS language code e.g. 'ha_ng' for Hausa\")\n",
    "# Common Voice requires a Hugging Face account, so will delegate Common Voice data preperation to user.\n",
    "parser.add_argument('-c', '--custom_dataset_boolean', help=\"Set to True if you are providing your own dataset Python script with generate_dataset() function\")\n",
    "parser.add_argument('-m', '--model_card', help=\"The model card on Hugging Face Hub\")\n",
    "#parser.add_argument('-hp', '--hyperparameter_file', help=\"The JSON file containing the hyperparameters for model fine-tuning\")\n",
    "args = parser.parse_args()\n",
    "# Either FLEURS language has to be specified or a custom dataset. Both cannot be specified.\n",
    "assert args.fluers_language_code != args.custom_dataset_boolean\n",
    "assert args.fluers_language_code is None or args.custom_dataset_boolean is None"
   ]
  },
  {
   "cell_type": "code",
   "execution_count": 5,
   "id": "5e3d7821-1ce4-4470-97dc-f6b198d89beb",
   "metadata": {},
   "outputs": [
    {
     "name": "stdout",
     "output_type": "stream",
     "text": [
      "ok\n"
     ]
    }
   ],
   "source": [
    "if args.custom_dataset_boolean is not None:\n",
    "    from custom_dataset import generate_dataset \n",
    "else:\n",
    "    assert args.fluers_language_code is not None\n",
    "\n",
    "model_card = args.model_card\n",
    "with open(\"hyperparameters.json\", \"r\") as f:"
   ]
  },
  {
   "cell_type": "code",
   "execution_count": null,
   "id": "ff87a3a3-a1e8-41fd-b81c-6f60b4192e7a",
   "metadata": {},
   "outputs": [],
   "source": []
  }
 ],
 "metadata": {
  "kernelspec": {
   "display_name": "Python 3 (ipykernel)",
   "language": "python",
   "name": "python3"
  },
  "language_info": {
   "codemirror_mode": {
    "name": "ipython",
    "version": 3
   },
   "file_extension": ".py",
   "mimetype": "text/x-python",
   "name": "python",
   "nbconvert_exporter": "python",
   "pygments_lexer": "ipython3",
   "version": "3.10.12"
  }
 },
 "nbformat": 4,
 "nbformat_minor": 5
}
