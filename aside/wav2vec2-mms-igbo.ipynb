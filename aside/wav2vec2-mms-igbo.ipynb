{
 "cells": [
  {
   "cell_type": "code",
   "execution_count": 1,
   "id": "1cb385bf",
   "metadata": {},
   "outputs": [],
   "source": [
    "from datasets import load_metric, load_dataset, Audio\n",
    "from transformers import Wav2Vec2ForCTC, AutoProcessor\n",
    "import torch\n",
    "from tqdm import tqdm\n",
    "import json"
   ]
  },
  {
   "cell_type": "code",
   "execution_count": 2,
   "id": "b1d5ffba",
   "metadata": {},
   "outputs": [
    {
     "data": {
      "application/vnd.jupyter.widget-view+json": {
       "model_id": "505991008c3049359ee4c48fe1d6a826",
       "version_major": 2,
       "version_minor": 0
      },
      "text/plain": [
       "VBox(children=(HTML(value='<center> <img\\nsrc=https://huggingface.co/front/assets/huggingface_logo-noborder.sv…"
      ]
     },
     "metadata": {},
     "output_type": "display_data"
    },
    {
     "name": "stderr",
     "output_type": "stream",
     "text": [
      "Found cached dataset common_voice_13_0 (/data/users/kashrest/lrl-asr-experiments/data/cv_13/mozilla-foundation___common_voice_13_0/ig/13.0.0/22809012aac1fc9803eaffc44122e4149043748e93933935d5ea19898587e4d7)\n",
      "Found cached dataset fleurs (/data/users/kashrest/lrl-asr-experiments/data/fleurs/google___fleurs/ig_ng/2.0.0/af82dbec419a815084fa63ebd5d5a9f24a6e9acdf9887b9e3b8c6bbd64e0b7ac)\n"
     ]
    }
   ],
   "source": [
    "# Hausa\n",
    "from huggingface_hub import notebook_login\n",
    "notebook_login()\n",
    "cache_dir_cv_13 = \"/data/users/kashrest/lrl-asr-experiments/data/cv_13\"\n",
    "data_cv = load_dataset(\"mozilla-foundation/common_voice_13_0\", \"ig\", split=\"test\", cache_dir=cache_dir_cv_13)\n",
    "\n",
    "cache_dir_fleurs = \"/data/users/kashrest/lrl-asr-experiments/data/fleurs\"\n",
    "data_fleurs = load_dataset(\"google/fleurs\", \"ig_ng\", split=\"test\", cache_dir=cache_dir_fleurs)"
   ]
  },
  {
   "cell_type": "code",
   "execution_count": 3,
   "id": "91a5a538",
   "metadata": {},
   "outputs": [
    {
     "data": {
      "text/plain": [
       "(969, 4)"
      ]
     },
     "execution_count": 3,
     "metadata": {},
     "output_type": "execute_result"
    }
   ],
   "source": [
    "len(data_fleurs), len(data_cv)"
   ]
  },
  {
   "cell_type": "code",
   "execution_count": null,
   "id": "41a96ed4",
   "metadata": {},
   "outputs": [],
   "source": [
    "data_fleurs"
   ]
  },
  {
   "cell_type": "code",
   "execution_count": 4,
   "id": "6f1c6e03",
   "metadata": {},
   "outputs": [
    {
     "data": {
      "text/plain": [
       "{'!': 83,\n",
       " '\"': 78,\n",
       " '$': 52,\n",
       " '%': 70,\n",
       " '&': 87,\n",
       " \"'\": 27,\n",
       " '+': 63,\n",
       " ',': 47,\n",
       " '-': 29,\n",
       " '.': 43,\n",
       " '/': 50,\n",
       " '0': 33,\n",
       " '1': 34,\n",
       " '2': 36,\n",
       " '3': 41,\n",
       " '4': 39,\n",
       " '5': 38,\n",
       " '6': 40,\n",
       " '7': 45,\n",
       " '8': 42,\n",
       " '9': 37,\n",
       " ':': 48,\n",
       " ';': 55,\n",
       " '</s>': 2,\n",
       " '<pad>': 0,\n",
       " '<s>': 1,\n",
       " '<unk>': 3,\n",
       " '[': 74,\n",
       " ']': 75,\n",
       " '_': 80,\n",
       " 'a': 5,\n",
       " 'b': 18,\n",
       " 'c': 28,\n",
       " 'd': 22,\n",
       " 'e': 6,\n",
       " 'f': 32,\n",
       " 'g': 17,\n",
       " 'h': 16,\n",
       " 'i': 8,\n",
       " 'j': 31,\n",
       " 'k': 9,\n",
       " 'l': 24,\n",
       " 'm': 12,\n",
       " 'n': 7,\n",
       " 'o': 13,\n",
       " 'p': 26,\n",
       " 'q': 49,\n",
       " 'r': 11,\n",
       " 's': 23,\n",
       " 't': 20,\n",
       " 'u': 15,\n",
       " 'v': 35,\n",
       " 'w': 21,\n",
       " 'x': 46,\n",
       " 'y': 25,\n",
       " 'z': 30,\n",
       " '|': 4,\n",
       " '£': 82,\n",
       " '¥': 69,\n",
       " '°': 68,\n",
       " '²': 88,\n",
       " 'à': 57,\n",
       " 'á': 67,\n",
       " 'ã': 72,\n",
       " 'ç': 61,\n",
       " 'è': 56,\n",
       " 'é': 65,\n",
       " 'ì': 71,\n",
       " 'í': 73,\n",
       " 'ñ': 51,\n",
       " 'ò': 54,\n",
       " 'ó': 79,\n",
       " 'õ': 64,\n",
       " 'ù': 66,\n",
       " 'ú': 81,\n",
       " 'ü': 58,\n",
       " 'ē': 85,\n",
       " 'ł': 86,\n",
       " 'ū': 77,\n",
       " '̀': 84,\n",
       " '̄': 53,\n",
       " 'ṅ': 60,\n",
       " 'ị': 19,\n",
       " 'ọ': 14,\n",
       " 'ụ': 10,\n",
       " '–': 59,\n",
       " '—': 76,\n",
       " '’': 44,\n",
       " '”': 62}"
      ]
     },
     "execution_count": 4,
     "metadata": {},
     "output_type": "execute_result"
    }
   ],
   "source": [
    "model_id = \"facebook/mms-1b-all\"\n",
    "processor = AutoProcessor.from_pretrained(model_id)\n",
    "model = Wav2Vec2ForCTC.from_pretrained(model_id)\n",
    "processor.tokenizer.get_vocab()[\"ibo\"]"
   ]
  },
  {
   "cell_type": "code",
   "execution_count": null,
   "id": "84161a71",
   "metadata": {},
   "outputs": [],
   "source": [
    "data_cv[0]"
   ]
  },
  {
   "cell_type": "code",
   "execution_count": null,
   "id": "84069155",
   "metadata": {},
   "outputs": [],
   "source": [
    "def _remove_non_alphanumeric_chars(transcription):\n",
    "    remove_chars_list = ['!', '\"', '$', '%', '&', \"'\", '(', ')', '+', ',', '-', '.', '/', ':', ';', '?', '[', ']', '_', '|', '~', '£', '¥', '°', '²', '½', '¾', '–', '—', '‘', '’', '“', '”', '…']"
   ]
  },
  {
   "cell_type": "code",
   "execution_count": 5,
   "id": "e275fd08",
   "metadata": {},
   "outputs": [
    {
     "name": "stderr",
     "output_type": "stream",
     "text": [
      "100%|████████████████████████████████████████████████████████████████████████████████████████████████████████████████████| 969/969 [1:04:55<00:00,  4.02s/it]\n"
     ]
    }
   ],
   "source": [
    "#batch = processor.pad(input_features, padding=self.padding, max_length=self.max_length, pad_to_multiple_of=self.pad_to_multiple_of, return_tensors=\"pt\")\n",
    "processor.tokenizer.set_target_lang(\"ibo\")\n",
    "model.load_adapter(\"ibo\")\n",
    "transcriptions = []\n",
    "gold_transcriptions = []\n",
    "for elem in tqdm(data_fleurs):\n",
    "    inputs = processor(elem[\"audio\"][\"array\"], sampling_rate=16_000, return_tensors=\"pt\")\n",
    "    with torch.no_grad():\n",
    "        outputs = model(**inputs).logits\n",
    "    ids = torch.argmax(outputs, dim=-1)[0]\n",
    "    transcriptions.append(processor.decode(ids))\n",
    "    gold_transcriptions.append(elem[\"raw_transcription\"].lower())\n",
    "    # 'wachambuzi wa soka wanamtaja mesi kama nyota hatari zaidi duniani'\n",
    "    # => In English: \"soccer analysts describe Messi as the most dangerous player in the world\""
   ]
  },
  {
   "cell_type": "code",
   "execution_count": 6,
   "id": "b2035cbc",
   "metadata": {},
   "outputs": [],
   "source": [
    "with open(\"facebook_mms-1b-all/zero-shot/fluers-test_output.jsonl\", \"w+\") as f:\n",
    "    for transcription in transcriptions:\n",
    "        json.dump(transcription, f)\n",
    "        f.write(\"\\n\")"
   ]
  },
  {
   "cell_type": "code",
   "execution_count": 7,
   "id": "02e05e34",
   "metadata": {},
   "outputs": [],
   "source": [
    "with open(\"facebook_mms-1b-all/zero-shot/fluers-test_raw_lowercased.jsonl\", \"w+\") as f:\n",
    "    for transcription in gold_transcriptions:\n",
    "        json.dump(transcription, f)\n",
    "        f.write(\"\\n\")"
   ]
  },
  {
   "cell_type": "code",
   "execution_count": 8,
   "id": "6563a783",
   "metadata": {},
   "outputs": [
    {
     "data": {
      "text/plain": [
       "(969, 969)"
      ]
     },
     "execution_count": 8,
     "metadata": {},
     "output_type": "execute_result"
    }
   ],
   "source": [
    "len(transcriptions), len(gold_transcriptions)"
   ]
  },
  {
   "cell_type": "code",
   "execution_count": 9,
   "id": "95b00062",
   "metadata": {},
   "outputs": [
    {
     "name": "stderr",
     "output_type": "stream",
     "text": [
      "/tmp/ipykernel_5503/239588746.py:1: FutureWarning: load_metric is deprecated and will be removed in the next major version of datasets. Use 'evaluate.load' instead, from the new library 🤗 Evaluate: https://huggingface.co/docs/evaluate\n",
      "  wer_metric = load_metric(\"wer\")\n"
     ]
    },
    {
     "data": {
      "text/plain": [
       "(0.5149128205128205, 0.1494831638435268)"
      ]
     },
     "execution_count": 9,
     "metadata": {},
     "output_type": "execute_result"
    }
   ],
   "source": [
    "wer_metric = load_metric(\"wer\")\n",
    "cer_metric = load_metric(\"cer\")\n",
    "wer = wer_metric.compute(predictions=transcriptions, references=gold_transcriptions)\n",
    "cer = cer_metric.compute(predictions=transcriptions, references=gold_transcriptions)\n",
    "wer, cer"
   ]
  },
  {
   "cell_type": "code",
   "execution_count": null,
   "id": "f65028c4",
   "metadata": {},
   "outputs": [],
   "source": [
    "transcriptions[0]"
   ]
  },
  {
   "cell_type": "code",
   "execution_count": null,
   "id": "ba636fe0",
   "metadata": {},
   "outputs": [],
   "source": [
    "gold_transcriptions[0]"
   ]
  },
  {
   "cell_type": "code",
   "execution_count": null,
   "id": "363a9823",
   "metadata": {},
   "outputs": [],
   "source": []
  }
 ],
 "metadata": {
  "kernelspec": {
   "display_name": "Python 3 (ipykernel)",
   "language": "python",
   "name": "python3"
  },
  "language_info": {
   "codemirror_mode": {
    "name": "ipython",
    "version": 3
   },
   "file_extension": ".py",
   "mimetype": "text/x-python",
   "name": "python",
   "nbconvert_exporter": "python",
   "pygments_lexer": "ipython3",
   "version": "3.10.11"
  }
 },
 "nbformat": 4,
 "nbformat_minor": 5
}
