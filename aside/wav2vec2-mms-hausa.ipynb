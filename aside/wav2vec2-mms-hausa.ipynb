{
 "cells": [
  {
   "cell_type": "code",
   "execution_count": null,
   "id": "1cb385bf",
   "metadata": {},
   "outputs": [],
   "source": [
    "from datasets import load_metric, load_dataset, Audio\n",
    "from transformers import Wav2Vec2ForCTC, AutoProcessor, TrainingArguments, Trainer\n",
    "import torch\n",
    "\n",
    "from tqdm import tqdm\n",
    "\n",
    "import re\n",
    "\n",
    "from finetuning_util_hausa import preprocess_texts, preprocess_text, create_vocab_dict, create_data_collator, compute_metrics, ASRDataset\n",
    "\n",
    "import json\n",
    "\n",
    "cache_dir_fleurs =\"/data/users/kashrest/lrl-asr-experiments/data/fleurs\""
   ]
  },
  {
   "cell_type": "code",
   "execution_count": null,
   "id": "b67f69af",
   "metadata": {},
   "outputs": [],
   "source": [
    "\"\"\"from huggingface_hub import notebook_login\n",
    "\n",
    "notebook_login()\"\"\"\n",
    "\n",
    "cache_dir=\"/data/users/kashrest/lrl-asr-experiments/data/fleurs\"\n",
    "\n",
    "data = load_dataset(\"google/fleurs\", \"ha_ng\", split=\"test\", cache_dir=cache_dir)"
   ]
  },
  {
   "cell_type": "markdown",
   "id": "235e5439",
   "metadata": {},
   "source": [
    "# Inference - MMS-1b-all"
   ]
  },
  {
   "cell_type": "code",
   "execution_count": null,
   "id": "0ba590f7",
   "metadata": {},
   "outputs": [],
   "source": [
    "data[0]"
   ]
  },
  {
   "cell_type": "code",
   "execution_count": null,
   "id": "6f1c6e03",
   "metadata": {},
   "outputs": [],
   "source": [
    "model_id = \"facebook/mms-1b-all\"\n",
    "\n",
    "processor = AutoProcessor.from_pretrained(model_id)\n",
    "model = Wav2Vec2ForCTC.from_pretrained(model_id)"
   ]
  },
  {
   "cell_type": "code",
   "execution_count": null,
   "id": "7723db69",
   "metadata": {},
   "outputs": [],
   "source": [
    "processor.tokenizer.get_vocab()[\"hau\"]"
   ]
  },
  {
   "cell_type": "code",
   "execution_count": null,
   "id": "e275fd08",
   "metadata": {},
   "outputs": [],
   "source": [
    "#batch = processor.pad(input_features, padding=self.padding, max_length=self.max_length, pad_to_multiple_of=self.pad_to_multiple_of, return_tensors=\"pt\")\n",
    "processor.tokenizer.set_target_lang(\"hau\")\n",
    "model.load_adapter(\"hau\")\n",
    "transcriptions = []\n",
    "gold_transcriptions = []\n",
    "for elem in tqdm(data):\n",
    "    inputs = processor(elem[\"audio\"][\"array\"], sampling_rate=16_000, return_tensors=\"pt\")\n",
    "    with torch.no_grad():\n",
    "        outputs = model(**inputs).logits\n",
    "    ids = torch.argmax(outputs, dim=-1)[0]\n",
    "    transcriptions.append(processor.decode(ids))\n",
    "    gold_transcriptions.append(preprocess_text(elem[\"raw_transcription\"]))\n",
    "    # 'wachambuzi wa soka wanamtaja mesi kama nyota hatari zaidi duniani'\n",
    "    # => In English: \"soccer analysts describe Messi as the most dangerous player in the world\"\n",
    "    \n",
    "with open(\"facebook_mms-1b-all/zero-shot/fluers_customized_preprocessing_test_output.jsonl\", \"w\") as f:\n",
    "    for transcription in transcriptions:\n",
    "        json.dump(transcription, f)\n",
    "        f.write(\"\\n\")"
   ]
  },
  {
   "cell_type": "code",
   "execution_count": null,
   "id": "6563a783",
   "metadata": {},
   "outputs": [],
   "source": [
    "len(transcriptions), len(gold_transcriptions)"
   ]
  },
  {
   "cell_type": "code",
   "execution_count": null,
   "id": "95b00062",
   "metadata": {},
   "outputs": [],
   "source": [
    "wer_metric = load_metric(\"wer\")\n",
    "cer_metric = load_metric(\"cer\")\n",
    "wer = wer_metric.compute(predictions=transcriptions, references=gold_transcriptions)\n",
    "cer = cer_metric.compute(predictions=transcriptions, references=gold_transcriptions)\n",
    "wer, cer"
   ]
  },
  {
   "cell_type": "code",
   "execution_count": null,
   "id": "f65028c4",
   "metadata": {},
   "outputs": [],
   "source": [
    "transcriptions[0]"
   ]
  },
  {
   "cell_type": "code",
   "execution_count": null,
   "id": "ba636fe0",
   "metadata": {},
   "outputs": [],
   "source": [
    "gold_transcriptions[0]"
   ]
  },
  {
   "cell_type": "code",
   "execution_count": null,
   "id": "363a9823",
   "metadata": {},
   "outputs": [],
   "source": []
  }
 ],
 "metadata": {
  "kernelspec": {
   "display_name": "Python 3 (ipykernel)",
   "language": "python",
   "name": "python3"
  },
  "language_info": {
   "codemirror_mode": {
    "name": "ipython",
    "version": 3
   },
   "file_extension": ".py",
   "mimetype": "text/x-python",
   "name": "python",
   "nbconvert_exporter": "python",
   "pygments_lexer": "ipython3",
   "version": "3.10.11"
  }
 },
 "nbformat": 4,
 "nbformat_minor": 5
}
