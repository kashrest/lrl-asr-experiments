{
 "cells": [
  {
   "cell_type": "code",
   "execution_count": null,
   "id": "df2a3b28",
   "metadata": {},
   "outputs": [],
   "source": [
    "!nvidia-smi"
   ]
  },
  {
   "cell_type": "code",
   "execution_count": 2,
   "id": "ae85098e",
   "metadata": {},
   "outputs": [
    {
     "data": {
      "application/vnd.jupyter.widget-view+json": {
       "model_id": "b7f9739b78e8440ea71b2193430d4a67",
       "version_major": 2,
       "version_minor": 0
      },
      "text/plain": [
       "VBox(children=(HTML(value='<center> <img\\nsrc=https://huggingface.co/front/assets/huggingface_logo-noborder.sv…"
      ]
     },
     "metadata": {},
     "output_type": "display_data"
    }
   ],
   "source": [
    "from huggingface_hub import notebook_login\n",
    "\n",
    "notebook_login()"
   ]
  },
  {
   "cell_type": "code",
   "execution_count": 1,
   "id": "00532fe9",
   "metadata": {},
   "outputs": [],
   "source": [
    "import matplotlib.pyplot as plt\n",
    "import json\n",
    "\n",
    "from transformers import Wav2Vec2FeatureExtractor\n",
    "from transformers import Wav2Vec2Processor\n",
    "from transformers import Wav2Vec2CTCTokenizer\n",
    "from transformers import Wav2Vec2ForCTC\n",
    "from transformers import TrainingArguments\n",
    "from transformers import Trainer\n",
    "\n",
    "import IPython.display as ipd\n",
    "import numpy as np\n",
    "import random\n",
    "import os\n",
    "import torch\n",
    "import re\n",
    "\n",
    "from dataclasses import dataclass, field\n",
    "from typing import Any, Dict, List, Optional, Union\n",
    "\n",
    "from datasets import load_metric\n",
    "from datasets import load_dataset\n",
    "\n",
    "from finetuning_util_hausa import preprocess_texts, ASRDataset\n",
    "from finetuning_util_hausa import return_combined_dataset, return_fleurs_test, return_cv_test, return_bibletts"
   ]
  },
  {
   "cell_type": "code",
   "execution_count": 6,
   "id": "2148ff59",
   "metadata": {
    "scrolled": true
   },
   "outputs": [],
   "source": [
    "#cache_dir=\"/data/users/kashrest/lrl-asr-experiments/data/fleurs\"\n",
    "\n",
    "root = \"/data/users/kashrest/lrl-asr-experiments/\"\n",
    "\n",
    "pretrained_model_card = \"facebook/wav2vec2-xls-r-300m\"\n",
    "\n",
    "training_experiment_number = \"combined-hausa_experiment_combined-1\"\n",
    "\n",
    "out_dir = root+pretrained_model_card.replace(\"/\", \"_\")+\"/hausa/\"+training_experiment_number+\"/\"\n",
    "\n",
    "best_checkpoint = out_dir+\"checkpoint-18100/\"\n",
    "\n",
    "hausa_vocab_file = out_dir+\"vocab_hausa_combined_train_val_test.json\"\n",
    "hyperparameter_file = out_dir+\"hyperparameters.jsonl\""
   ]
  },
  {
   "cell_type": "code",
   "execution_count": 4,
   "id": "988b5606",
   "metadata": {},
   "outputs": [
    {
     "name": "stderr",
     "output_type": "stream",
     "text": [
      "Found cached dataset fleurs (/data/users/kashrest/lrl-asr-experiments/data/fleurs/google___fleurs/ha_ng/2.0.0/af82dbec419a815084fa63ebd5d5a9f24a6e9acdf9887b9e3b8c6bbd64e0b7ac)\n",
      "Found cached dataset common_voice_13_0 (/data/users/kashrest/lrl-asr-experiments/data/cv_13/mozilla-foundation___common_voice_13_0/ha/13.0.0/22809012aac1fc9803eaffc44122e4149043748e93933935d5ea19898587e4d7)\n"
     ]
    }
   ],
   "source": [
    "fleurs_test_audio, fleurs_test_transcriptions = return_fleurs_test() \n",
    "cv_test_audio, cv_test_transcriptions = return_cv_test() \n",
    "bibletts_test_audio, bibletts_test_transcriptions = return_bibletts() \n",
    "\n",
    "fleurs_test_transcriptions = preprocess_texts(fleurs_test_transcriptions)\n",
    "cv_test_transcriptions = preprocess_texts(cv_test_transcriptions)\n",
    "bibletts_test_transcriptions = preprocess_texts(bibletts_test_transcriptions)"
   ]
  },
  {
   "cell_type": "code",
   "execution_count": 5,
   "id": "31224b6f",
   "metadata": {},
   "outputs": [
    {
     "data": {
      "text/plain": [
       "(621, 659, 124)"
      ]
     },
     "execution_count": 5,
     "metadata": {},
     "output_type": "execute_result"
    }
   ],
   "source": [
    "len(fleurs_test_audio), len(cv_test_audio), len(bibletts_test_audio)"
   ]
  },
  {
   "cell_type": "code",
   "execution_count": 7,
   "id": "ee36cfc4",
   "metadata": {},
   "outputs": [],
   "source": [
    "tokenizer = Wav2Vec2CTCTokenizer(hausa_vocab_file, unk_token=\"[UNK]\", pad_token=\"[PAD]\", word_delimiter_token=\"|\")\n",
    "\n",
    "sampling_rate = 16000\n",
    "feature_extractor = Wav2Vec2FeatureExtractor(feature_size=1, sampling_rate=sampling_rate, padding_value=0.0, do_normalize=True, return_attention_mask=True)\n",
    "processor = Wav2Vec2Processor(feature_extractor=feature_extractor, tokenizer=tokenizer)"
   ]
  },
  {
   "cell_type": "code",
   "execution_count": 9,
   "id": "0491bfc9",
   "metadata": {},
   "outputs": [],
   "source": [
    "fleurs_test_dataset = ASRDataset(fleurs_test_audio, fleurs_test_transcriptions, sampling_rate, processor)\n",
    "cv_test_dataset = ASRDataset(cv_test_audio, cv_test_transcriptions, sampling_rate, processor)\n",
    "bibletts_test_dataset = ASRDataset(bibletts_test_audio, bibletts_test_transcriptions, sampling_rate, processor)"
   ]
  },
  {
   "cell_type": "code",
   "execution_count": 11,
   "id": "46874783",
   "metadata": {},
   "outputs": [
    {
     "name": "stderr",
     "output_type": "stream",
     "text": [
      "/data/users/kashrest/miniconda3/envs/asr/lib/python3.10/site-packages/transformers/models/wav2vec2/modeling_wav2vec2.py:1874: FutureWarning: The method `freeze_feature_extractor` is deprecated and will be removed in Transformers v5.Please use the equivalent `freeze_feature_encoder` method instead.\n",
      "  warnings.warn(\n"
     ]
    }
   ],
   "source": [
    "@dataclass\n",
    "class DataCollatorCTCWithPadding:\n",
    "    \"\"\"\n",
    "    Data collator that will dynamically pad the inputs received.\n",
    "    Args:\n",
    "        processor (:class:`~transformers.Wav2Vec2Processor`)\n",
    "            The processor used for proccessing the data.\n",
    "        padding (:obj:`bool`, :obj:`str` or :class:`~transformers.tokenization_utils_base.PaddingStrategy`, `optional`, defaults to :obj:`True`):\n",
    "            Select a strategy to pad the returned sequences (according to the model's padding side and padding index)\n",
    "            among:\n",
    "            * :obj:`True` or :obj:`'longest'`: Pad to the longest sequence in the batch (or no padding if only a single\n",
    "              sequence if provided).\n",
    "            * :obj:`'max_length'`: Pad to a maximum length specified with the argument :obj:`max_length` or to the\n",
    "              maximum acceptable input length for the model if that argument is not provided.\n",
    "            * :obj:`False` or :obj:`'do_not_pad'` (default): No padding (i.e., can output a batch with sequences of\n",
    "              different lengths).\n",
    "        max_length (:obj:`int`, `optional`):\n",
    "            Maximum length of the ``input_values`` of the returned list and optionally padding length (see above).\n",
    "        max_length_labels (:obj:`int`, `optional`):\n",
    "            Maximum length of the ``labels`` returned list and optionally padding length (see above).\n",
    "        pad_to_multiple_of (:obj:`int`, `optional`):\n",
    "            If set will pad the sequence to a multiple of the provided value.\n",
    "            This is especially useful to enable the use of Tensor Cores on NVIDIA hardware with compute capability >=\n",
    "            7.5 (Volta).\n",
    "    \"\"\"\n",
    "\n",
    "    processor: Wav2Vec2Processor\n",
    "    padding: Union[bool, str] = True\n",
    "    max_length: Optional[int] = None\n",
    "    max_length_labels: Optional[int] = None\n",
    "    pad_to_multiple_of: Optional[int] = None\n",
    "    pad_to_multiple_of_labels: Optional[int] = None\n",
    "\n",
    "    def __call__(self, features: List[Dict[str, Union[List[int], torch.Tensor]]]) -> Dict[str, torch.Tensor]:\n",
    "        # split inputs and labels since they have to be of different lenghts and need\n",
    "        # different padding methods\n",
    "        input_features = [{\"input_values\": feature[\"input_values\"]} for feature in features]\n",
    "        label_features = [{\"input_ids\": feature[\"labels\"]} for feature in features]\n",
    "\n",
    "        batch = self.processor.pad(\n",
    "            input_features,\n",
    "            padding=self.padding,\n",
    "            max_length=self.max_length,\n",
    "            pad_to_multiple_of=self.pad_to_multiple_of,\n",
    "            return_tensors=\"pt\",\n",
    "        )\n",
    "        with self.processor.as_target_processor():\n",
    "            labels_batch = self.processor.pad(\n",
    "                label_features,\n",
    "                padding=self.padding,\n",
    "                max_length=self.max_length_labels,\n",
    "                pad_to_multiple_of=self.pad_to_multiple_of_labels,\n",
    "                return_tensors=\"pt\",\n",
    "            )\n",
    "\n",
    "        # replace padding with -100 to ignore loss correctly\n",
    "        labels = labels_batch[\"input_ids\"].masked_fill(labels_batch.attention_mask.ne(1), -100)\n",
    "\n",
    "        batch[\"labels\"] = labels\n",
    "\n",
    "        return batch\n",
    "    \n",
    "data_collator = DataCollatorCTCWithPadding(processor=processor, padding=True)\n",
    "\n",
    "wer_metric = load_metric(\"wer\")\n",
    "cer_metric = load_metric(\"cer\")\n",
    "\n",
    "def compute_metrics(pred):\n",
    "    pred_logits = pred.predictions\n",
    "    pred_ids = np.argmax(pred_logits, axis=-1)\n",
    "\n",
    "    pred.label_ids[pred.label_ids == -100] = processor.tokenizer.pad_token_id\n",
    "\n",
    "    pred_str = processor.batch_decode(pred_ids)\n",
    "    # we do not want to group tokens when computing the metrics\n",
    "    label_str = processor.batch_decode(pred.label_ids, group_tokens=False)\n",
    "\n",
    "    wer = wer_metric.compute(predictions=pred_str, references=label_str)\n",
    "    cer = cer_metric.compute(predictions=pred_str, references=label_str)\n",
    "    return {\"wer\": wer, \"cer\": cer}\n",
    "\n",
    "with open(hyperparameter_file, \"r\") as f:\n",
    "    obj = json.load(f)\n",
    "    batch_size = obj[\"training batch size\"]\n",
    "    learning_rate = obj[\"learning rate\"]\n",
    "    num_train_epochs = obj[\"number of training epochs\"]\n",
    "    attention_dropout = obj[\"attention dropout probability\"]\n",
    "    hidden_dropout = obj[\"hidden layer dropout probability\"]\n",
    "    feat_proj_dropout = obj[\"feature projection layer dropout probability\"]\n",
    "    mask_time_prob = obj[\"mask time probability\"]\n",
    "    layerdrop = obj[\"layer dropout probability\"]\n",
    "    warmup_steps = obj[\"warm up steps\"]\n",
    "\n",
    "model = Wav2Vec2ForCTC.from_pretrained(\n",
    "    best_checkpoint, \n",
    "    attention_dropout=attention_dropout,\n",
    "    hidden_dropout=hidden_dropout,\n",
    "    feat_proj_dropout=feat_proj_dropout,\n",
    "    mask_time_prob=mask_time_prob,\n",
    "    layerdrop=layerdrop,\n",
    "    ctc_loss_reduction=\"mean\", \n",
    "    pad_token_id=processor.tokenizer.pad_token_id,\n",
    "    vocab_size=len(processor.tokenizer)\n",
    ")\n",
    "\n",
    "model.num_parameters() # facebook/wav2vec2-xls-r-300m\n",
    "model.freeze_feature_extractor()\n",
    "model.gradient_checkpointing_enable()\n",
    "\n",
    "\n",
    "training_args = TrainingArguments(\n",
    "  output_dir=out_dir+\"temp/\",\n",
    "  group_by_length=True,\n",
    "  per_device_train_batch_size=batch_size,\n",
    "  gradient_accumulation_steps=2,\n",
    "  evaluation_strategy=\"steps\",\n",
    "  num_train_epochs=num_train_epochs,\n",
    "  fp16=True,\n",
    "  save_steps=100,\n",
    "  eval_steps=100,\n",
    "  logging_steps=10,\n",
    "  load_best_model_at_end=True,\n",
    "  learning_rate=learning_rate,\n",
    "  warmup_steps=warmup_steps,\n",
    "  save_total_limit=2,\n",
    "  metric_for_best_model=\"wer\",\n",
    "  greater_is_better=False\n",
    ")\n",
    "\n",
    "trainer = Trainer(\n",
    "    model=model,\n",
    "    data_collator=data_collator,\n",
    "    args=training_args,\n",
    "    compute_metrics=compute_metrics,\n",
    "    train_dataset=fleurs_test_dataset,\n",
    "    eval_dataset=fleurs_test_dataset, \n",
    "    tokenizer=processor.feature_extractor,\n",
    ")"
   ]
  },
  {
   "cell_type": "code",
   "execution_count": 21,
   "id": "f1383bbc",
   "metadata": {},
   "outputs": [
    {
     "data": {
      "text/html": [],
      "text/plain": [
       "<IPython.core.display.HTML object>"
      ]
     },
     "metadata": {},
     "output_type": "display_data"
    },
    {
     "data": {
      "text/plain": [
       "{'wer': 0.3690682036503362, 'cer': 0.09676691729323308}"
      ]
     },
     "execution_count": 21,
     "metadata": {},
     "output_type": "execute_result"
    }
   ],
   "source": [
    "preds = trainer.predict(cv_test_dataset)\n",
    "\n",
    "compute_metrics(preds)"
   ]
  },
  {
   "cell_type": "code",
   "execution_count": 22,
   "id": "7e95433e",
   "metadata": {},
   "outputs": [],
   "source": [
    "pred_logits = preds.predictions\n",
    "pred_ids = np.argmax(pred_logits, axis=-1)\n",
    "\n",
    "preds.label_ids[preds.label_ids == -100] = processor.tokenizer.pad_token_id\n",
    "\n",
    "pred_strs = processor.batch_decode(pred_ids)\n",
    "# we do not want to group tokens when computing the metrics\n",
    "label_strs = processor.batch_decode(preds.label_ids, group_tokens=False)\n",
    "\n",
    "with open(out_dir+\"model_predicted_cv13_test.jsonl\", \"w\") as f:\n",
    "    for pred in pred_strs:\n",
    "        json.dump(pred, f)\n",
    "        f.write(\"\\n\")"
   ]
  },
  {
   "cell_type": "code",
   "execution_count": null,
   "id": "c3941186",
   "metadata": {},
   "outputs": [],
   "source": [
    "tokenizer = Wav2Vec2CTCTokenizer(hausa_vocab_file, unk_token=\"[UNK]\", pad_token=\"[PAD]\", word_delimiter_token=\"|\")\n",
    "\n",
    "sampling_rate = 16000\n",
    "feature_extractor = Wav2Vec2FeatureExtractor(feature_size=1, sampling_rate=sampling_rate, padding_value=0.0, do_normalize=True, return_attention_mask=True)\n",
    "processor = Wav2Vec2Processor(feature_extractor=feature_extractor, tokenizer=tokenizer)\n",
    "\n",
    "def prepare_dataset(batch):\n",
    "    audio = batch[\"audio\"]\n",
    "    # batched output is \"un-batched\"\n",
    "    batch[\"input_values\"] = processor(audio[\"array\"], sampling_rate=audio[\"sampling_rate\"]).input_values[0]\n",
    "    \n",
    "    with processor.as_target_processor():\n",
    "        batch[\"labels\"] = processor(batch[\"transcription\"]).input_ids\n",
    "    return batch\n",
    "\n",
    "fleurs_hausa_train = fleurs_hausa_train.map(prepare_dataset, remove_columns=fleurs_hausa_train.column_names, num_proc=4)\n",
    "fleurs_hausa_val = fleurs_hausa_val.map(prepare_dataset, remove_columns=fleurs_hausa_val.column_names, num_proc=4)\n",
    "fleurs_hausa_test = fleurs_hausa_test.map(prepare_dataset, remove_columns=fleurs_hausa_test.column_names, num_proc=4)\n",
    "\n",
    "@dataclass\n",
    "class DataCollatorCTCWithPadding:\n",
    "    \"\"\"\n",
    "    Data collator that will dynamically pad the inputs received.\n",
    "    Args:\n",
    "        processor (:class:`~transformers.Wav2Vec2Processor`)\n",
    "            The processor used for proccessing the data.\n",
    "        padding (:obj:`bool`, :obj:`str` or :class:`~transformers.tokenization_utils_base.PaddingStrategy`, `optional`, defaults to :obj:`True`):\n",
    "            Select a strategy to pad the returned sequences (according to the model's padding side and padding index)\n",
    "            among:\n",
    "            * :obj:`True` or :obj:`'longest'`: Pad to the longest sequence in the batch (or no padding if only a single\n",
    "              sequence if provided).\n",
    "            * :obj:`'max_length'`: Pad to a maximum length specified with the argument :obj:`max_length` or to the\n",
    "              maximum acceptable input length for the model if that argument is not provided.\n",
    "            * :obj:`False` or :obj:`'do_not_pad'` (default): No padding (i.e., can output a batch with sequences of\n",
    "              different lengths).\n",
    "        max_length (:obj:`int`, `optional`):\n",
    "            Maximum length of the ``input_values`` of the returned list and optionally padding length (see above).\n",
    "        max_length_labels (:obj:`int`, `optional`):\n",
    "            Maximum length of the ``labels`` returned list and optionally padding length (see above).\n",
    "        pad_to_multiple_of (:obj:`int`, `optional`):\n",
    "            If set will pad the sequence to a multiple of the provided value.\n",
    "            This is especially useful to enable the use of Tensor Cores on NVIDIA hardware with compute capability >=\n",
    "            7.5 (Volta).\n",
    "    \"\"\"\n",
    "\n",
    "    processor: Wav2Vec2Processor\n",
    "    padding: Union[bool, str] = True\n",
    "    max_length: Optional[int] = None\n",
    "    max_length_labels: Optional[int] = None\n",
    "    pad_to_multiple_of: Optional[int] = None\n",
    "    pad_to_multiple_of_labels: Optional[int] = None\n",
    "\n",
    "    def __call__(self, features: List[Dict[str, Union[List[int], torch.Tensor]]]) -> Dict[str, torch.Tensor]:\n",
    "        # split inputs and labels since they have to be of different lenghts and need\n",
    "        # different padding methods\n",
    "        input_features = [{\"input_values\": feature[\"input_values\"]} for feature in features]\n",
    "        label_features = [{\"input_ids\": feature[\"labels\"]} for feature in features]\n",
    "\n",
    "        batch = self.processor.pad(\n",
    "            input_features,\n",
    "            padding=self.padding,\n",
    "            max_length=self.max_length,\n",
    "            pad_to_multiple_of=self.pad_to_multiple_of,\n",
    "            return_tensors=\"pt\",\n",
    "        )\n",
    "        with self.processor.as_target_processor():\n",
    "            labels_batch = self.processor.pad(\n",
    "                label_features,\n",
    "                padding=self.padding,\n",
    "                max_length=self.max_length_labels,\n",
    "                pad_to_multiple_of=self.pad_to_multiple_of_labels,\n",
    "                return_tensors=\"pt\",\n",
    "            )\n",
    "\n",
    "        # replace padding with -100 to ignore loss correctly\n",
    "        labels = labels_batch[\"input_ids\"].masked_fill(labels_batch.attention_mask.ne(1), -100)\n",
    "\n",
    "        batch[\"labels\"] = labels\n",
    "\n",
    "        return batch\n",
    "    \n",
    "data_collator = DataCollatorCTCWithPadding(processor=processor, padding=True)\n",
    "\n",
    "wer_metric = load_metric(\"wer\")\n",
    "cer_metric = load_metric(\"cer\")\n",
    "\n",
    "def compute_metrics(pred):\n",
    "    pred_logits = pred.predictions\n",
    "    pred_ids = np.argmax(pred_logits, axis=-1)\n",
    "\n",
    "    pred.label_ids[pred.label_ids == -100] = processor.tokenizer.pad_token_id\n",
    "\n",
    "    pred_str = processor.batch_decode(pred_ids)\n",
    "    # we do not want to group tokens when computing the metrics\n",
    "    label_str = processor.batch_decode(pred.label_ids, group_tokens=False)\n",
    "\n",
    "    wer = wer_metric.compute(predictions=pred_str, references=label_str)\n",
    "    cer = cer_metric.compute(predictions=pred_str, references=label_str)\n",
    "    return {\"wer\": wer, \"cer\": cer}"
   ]
  },
  {
   "cell_type": "code",
   "execution_count": null,
   "id": "d5c3f7b4",
   "metadata": {},
   "outputs": [],
   "source": [
    "# make sure this preprocessing matches your checkpoint\n",
    "\n",
    "hausa_train_audio = data[\"train\"][\"audio\"]\n",
    "hausa_train_transcriptions = data[\"train\"][\"transcriptions\"]\n",
    "fleurs_hausa_val = load_dataset(\"google/fleurs\", \"ha_ng\", split=\"validation\", cache_dir=cache_dir)\n",
    "fleurs_hausa_test = load_dataset(\"google/fleurs\", \"ha_ng\", split=\"test\", cache_dir=cache_dir)\n",
    "\n",
    "\n",
    "chars_to_remove_regex = '[\\,\\?\\!\\-\\;\\:\\\"\\“\\%\\‘\\'\\”\\�\\$]'\n",
    "\n",
    "and_sym = '&'\n",
    "\n",
    "def remove_special_characters(batch):\n",
    "    batch[\"transcription\"] = re.sub(chars_to_remove_regex, '', batch[\"transcription\"]).lower()\n",
    "    batch[\"transcription\"] = re.sub(\"\\[\", '', batch[\"transcription\"])\n",
    "    batch[\"transcription\"] = re.sub(\"\\]\", '', batch[\"transcription\"])\n",
    "    batch[\"transcription\"] = re.sub(\"\\{\", '', batch[\"transcription\"])\n",
    "    batch[\"transcription\"] = re.sub(\"\\}\", '', batch[\"transcription\"])\n",
    "    batch[\"transcription\"] = re.sub(r'[\\\\]', '', batch[\"transcription\"])\n",
    "    batch[\"transcription\"] = re.sub(r'[/]', '', batch[\"transcription\"])\n",
    "    batch[\"transcription\"] = re.sub(u'[¥£°¾½²]', '', batch[\"transcription\"])\n",
    "    batch[\"transcription\"] = re.sub(u'[\\+><]', '', batch[\"transcription\"])\n",
    "    #batch[\"transcription\"] = re.sub(and_sym, \"and\", batch[\"transcription\"])\n",
    "    return batch\n",
    "\n",
    "def normalize_diacritics(batch):\n",
    "    a = '[āăáã]'\n",
    "    u = '[ūúü]'\n",
    "    o = '[öõó]' \n",
    "    c = '[ç]'\n",
    "    i = '[í]'\n",
    "    s = '[ş]'\n",
    "    e = '[é]'\n",
    "    \n",
    "    batch[\"transcription\"] = re.sub(a, \"a\", batch[\"transcription\"])\n",
    "    batch[\"transcription\"] = re.sub(u, \"u\", batch[\"transcription\"])\n",
    "    batch[\"transcription\"] = re.sub(o, \"o\", batch[\"transcription\"])\n",
    "    batch[\"transcription\"] = re.sub(c, \"c\", batch[\"transcription\"])\n",
    "    batch[\"transcription\"] = re.sub(i, \"i\", batch[\"transcription\"])\n",
    "    batch[\"transcription\"] = re.sub(s, \"s\", batch[\"transcription\"])\n",
    "    batch[\"transcription\"] = re.sub(e, \"e\", batch[\"transcription\"])\n",
    "\n",
    "    return batch\n",
    "\n",
    "fleurs_hausa_train = fleurs_hausa_train.map(remove_special_characters)\n",
    "fleurs_hausa_val = fleurs_hausa_val.map(remove_special_characters)\n",
    "fleurs_hausa_test = fleurs_hausa_test.map(remove_special_characters)\n",
    "\n",
    "fleurs_hausa_train = fleurs_hausa_train.map(normalize_diacritics)\n",
    "fleurs_hausa_val = fleurs_hausa_val.map(normalize_diacritics)\n",
    "fleurs_hausa_test = fleurs_hausa_test.map(normalize_diacritics)\n",
    "\n",
    "\n",
    "# Character vocabulary code from: https://colab.research.google.com/github/patrickvonplaten/notebooks/blob/master/Fine_Tune_XLSR_Wav2Vec2_on_Turkish_ASR_with_%F0%9F%A4%97_Transformers.ipynb#scrollTo=_0kRndSvqaKk\n",
    "def extract_all_chars(batch):\n",
    "  all_text = \" \".join(batch[\"transcription\"])\n",
    "  vocab = list(set(all_text))\n",
    "  return {\"vocab\": [vocab], \"all_text\": [all_text]}\n",
    "\n",
    "vocab_train = fleurs_hausa_train.map(extract_all_chars, batched=True, batch_size=-1, keep_in_memory=True, remove_columns=fleurs_hausa_train.column_names)\n",
    "vocab_val = fleurs_hausa_val.map(extract_all_chars, batched=True, batch_size=-1, keep_in_memory=True, remove_columns=fleurs_hausa_val.column_names)\n",
    "vocab_test = fleurs_hausa_test.map(extract_all_chars, batched=True, batch_size=-1, keep_in_memory=True, remove_columns=fleurs_hausa_test.column_names)\n",
    "\n",
    "vocab_list = list(set(vocab_train[\"vocab\"][0]) | set(vocab_test[\"vocab\"][0]) | set(vocab_val[\"vocab\"][0]))\n",
    "vocab_dict = {v: k for k, v in enumerate(vocab_list)}\n",
    "\n",
    "# for word delimiter, change \" \" --> \"|\" (ex. \"Hello my name is Kaleen\" --> \"Hello|my|name|is|Kaleen\")\n",
    "vocab_dict[\"|\"] = vocab_dict[\" \"]\n",
    "del vocab_dict[\" \"]\n",
    "vocab_dict[\"[UNK]\"] = len(vocab_dict)\n",
    "vocab_dict[\"[PAD]\"] = len(vocab_dict) # this is for CTC to predict the end of a character (e.g. \"hhh[PAD]iiiiii[PAD]\" == \"hi\")\n",
    "print(len(vocab_dict))"
   ]
  },
  {
   "cell_type": "code",
   "execution_count": null,
   "id": "25f24544",
   "metadata": {},
   "outputs": [],
   "source": [
    "actual_vocab_dict = None\n",
    "with open(hausa_vocab_file, \"r\") as f:\n",
    "    for line in f:\n",
    "        actual_vocab_dict = json.loads(line)\n",
    "actual_vocab_dict"
   ]
  },
  {
   "cell_type": "code",
   "execution_count": null,
   "id": "65c6c853",
   "metadata": {},
   "outputs": [],
   "source": [
    "set([elem[0] for elem in actual_vocab_dict.items()]) == set([elem[0] for elem in vocab_dict.items()])"
   ]
  },
  {
   "cell_type": "markdown",
   "id": "b591e711",
   "metadata": {},
   "source": [
    "# Evaluation"
   ]
  },
  {
   "cell_type": "code",
   "execution_count": null,
   "id": "1277399a",
   "metadata": {},
   "outputs": [],
   "source": [
    "# set up Trainer for prediction\n",
    "hyperparameters_file = out_dir+\"hyperparameters.jsonl\"\n",
    "with open(hyperparameters_file, \"r\") as f:\n",
    "    obj = json.load(f)\n",
    "    batch_size = obj[\"training batch size\"]\n",
    "    learning_rate = obj[\"learning rate\"]\n",
    "    num_train_epochs = obj[\"number of training epochs\"]\n",
    "    attention_dropout = obj[\"attention dropout probability\"]\n",
    "    hidden_dropout = obj[\"hidden layer dropout probability\"]\n",
    "    feat_proj_dropout = obj[\"feature projection layer dropout probability\"]\n",
    "    mask_time_prob = obj[\"mask time probability\"]\n",
    "    layerdrop = obj[\"layer dropout probability\"]\n",
    "    warmup_steps = obj[\"warm up steps\"]\n",
    "\n",
    "model = Wav2Vec2ForCTC.from_pretrained(\n",
    "    best_checkpoint, \n",
    "    attention_dropout=attention_dropout,\n",
    "    hidden_dropout=hidden_dropout,\n",
    "    feat_proj_dropout=feat_proj_dropout,\n",
    "    mask_time_prob=mask_time_prob,\n",
    "    layerdrop=layerdrop,\n",
    "    ctc_loss_reduction=\"mean\", \n",
    "    pad_token_id=processor.tokenizer.pad_token_id,\n",
    "    vocab_size=len(processor.tokenizer)\n",
    ")\n",
    "\n",
    "model.num_parameters() # facebook/wav2vec2-xls-r-300m\n",
    "model.freeze_feature_extractor()\n",
    "model.gradient_checkpointing_enable()\n",
    "\n",
    "\n",
    "training_args = TrainingArguments(\n",
    "  output_dir=out_dir+\"temp/\",\n",
    "  group_by_length=True,\n",
    "  per_device_train_batch_size=batch_size,\n",
    "  gradient_accumulation_steps=2,\n",
    "  evaluation_strategy=\"steps\",\n",
    "  num_train_epochs=num_train_epochs,\n",
    "  fp16=True,\n",
    "  save_steps=100,\n",
    "  eval_steps=100,\n",
    "  logging_steps=10,\n",
    "  load_best_model_at_end=True,\n",
    "  learning_rate=learning_rate,\n",
    "  warmup_steps=warmup_steps,\n",
    "  save_total_limit=2,\n",
    "  metric_for_best_model=\"wer\",\n",
    "  greater_is_better=False\n",
    ")\n",
    "\n",
    "trainer = Trainer(\n",
    "    model=model,\n",
    "    data_collator=data_collator,\n",
    "    args=training_args,\n",
    "    compute_metrics=compute_metrics,\n",
    "    train_dataset=fleurs_hausa_train,\n",
    "    eval_dataset=fleurs_hausa_val, \n",
    "    tokenizer=processor.feature_extractor,\n",
    ")"
   ]
  },
  {
   "cell_type": "code",
   "execution_count": null,
   "id": "bf877e7d",
   "metadata": {},
   "outputs": [],
   "source": [
    "preds_val = trainer.predict(fleurs_hausa_val)\n",
    "\n",
    "compute_metrics(preds_val)"
   ]
  },
  {
   "cell_type": "code",
   "execution_count": null,
   "id": "59a65e0f",
   "metadata": {},
   "outputs": [],
   "source": [
    "preds_test = trainer.predict(fleurs_hausa_test)\n",
    "\n",
    "compute_metrics(preds_test)"
   ]
  },
  {
   "cell_type": "code",
   "execution_count": null,
   "id": "d1c59ede",
   "metadata": {},
   "outputs": [],
   "source": [
    "pred_logits = preds_val.predictions\n",
    "pred_ids = np.argmax(pred_logits, axis=-1)\n",
    "\n",
    "preds_val.label_ids[preds_val.label_ids == -100] = processor.tokenizer.pad_token_id\n",
    "\n",
    "pred_strs = processor.batch_decode(pred_ids)\n",
    "# we do not want to group tokens when computing the metrics\n",
    "label_strs = processor.batch_decode(preds_val.label_ids, group_tokens=False)\n",
    "\n",
    "\n",
    "for i in range(100, 126):\n",
    "    print(i)\n",
    "    print(f\"Predicted transcript:\\n{pred_strs[i]}\\n\\nOriginal:\\n{label_strs[i]}\")\n",
    "    print(\"\\n****\\n\")"
   ]
  },
  {
   "cell_type": "code",
   "execution_count": null,
   "id": "64d54a8e",
   "metadata": {},
   "outputs": [],
   "source": [
    "ipd.Audio(data=fleurs_hausa_test_orig[2][\"audio\"][\"array\"], autoplay=True, rate=16000)"
   ]
  },
  {
   "cell_type": "code",
   "execution_count": null,
   "id": "44224283",
   "metadata": {},
   "outputs": [],
   "source": [
    "cer_metric.compute(predictions=[\"ciki6\"], references=[\"ciki\"])"
   ]
  },
  {
   "cell_type": "markdown",
   "id": "ab888092",
   "metadata": {},
   "source": [
    "## Sanity check: check against a model that hasn't been finetuned\n"
   ]
  },
  {
   "cell_type": "code",
   "execution_count": null,
   "id": "c4101414",
   "metadata": {},
   "outputs": [],
   "source": [
    "hyperparameters_file = out_dir+\"hyperparameters.jsonl\"\n",
    "with open(hyperparameters_file, \"r\") as f:\n",
    "    obj = json.load(f)\n",
    "    batch_size = obj[\"training batch size\"]\n",
    "    learning_rate = obj[\"learning rate\"]\n",
    "    num_train_epochs = obj[\"number of training epochs\"]\n",
    "    attention_dropout = obj[\"attention dropout probability\"]\n",
    "    hidden_dropout = obj[\"hidden layer dropout probability\"]\n",
    "    feat_proj_dropout = obj[\"feature projection layer dropout probability\"]\n",
    "    mask_time_prob = obj[\"mask time probability\"]\n",
    "    layerdrop = obj[\"layer dropout probability\"]\n",
    "    warmup_steps = obj[\"warm up steps\"]\n",
    "\n",
    "baseline_model = Wav2Vec2ForCTC.from_pretrained(\n",
    "    pretrained_model_card, \n",
    "    attention_dropout=attention_dropout,\n",
    "    hidden_dropout=hidden_dropout,\n",
    "    feat_proj_dropout=feat_proj_dropout,\n",
    "    mask_time_prob=mask_time_prob,\n",
    "    layerdrop=layerdrop,\n",
    "    ctc_loss_reduction=\"mean\", \n",
    "    pad_token_id=processor.tokenizer.pad_token_id,\n",
    "    vocab_size=len(processor.tokenizer)\n",
    ")\n",
    "\n",
    "baseline_model.num_parameters() # facebook/wav2vec2-xls-r-300m\n",
    "baseline_model.freeze_feature_extractor()\n",
    "baseline_model.gradient_checkpointing_enable()\n",
    "\n",
    "\n",
    "\n",
    "baseline_training_args = TrainingArguments(\n",
    "  output_dir=out_dir+\"temp/\",\n",
    "  group_by_length=True,\n",
    "  per_device_train_batch_size=batch_size,\n",
    "  gradient_accumulation_steps=2,\n",
    "  evaluation_strategy=\"steps\",\n",
    "  num_train_epochs=num_train_epochs,\n",
    "  fp16=True,\n",
    "  save_steps=100,\n",
    "  eval_steps=100,\n",
    "  logging_steps=10,\n",
    "  load_best_model_at_end=True,\n",
    "  learning_rate=learning_rate,\n",
    "  warmup_steps=warmup_steps,\n",
    "  save_total_limit=2,\n",
    ")\n",
    "\n",
    "baseline_trainer = Trainer(\n",
    "    model=baseline_model,\n",
    "    data_collator=data_collator,\n",
    "    args=baseline_training_args,\n",
    "    compute_metrics=compute_metrics,\n",
    "    train_dataset=fleurs_hausa_train,\n",
    "    eval_dataset=fleurs_hausa_val, \n",
    "    tokenizer=processor.feature_extractor,\n",
    ")"
   ]
  },
  {
   "cell_type": "code",
   "execution_count": null,
   "id": "e2e144a1",
   "metadata": {},
   "outputs": [],
   "source": [
    "baseline_preds = baseline_trainer.predict(fleurs_hausa_test)"
   ]
  },
  {
   "cell_type": "code",
   "execution_count": null,
   "id": "3d813d46",
   "metadata": {},
   "outputs": [],
   "source": [
    "compute_metrics(baseline_preds)"
   ]
  },
  {
   "cell_type": "code",
   "execution_count": null,
   "id": "dc708f5a",
   "metadata": {},
   "outputs": [],
   "source": [
    "pred_logits = baseline_preds.predictions\n",
    "pred_ids = np.argmax(pred_logits, axis=-1)\n",
    "\n",
    "baseline_preds.label_ids[baseline_preds.label_ids == -100] = processor.tokenizer.pad_token_id\n",
    "\n",
    "baseline_pred_strs = processor.batch_decode(pred_ids)\n",
    "# we do not want to group tokens when computing the metrics\n",
    "baseline_label_strs = processor.batch_decode(baseline_preds.label_ids, group_tokens=False)"
   ]
  },
  {
   "cell_type": "code",
   "execution_count": null,
   "id": "6b448587",
   "metadata": {},
   "outputs": [],
   "source": [
    "print(f\"Predicted transcript:\\n{baseline_pred_strs[0]}\\n\\nOriginal:\\n{baseline_label_strs[0]}\")"
   ]
  },
  {
   "cell_type": "code",
   "execution_count": null,
   "id": "b1f2f6cf",
   "metadata": {},
   "outputs": [],
   "source": [
    "!nvidia-smi"
   ]
  },
  {
   "cell_type": "code",
   "execution_count": null,
   "id": "e0f1a990",
   "metadata": {},
   "outputs": [],
   "source": [
    "!who"
   ]
  },
  {
   "cell_type": "code",
   "execution_count": null,
   "id": "025cef05",
   "metadata": {},
   "outputs": [],
   "source": []
  }
 ],
 "metadata": {
  "kernelspec": {
   "display_name": "Python 3 (ipykernel)",
   "language": "python",
   "name": "python3"
  },
  "language_info": {
   "codemirror_mode": {
    "name": "ipython",
    "version": 3
   },
   "file_extension": ".py",
   "mimetype": "text/x-python",
   "name": "python",
   "nbconvert_exporter": "python",
   "pygments_lexer": "ipython3",
   "version": "3.10.11"
  }
 },
 "nbformat": 4,
 "nbformat_minor": 5
}
