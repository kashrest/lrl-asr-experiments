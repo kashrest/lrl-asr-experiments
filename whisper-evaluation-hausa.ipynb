{
 "cells": [
  {
   "cell_type": "markdown",
   "id": "fde384d2",
   "metadata": {},
   "source": [
    "# This code will become obsolete since now finetuning will incorporate evaluation"
   ]
  },
  {
   "cell_type": "code",
   "execution_count": 1,
   "id": "aea05ea3",
   "metadata": {},
   "outputs": [],
   "source": [
    "from transformers import WhisperProcessor, WhisperForConditionalGeneration\n",
    "from datasets import Audio, load_dataset"
   ]
  },
  {
   "cell_type": "code",
   "execution_count": 21,
   "id": "4499a925",
   "metadata": {},
   "outputs": [
    {
     "name": "stderr",
     "output_type": "stream",
     "text": [
      "Found cached dataset fleurs (/data/users/kashrest/asr-experiments/google___fleurs/ha_ng/2.0.0/af82dbec419a815084fa63ebd5d5a9f24a6e9acdf9887b9e3b8c6bbd64e0b7ac)\n",
      "/data/users/kashrest/miniconda3/envs/asr/lib/python3.10/site-packages/transformers/generation/utils.py:1313: UserWarning: Using `max_length`'s default (448) to control the generation length. This behaviour is deprecated and will be removed from the config in v5 of Transformers -- we recommend using `max_new_tokens` to control the maximum length of the generation.\n",
      "  warnings.warn(\n"
     ]
    }
   ],
   "source": [
    "# load model and processor\n",
    "checkpoint = \"openai_whisper-large/experiment_1/checkpoint-2000\"\n",
    "processor = WhisperProcessor.from_pretrained(\"openai/whisper-large\")\n",
    "model = WhisperForConditionalGeneration.from_pretrained(\"openai/whisper-large\")#checkpoint)\n",
    "forced_decoder_ids = processor.get_decoder_prompt_ids(language=\"hausa\", task=\"transcribe\")\n",
    "\n",
    "# load streaming dataset and read first audio sample\n",
    "#ds = load_dataset(\"mozilla-foundation/common_voice_9_0\", \"ha\", split=\"test\", streaming=True)\n",
    "#ds = ds.cast_column(\"audio\", Audio(sampling_rate=16_000))\n",
    "cache_dir=\"/data/users/kashrest/lrl-asr-experiments/data/fleurs\"\n",
    "data = load_dataset(\"google/fleurs\", \"ha_ng\", split=\"test\", cache_dir=cache_dir)\n",
    "\n",
    "input_speech = next(iter(data))[\"audio\"]\n",
    "\n",
    "data_iter = iter(data)\n",
    "transcriptions_val = []\n",
    "for instance in data_iter:\n",
    "    input_speech = instance[\"audio\"]\n",
    "    input_features = processor(input_speech[\"array\"], sampling_rate=input_speech[\"sampling_rate\"], return_tensors=\"pt\").input_features\n",
    "\n",
    "    # generate token ids\n",
    "    predicted_ids = model.generate(input_features, forced_decoder_ids=forced_decoder_ids)\n",
    "    # decode token ids to text\n",
    "    transcription = processor.batch_decode(predicted_ids)\n",
    "\n",
    "    transcription = processor.batch_decode(predicted_ids, skip_special_tokens=True)\n",
    "    transcriptions_val.append(transcription)"
   ]
  },
  {
   "cell_type": "code",
   "execution_count": 22,
   "id": "e7ffd4b1",
   "metadata": {},
   "outputs": [],
   "source": [
    "import json\n",
    "with open(\"whisper-large-zeroshot_fleurs-test.jsonl\", \"w\") as f:\n",
    "    for transcript in transcriptions_val:\n",
    "        json.dump(transcript, f)\n",
    "        f.write(\"\\n\")"
   ]
  },
  {
   "cell_type": "code",
   "execution_count": 23,
   "id": "75f8bd2d",
   "metadata": {},
   "outputs": [],
   "source": [
    "transcriptions = [elem[0] for elem in transcriptions_val]"
   ]
  },
  {
   "cell_type": "code",
   "execution_count": 24,
   "id": "ef69b2f7",
   "metadata": {},
   "outputs": [
    {
     "name": "stderr",
     "output_type": "stream",
     "text": [
      "Found cached dataset fleurs (/data/users/kashrest/asr-experiments/google___fleurs/ha_ng/2.0.0/af82dbec419a815084fa63ebd5d5a9f24a6e9acdf9887b9e3b8c6bbd64e0b7ac)\n"
     ]
    }
   ],
   "source": [
    "cache_dir=\"/data/users/kashrest/lrl-asr-experiments/data/fleurs\"\n",
    "data = load_dataset(\"google/fleurs\", \"ha_ng\", split=\"test\", cache_dir=cache_dir)\n",
    "labels = []\n",
    "for elem in (iter(data)):\n",
    "    labels.append(elem[\"transcription\"])"
   ]
  },
  {
   "cell_type": "code",
   "execution_count": 6,
   "id": "aed503f1",
   "metadata": {},
   "outputs": [
    {
     "data": {
      "text/plain": [
       "'a lokacin 1920s hana ya mafirin jayi na yawancin dan ƙasa na ƙasashe shine na zaman lafiya da kebewa'"
      ]
     },
     "execution_count": 6,
     "metadata": {},
     "output_type": "execute_result"
    }
   ],
   "source": [
    "transcriptions[54]"
   ]
  },
  {
   "cell_type": "code",
   "execution_count": 7,
   "id": "b822c3f4",
   "metadata": {},
   "outputs": [
    {
     "data": {
      "text/plain": [
       "\"a lokacin 1920s halaye mafi rinjaye na yawancin 'yan ƙasa da ƙasashe shine na zaman lafiya da keɓewa\""
      ]
     },
     "execution_count": 7,
     "metadata": {},
     "output_type": "execute_result"
    }
   ],
   "source": [
    "labels[54]"
   ]
  },
  {
   "cell_type": "code",
   "execution_count": 25,
   "id": "9d795ff1",
   "metadata": {},
   "outputs": [
    {
     "data": {
      "text/plain": [
       "0.9641416405199462"
      ]
     },
     "execution_count": 25,
     "metadata": {},
     "output_type": "execute_result"
    }
   ],
   "source": [
    "from datasets import load_metric\n",
    "\n",
    "labels = []\n",
    "for elem in iter(data):\n",
    "    labels.append(elem[\"transcription\"])\n",
    "\n",
    "wer_metric = load_metric(\"wer\")\n",
    "cer_metric = load_metric(\"cer\")\n",
    "\n",
    "wer_metric.compute(predictions=transcriptions, references=labels)"
   ]
  },
  {
   "cell_type": "code",
   "execution_count": 26,
   "id": "c330ae30",
   "metadata": {},
   "outputs": [
    {
     "data": {
      "text/plain": [
       "0.4114271804145222"
      ]
     },
     "execution_count": 26,
     "metadata": {},
     "output_type": "execute_result"
    }
   ],
   "source": [
    "cer_metric.compute(predictions=transcriptions, references=labels)"
   ]
  },
  {
   "cell_type": "code",
   "execution_count": null,
   "id": "fc54b1e4",
   "metadata": {
    "scrolled": true
   },
   "outputs": [],
   "source": [
    "n = 102\n",
    "print(f\"Predicted transcript:\\n{transcriptions[n]}\\n\\nOriginal:\\n{labels[n]}\")\n",
    "print(\"\\n****\\n\")"
   ]
  },
  {
   "cell_type": "code",
   "execution_count": null,
   "id": "5553d245",
   "metadata": {},
   "outputs": [],
   "source": []
  }
 ],
 "metadata": {
  "kernelspec": {
   "display_name": "Python 3 (ipykernel)",
   "language": "python",
   "name": "python3"
  },
  "language_info": {
   "codemirror_mode": {
    "name": "ipython",
    "version": 3
   },
   "file_extension": ".py",
   "mimetype": "text/x-python",
   "name": "python",
   "nbconvert_exporter": "python",
   "pygments_lexer": "ipython3",
   "version": "3.10.11"
  }
 },
 "nbformat": 4,
 "nbformat_minor": 5
}
