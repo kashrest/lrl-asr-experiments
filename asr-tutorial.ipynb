{
 "cells": [
  {
   "cell_type": "markdown",
   "id": "a4ea45ff",
   "metadata": {},
   "source": [
    "# Automatic Speech Recognition (ASR) Tutorial "
   ]
  },
  {
   "cell_type": "markdown",
   "id": "691b82bb",
   "metadata": {},
   "source": [
    "## Fine-tune a pretrained, multilingual ASR model on Common Voice"
   ]
  },
  {
   "cell_type": "markdown",
   "id": "9e0545f5",
   "metadata": {},
   "source": [
    "In this tutorial, we will be evaluating and improving a multilingual ASR model for a language in the Common Voice 13 dataset. We will focus on **Hausa**, but you can follow along in any language in Common Voice. See the [Hugging Face website](https://huggingface.co/datasets/mozilla-foundation/common_voice_13_0) or [Common Voice website](https://commonvoice.mozilla.org/en/datasets) for a list of supported languages.\n",
    "\n",
    "We will be looking at three major open-source ASR multilingual models:\n",
    "* XLS-R: [[paper]](https://arxiv.org/abs/2111.09296) [[Hugging Face blog]](https://huggingface.co/blog/fine-tune-xlsr-wav2vec2)\n",
    "* Whisper: [[paper]](https://cdn.openai.com/papers/whisper.pdf) [[Hugging Face blog]](https://huggingface.co/blog/fine-tune-whisper#prepare-feature-extractor-tokenizer-and-data)\n",
    "* MMS: [[paper]](https://scontent-sjc3-1.xx.fbcdn.net/v/t39.8562-6/348827959_6967534189927933_6819186233244071998_n.pdf?_nc_cat=104&ccb=1-7&_nc_sid=ad8a9d&_nc_ohc=-JOSFMsFL-UAX-4O6o4&_nc_ht=scontent-sjc3-1.xx&oh=00_AfDdMFq0DP2xIRyjWpGrmIpqncnouiylLfWnFsAgxboLWw&oe=6497E242) [[Hugging Face blog]](https://huggingface.co/blog/mms_adapters)\n",
    "\n",
    "For more details on the models and finetuning them, please refer to the corresponding Hugging Face tutorials. Much of this tutorial draws from the Hugging Face blogs."
   ]
  },
  {
   "cell_type": "markdown",
   "id": "6945531e",
   "metadata": {},
   "source": [
    "## Before you start: Setting up your coding environment "
   ]
  },
  {
   "cell_type": "markdown",
   "id": "89b7e5c2",
   "metadata": {},
   "source": [
    "You can run follow along and run the lines of code in this notebook, and also utilize the scripts found in this GitHub respository. Before starting this tutorial, you will need to create a virtual environment for this project so you can download all the required packages without affecting your other projects. We recommend using Anaconda (conda) to create a virtual environment. We have provided an `environment.yml` file that you can use to create a virtual environment named `asr` containing all the required packages. In your terminal run this code:\n",
    "\n",
    "```\n",
    "git clone https://github.com/kashrest/lrl-asr-experiments.git\n",
    "cd lrl-asr-experiments\n",
    "conda env create -f environment.yml \n",
    "conda activate asr\n",
    "```\n",
    "\n",
    "Now you can run the lines in this notebook.\n",
    "\n",
    "**Note**: The pretrained multilingual ASR models we will be using in this notebook require GPUs with at least 40 GB of space (CHECK) for practical use. If you are using Google Colab Pro, you should be able to run all lines of this tutorial."
   ]
  },
  {
   "cell_type": "markdown",
   "id": "db71af9f",
   "metadata": {},
   "source": [
    "## Data Preprocessing"
   ]
  },
  {
   "cell_type": "markdown",
   "id": "13dbbef6",
   "metadata": {},
   "source": [
    "The first step is to download and prepare the data for the ASR model. Hugging Face has an easy way to download Common Voice data for any supported language, where the split can be specified.\n",
    "\n",
    "**Note**: To download the Common Voice dataset from Hugging Face, a free Hugging Face account is required. You then need to go to the Common Voice dataset card and agree to the terms:\n",
    "\n",
    "![HF_condition_agreement](https://github.com/kashrest/lrl-asr-experiments/blob/main/common_voice_HF_agreement.png?raw=true)\n",
    "\n",
    "Then, you will need to create an access token so that you can log in to your Hugging Face account through this Jupyter Notebook:\n",
    "\n",
    "![HF_access_token](https://github.com/kashrest/lrl-asr-experiments/blob/main/HF_access_token.png?raw=true)\n",
    "\n",
    "You will then to use this access token to load the Common Voice dataset."
   ]
  },
  {
   "cell_type": "code",
   "execution_count": 1,
   "id": "e506c688",
   "metadata": {},
   "outputs": [
    {
     "data": {
      "application/vnd.jupyter.widget-view+json": {
       "model_id": "63acfd67899549ef94d52b49b0735e11",
       "version_major": 2,
       "version_minor": 0
      },
      "text/plain": [
       "VBox(children=(HTML(value='<center> <img\\nsrc=https://huggingface.co/front/assets/huggingface_logo-noborder.sv…"
      ]
     },
     "metadata": {},
     "output_type": "display_data"
    }
   ],
   "source": [
    "from huggingface_hub import notebook_login\n",
    "\n",
    "notebook_login()"
   ]
  },
  {
   "cell_type": "code",
   "execution_count": 2,
   "id": "24889296",
   "metadata": {},
   "outputs": [
    {
     "name": "stdout",
     "output_type": "stream",
     "text": [
      "Output directory already exists; make a new directory.\n"
     ]
    },
    {
     "name": "stderr",
     "output_type": "stream",
     "text": [
      "Found cached dataset common_voice_13_0 (/data/users/kashrest/lrl-asr-experiments/data/cv_13/mozilla-foundation___common_voice_13_0/ha/13.0.0/2506e9a8950f5807ceae08c2920e814222909fd7f477b74f5d225802e9f04055)\n",
      "Found cached dataset common_voice_13_0 (/data/users/kashrest/lrl-asr-experiments/data/cv_13/mozilla-foundation___common_voice_13_0/ha/13.0.0/2506e9a8950f5807ceae08c2920e814222909fd7f477b74f5d225802e9f04055)\n",
      "Found cached dataset common_voice_13_0 (/data/users/kashrest/lrl-asr-experiments/data/cv_13/mozilla-foundation___common_voice_13_0/ha/13.0.0/2506e9a8950f5807ceae08c2920e814222909fd7f477b74f5d225802e9f04055)\n"
     ]
    }
   ],
   "source": [
    "import os \n",
    "from datasets import load_dataset\n",
    "\n",
    "cache_dir_cv_13 = \"/data/users/kashrest/lrl-asr-experiments/data/cv_13\"\n",
    "\n",
    "# create a data directory for caching dataset for quicker access later\n",
    "try:\n",
    "    os.mkdir(cache_dir_cv_13)\n",
    "except:\n",
    "    pass\n",
    "\n",
    "# create a directory for outputs in tutorial\n",
    "out_dir = \"./tutorial/\"\n",
    "try:\n",
    "    os.mkdir(out_dir)\n",
    "except:\n",
    "    print(\"Output directory already exists; make a new directory.\")\n",
    "\n",
    "# for Hausa, the language code is \"ha\"\n",
    "train_data = load_dataset(\"mozilla-foundation/common_voice_13_0\", \"ha\", split=\"train\", use_auth_token=True, cache_dir=cache_dir_cv_13)\n",
    "val_data = load_dataset(\"mozilla-foundation/common_voice_13_0\", \"ha\", split=\"validation\", use_auth_token=True, cache_dir=cache_dir_cv_13)\n",
    "test_data = load_dataset(\"mozilla-foundation/common_voice_13_0\", \"ha\", split=\"test\", use_auth_token=True, cache_dir=cache_dir_cv_13)"
   ]
  },
  {
   "cell_type": "markdown",
   "id": "8752ed3a",
   "metadata": {},
   "source": [
    "Common Voice data is organized like so"
   ]
  },
  {
   "cell_type": "code",
   "execution_count": 3,
   "id": "5ab66092",
   "metadata": {},
   "outputs": [
    {
     "data": {
      "text/plain": [
       "{'client_id': 'f6eb0a9ba66e98eeec2c36585fdd0f17b29957d2d895dc4e69a8d398827434530b742a0420ec2cbe1dd98aeac419fcc3b0a6f79f6e77ca1257fe855dd7dda777',\n",
       " 'path': '/data/users/kashrest/lrl-asr-experiments/data/cv_13/downloads/extracted/c5ba35e08c3578e677861d8f04dc0230b1742233fc6b3ba32d5dd1e860f958ba/ha_train_0/common_voice_ha_26692998.mp3',\n",
       " 'audio': {'path': '/data/users/kashrest/lrl-asr-experiments/data/cv_13/downloads/extracted/c5ba35e08c3578e677861d8f04dc0230b1742233fc6b3ba32d5dd1e860f958ba/ha_train_0/common_voice_ha_26692998.mp3',\n",
       "  'array': array([9.94759830e-14, 6.53699317e-13, 9.94759830e-13, ...,\n",
       "         1.11346963e-05, 1.47564642e-05, 9.08746733e-06]),\n",
       "  'sampling_rate': 48000},\n",
       " 'sentence': 'Falmata ta rufe kanta a ɗakinta tana kuka kusan awa daya.',\n",
       " 'up_votes': 2,\n",
       " 'down_votes': 1,\n",
       " 'age': '',\n",
       " 'gender': '',\n",
       " 'accent': '',\n",
       " 'locale': 'ha',\n",
       " 'segment': '',\n",
       " 'variant': ''}"
      ]
     },
     "execution_count": 3,
     "metadata": {},
     "output_type": "execute_result"
    }
   ],
   "source": [
    "train_data[0]"
   ]
  },
  {
   "cell_type": "markdown",
   "id": "add68ca0",
   "metadata": {},
   "source": [
    "and we have the training, validation, and test split with 1926, 580, 659, examples respectively."
   ]
  },
  {
   "cell_type": "code",
   "execution_count": 4,
   "id": "c7c0f90f",
   "metadata": {},
   "outputs": [
    {
     "data": {
      "text/plain": [
       "(1926, 580, 659)"
      ]
     },
     "execution_count": 4,
     "metadata": {},
     "output_type": "execute_result"
    }
   ],
   "source": [
    "len(train_data), len(val_data), len(test_data)"
   ]
  },
  {
   "cell_type": "markdown",
   "id": "ec16d08d",
   "metadata": {},
   "source": [
    "We are interested in the audio ([represented as an array of floats each proportional to the intensity of the sound at a certain point in time](http://artsites.ucsc.edu/EMS/Music/tech_background/TE-16/teces_16.html); the number of floats is determined by the sampling rate which 48,000 Hz, or 48,000 measurements per second) and the corresponding transcript.\n",
    "\n",
    "**Note**: All three models we will be using in this tutorial require that the data is sampled at 16,000 Hz. Since Common Voice is sampled at 48,000 Hz, we will need to \"down sample\", which means we will keep fewer measurements per second so that we have 16,000 samples per second. This is conveniently done using Hugging Face's `cast_column` datasets function."
   ]
  },
  {
   "cell_type": "code",
   "execution_count": 7,
   "id": "d2b3c2b5",
   "metadata": {},
   "outputs": [],
   "source": [
    "from datasets import Audio\n",
    "train_data = train_data.cast_column(\"audio\", Audio(sampling_rate=16_000))\n",
    "val_data = val_data.cast_column(\"audio\", Audio(sampling_rate=16_000))\n",
    "test_data = test_data.cast_column(\"audio\", Audio(sampling_rate=16_000))"
   ]
  },
  {
   "cell_type": "markdown",
   "id": "b8960d25",
   "metadata": {},
   "source": [
    "Now we see that the sampling rate is 16,000 Hz."
   ]
  },
  {
   "cell_type": "code",
   "execution_count": 8,
   "id": "22573db7",
   "metadata": {},
   "outputs": [
    {
     "data": {
      "text/plain": [
       "{'client_id': 'f6eb0a9ba66e98eeec2c36585fdd0f17b29957d2d895dc4e69a8d398827434530b742a0420ec2cbe1dd98aeac419fcc3b0a6f79f6e77ca1257fe855dd7dda777',\n",
       " 'path': '/data/users/kashrest/lrl-asr-experiments/data/cv_13/downloads/extracted/c5ba35e08c3578e677861d8f04dc0230b1742233fc6b3ba32d5dd1e860f958ba/ha_train_0/common_voice_ha_26692998.mp3',\n",
       " 'audio': {'path': '/data/users/kashrest/lrl-asr-experiments/data/cv_13/downloads/extracted/c5ba35e08c3578e677861d8f04dc0230b1742233fc6b3ba32d5dd1e860f958ba/ha_train_0/common_voice_ha_26692998.mp3',\n",
       "  'array': array([ 5.91171556e-12, -5.00222086e-12,  7.73070497e-12, ...,\n",
       "          5.07489312e-06,  4.18716809e-07,  1.07366795e-05]),\n",
       "  'sampling_rate': 16000},\n",
       " 'sentence': 'Falmata ta rufe kanta a ɗakinta tana kuka kusan awa daya.',\n",
       " 'up_votes': 2,\n",
       " 'down_votes': 1,\n",
       " 'age': '',\n",
       " 'gender': '',\n",
       " 'accent': '',\n",
       " 'locale': 'ha',\n",
       " 'segment': '',\n",
       " 'variant': ''}"
      ]
     },
     "execution_count": 8,
     "metadata": {},
     "output_type": "execute_result"
    }
   ],
   "source": [
    "train_data[0]"
   ]
  },
  {
   "cell_type": "markdown",
   "id": "bb672616",
   "metadata": {},
   "source": [
    "Let's extract the audio and transcripts"
   ]
  },
  {
   "cell_type": "code",
   "execution_count": 10,
   "id": "f6d6e448",
   "metadata": {},
   "outputs": [],
   "source": [
    "train_transcripts, val_transcripts, test_transcripts = [], [], []\n",
    "train_audio, val_audio, test_audio = [], [], []\n",
    "\n",
    "for elem in train_data:\n",
    "    assert elem[\"audio\"][\"sampling_rate\"] == 16000\n",
    "    train_audio.append(elem[\"audio\"][\"array\"])\n",
    "    train_transcripts.append(elem[\"sentence\"])\n",
    "    \n",
    "for elem in val_data:\n",
    "    assert elem[\"audio\"][\"sampling_rate\"] == 16000\n",
    "    val_audio.append(elem[\"audio\"][\"array\"])\n",
    "    val_transcripts.append(elem[\"sentence\"])\n",
    "    \n",
    "for elem in test_data:\n",
    "    assert elem[\"audio\"][\"sampling_rate\"] == 16000\n",
    "    test_audio.append(elem[\"audio\"][\"array\"])\n",
    "    test_transcripts.append(elem[\"sentence\"])"
   ]
  },
  {
   "cell_type": "markdown",
   "id": "9945c231",
   "metadata": {},
   "source": [
    "Now, since we are interested in transcribing speech, we want to clean the transcripts by removing special characters that do not have a clear sound (such as ! '). This part may depend on your target application and language. For example for Hausa, many native speakers do not speak English and does not have much code-switching, so we also normalize any foreign characters (ç ş) and symbols (% & $)."
   ]
  },
  {
   "cell_type": "code",
   "execution_count": 11,
   "id": "12b34939",
   "metadata": {},
   "outputs": [],
   "source": [
    "import re\n",
    "\n",
    "def preprocess_texts_hausa(transcriptions):\n",
    "    chars_to_remove_regex = '[><¥£°¾½²\\\\\\+\\,\\?\\!\\-\\;\\:\\\"\\“\\%\\‘\\'\\ʻ\\”\\�\\$\\&\\(\\)\\–\\—\\[\\]\\{\\}/]'\n",
    "\n",
    "    def _remove_special_characters(transcription):\n",
    "        transcription = transcription.strip() # remove any leading or trailing white space\n",
    "        transcription = transcription.lower()\n",
    "        transcription = re.sub(chars_to_remove_regex, '', transcription)\n",
    "        return transcription\n",
    "\n",
    "    def _normalize_diacritics(transcription):\n",
    "        a = '[āăáã]'\n",
    "        u = '[ūúü]'\n",
    "        o = '[öõó]' \n",
    "        c = '[ç]'\n",
    "        i = '[í]'\n",
    "        s = '[ş]'\n",
    "        e = '[é]'\n",
    "\n",
    "        transcription = re.sub(a, \"a\", transcription)\n",
    "        transcription = re.sub(u, \"u\", transcription)\n",
    "        transcription = re.sub(o, \"o\", transcription)\n",
    "        transcription = re.sub(c, \"c\", transcription)\n",
    "        transcription = re.sub(i, \"i\", transcription)\n",
    "        transcription = re.sub(s, \"s\", transcription)\n",
    "        transcription = re.sub(e, \"e\", transcription)\n",
    "\n",
    "        return transcription\n",
    "\n",
    "    cleaned_transcriptions = map(_remove_special_characters, transcriptions)\n",
    "    cleaned_transcriptions = list(map(_normalize_diacritics, list(cleaned_transcriptions)))\n",
    "    return cleaned_transcriptions\n",
    "\n",
    "train_transcripts = preprocess_texts_hausa(train_transcripts)\n",
    "val_transcripts = preprocess_texts_hausa(val_transcripts)\n",
    "test_transcripts = preprocess_texts_hausa(test_transcripts)"
   ]
  },
  {
   "cell_type": "markdown",
   "id": "4a853e3f",
   "metadata": {},
   "source": [
    "**Note**: It is important to preprocess test transcripts the same way as the training transcripts so that we have a fair evaluation of the model."
   ]
  },
  {
   "cell_type": "markdown",
   "id": "d341925a",
   "metadata": {},
   "source": [
    "Some models (MMS and XLS-R) predict one character at a time, and so we need a character vocabulary made up of all characters in the dataset after preprocessing. We can save the vocabulary in a JSON file"
   ]
  },
  {
   "cell_type": "code",
   "execution_count": 12,
   "id": "9f34513e",
   "metadata": {},
   "outputs": [],
   "source": [
    "import json \n",
    "\n",
    "def extract_all_chars(transcription):\n",
    "      all_text = \" \".join(transcription)\n",
    "      vocab = list(set(all_text))\n",
    "      return {\"vocab\": [vocab], \"all_text\": [all_text]}\n",
    "\n",
    "vocab_train = list(map(extract_all_chars, train_transcripts))\n",
    "vocab_val = list(map(extract_all_chars, val_transcripts))\n",
    "vocab_test = list(map(extract_all_chars, test_transcripts))\n",
    "\n",
    "vocab_train_chars = []\n",
    "for elem in [elem[\"vocab\"][0] for elem in vocab_train]:\n",
    "    vocab_train_chars.extend(elem)\n",
    "\n",
    "vocab_val_chars = []\n",
    "for elem in [elem[\"vocab\"][0] for elem in vocab_val]:\n",
    "    vocab_val_chars.extend(elem)\n",
    "\n",
    "vocab_test_chars = []\n",
    "for elem in [elem[\"vocab\"][0] for elem in vocab_test]:\n",
    "    vocab_test_chars.extend(elem)\n",
    "\n",
    "vocab_list = list(set(vocab_train_chars) | set(vocab_val_chars) | set(vocab_test_chars))\n",
    "vocab_dict = {v: k for k, v in enumerate(vocab_list)}\n",
    "\n",
    "# for word delimiter, change \" \" --> \"|\" (ex. \"Hello my name is Bob\" --> \"Hello|my|name|is|Bob\")\n",
    "vocab_dict[\"|\"] = vocab_dict[\" \"]\n",
    "del vocab_dict[\" \"]\n",
    "vocab_dict[\"[UNK]\"] = len(vocab_dict)\n",
    "vocab_dict[\"[PAD]\"] = len(vocab_dict) # this is for models (like MMS and XLS-R) that use the CTC algorithm to predict the end of a character (e.g. \"hhh[PAD]iii[PAD]iii[PAD]\" == \"hii\")"
   ]
  },
  {
   "cell_type": "markdown",
   "id": "3ecc5805",
   "metadata": {},
   "source": [
    "This is the character vocabulary based on the Common Voice dataset"
   ]
  },
  {
   "cell_type": "code",
   "execution_count": 13,
   "id": "1f573ffc",
   "metadata": {},
   "outputs": [
    {
     "data": {
      "text/plain": [
       "{'c': 0,\n",
       " 'x': 1,\n",
       " 'w': 2,\n",
       " 'g': 3,\n",
       " 't': 4,\n",
       " 'v': 5,\n",
       " 'ɓ': 6,\n",
       " 'u': 7,\n",
       " 'p': 8,\n",
       " 'n': 9,\n",
       " 'i': 11,\n",
       " 'm': 12,\n",
       " 'f': 13,\n",
       " 'h': 14,\n",
       " 'e': 15,\n",
       " '.': 16,\n",
       " 'ƙ': 17,\n",
       " 'o': 18,\n",
       " 'a': 19,\n",
       " 'y': 20,\n",
       " 'b': 21,\n",
       " 'z': 22,\n",
       " 'ƴ': 23,\n",
       " 's': 24,\n",
       " '’': 25,\n",
       " 'j': 26,\n",
       " 'ɗ': 27,\n",
       " 'q': 28,\n",
       " 'r': 29,\n",
       " 'k': 30,\n",
       " 'd': 31,\n",
       " 'l': 32,\n",
       " '|': 10,\n",
       " '[UNK]': 33,\n",
       " '[PAD]': 34}"
      ]
     },
     "execution_count": 13,
     "metadata": {},
     "output_type": "execute_result"
    }
   ],
   "source": [
    "vocab_dict"
   ]
  },
  {
   "cell_type": "markdown",
   "id": "a5c61e6b",
   "metadata": {},
   "source": [
    "Let's save this vocabulary file for later use in the output folder."
   ]
  },
  {
   "cell_type": "code",
   "execution_count": 14,
   "id": "27ddf068",
   "metadata": {},
   "outputs": [],
   "source": [
    "vocab_file = out_dir+\"vocab_hausa.json\"\n",
    "with open(vocab_file, 'w') as f:\n",
    "    json.dump(vocab_dict, f)"
   ]
  },
  {
   "cell_type": "markdown",
   "id": "74417458",
   "metadata": {},
   "source": [
    "## Evaluation code"
   ]
  },
  {
   "cell_type": "markdown",
   "id": "c7b7c289",
   "metadata": {},
   "source": [
    "In ASR, word error rate [(WER)](https://huggingface.co/spaces/evaluate-metric/wer) and character error rate [(CER)](https://huggingface.co/spaces/evaluate-metric/cer) are the common metrics used to evaluate how good a model-produced transcript is in comparison to the gold transcript. These metrics are related to the \"edit distance\" between two strings and offer a quantitative measure of string difference. \n",
    "\n",
    "Let's create a simple function that takes in two sets of strings and calculates the WER and CER of the predicted strings over the dataset."
   ]
  },
  {
   "cell_type": "code",
   "execution_count": 15,
   "id": "117f2156",
   "metadata": {},
   "outputs": [],
   "source": [
    "from datasets import load_metric, load_dataset, Audio\n",
    "                         \n",
    "def compute_metrics(label_strs, pred_strs):\n",
    "    wer_metric = load_metric(\"wer\")\n",
    "    cer_metric = load_metric(\"cer\")\n",
    "    \n",
    "    wer = wer_metric.compute(predictions=pred_strs, references=label_strs) * 100\n",
    "    cer = cer_metric.compute(predictions=pred_strs, references=label_strs) * 100\n",
    "    return {\"wer\": wer, \"cer\": cer}"
   ]
  },
  {
   "cell_type": "markdown",
   "id": "8c88b179",
   "metadata": {},
   "source": [
    "## Section A: Zero-Shot ASR"
   ]
  },
  {
   "cell_type": "markdown",
   "id": "4ebc9422",
   "metadata": {},
   "source": [
    "Let's run inference on our dataset with Whisper and MMS-1b-all, which are models that are usable off-the-shelf. We will determine performance on the test set since some models will be later fine-tuned on the train split."
   ]
  },
  {
   "cell_type": "markdown",
   "id": "3cec099d",
   "metadata": {},
   "source": [
    "### OpenAI Whisper"
   ]
  },
  {
   "cell_type": "markdown",
   "id": "5a72baf2",
   "metadata": {},
   "source": [
    "OpenAI's Whisper model is a pretrained encoder-decoder model that supports a set of languages without futher fine-tuning. Here, we will use whisper-large V2 to compare it with MMS-1b-all (both have about 1 billion parameters). You can use the smaller checkpoints if you do not have enough GPU memory (found on Hugging Face Hub: https://huggingface.co/openai/whisper-small) or decrease the batch size.\n",
    "\n",
    "Note: Whisper requires that input is sampled at 16,000 Hz, which we have taken care of. Also, Whisper may not support all Common Voice languages, so make sure to check the [paper](https://cdn.openai.com/papers/whisper.pdf)."
   ]
  },
  {
   "cell_type": "markdown",
   "id": "fb0e2665",
   "metadata": {},
   "source": [
    "With a batch size of 10, inference takes about 5 minutes and 22 GB of GPU memory."
   ]
  },
  {
   "cell_type": "code",
   "execution_count": 16,
   "id": "23266ffc",
   "metadata": {},
   "outputs": [
    {
     "name": "stderr",
     "output_type": "stream",
     "text": [
      "  0%|                                                                                                                                                                              | 0/66 [00:00<?, ?it/s]/data/users/kashrest/miniconda3/envs/asr/lib/python3.10/site-packages/transformers/generation/utils.py:1353: UserWarning: Using `max_length`'s default (448) to control the generation length. This behaviour is deprecated and will be removed from the config in v5 of Transformers -- we recommend using `max_new_tokens` to control the maximum length of the generation.\n",
      "  warnings.warn(\n",
      "100%|█████████████████████████████████████████████████████████████████████████████████████████████████████████████████████████████████████████████████████████████████████| 66/66 [05:06<00:00,  4.64s/it]\n"
     ]
    }
   ],
   "source": [
    "from transformers import WhisperProcessor, WhisperForConditionalGeneration\n",
    "from tqdm import tqdm\n",
    "\n",
    "device = \"cuda:0\" # change this to a custom gpu if you have access to one, otherwise set to \"cpu\"\n",
    "model_id = \"openai/whisper-large-v2\"\n",
    "processor = WhisperProcessor.from_pretrained(model_id)\n",
    "model = WhisperForConditionalGeneration.from_pretrained(model_id).to(device)\n",
    "forced_decoder_ids = processor.get_decoder_prompt_ids(language=\"hausa\", task=\"transcribe\")\n",
    "\n",
    "predicted_test_transcripts = []\n",
    "\n",
    "batch_size = 10 # decrease if needed\n",
    "\n",
    "for i in tqdm(range(0, len(test_audio), batch_size)):\n",
    "    batch = test_audio[i:i+batch_size] if i+batch_size <= len(test_audio) else test_audio[i:]\n",
    "    input_features = processor(batch, sampling_rate=16000, return_tensors=\"pt\").input_features.to(device)\n",
    "    # generate token ids\n",
    "    predicted_ids = model.generate(input_features, forced_decoder_ids=forced_decoder_ids)\n",
    "    # decode token ids to text\n",
    "    predicted_test_transcripts.extend(processor.batch_decode(predicted_ids, skip_special_tokens=True))"
   ]
  },
  {
   "cell_type": "markdown",
   "id": "73753c9b",
   "metadata": {},
   "source": [
    "Let's evaluate the performance of whisper-large V2 on our preprocessed test dataset"
   ]
  },
  {
   "cell_type": "code",
   "execution_count": 17,
   "id": "521fe204",
   "metadata": {},
   "outputs": [
    {
     "name": "stderr",
     "output_type": "stream",
     "text": [
      "/tmp/ipykernel_18420/228640761.py:4: FutureWarning: load_metric is deprecated and will be removed in the next major version of datasets. Use 'evaluate.load' instead, from the new library 🤗 Evaluate: https://huggingface.co/docs/evaluate\n",
      "  wer_metric = load_metric(\"wer\")\n"
     ]
    },
    {
     "data": {
      "text/plain": [
       "{'wer': 100.34582132564842, 'cer': 51.857142857142854}"
      ]
     },
     "execution_count": 17,
     "metadata": {},
     "output_type": "execute_result"
    }
   ],
   "source": [
    "compute_metrics(test_transcripts, predicted_test_transcripts)"
   ]
  },
  {
   "cell_type": "markdown",
   "id": "8dbe8e1a",
   "metadata": {},
   "source": [
    "It looks like we have a 100.3% WER and 51.9% CER. Let's create a running table of the performances of different models on our test dataset. \n",
    "\n",
    "| Model | WER % | CER %|\n",
    "|-------|-----|----|\n",
    "|whisper-large-v2| 100.3| 51.9|"
   ]
  },
  {
   "cell_type": "markdown",
   "id": "d80cfa4a",
   "metadata": {},
   "source": [
    "This is very poor performance, as WER is 100%, meaning all words in the dataset were incorrect. CER is also poor with 52% meaning half of the characters are incorrect. A random example prediction is shown below"
   ]
  },
  {
   "cell_type": "code",
   "execution_count": 28,
   "id": "c459cf12",
   "metadata": {},
   "outputs": [
    {
     "name": "stdout",
     "output_type": "stream",
     "text": [
      "Predicted transcript:  Edamwna tə fia ya kamata mureka kallam hagu dadama.\n",
      "Reference transcript: idan muna tafiya ya kamata mu rika kallon hagu da dama.\n"
     ]
    }
   ],
   "source": [
    "import random\n",
    "n = random.randint(0, len(predicted_test_transcripts)-1)\n",
    "print(f\"Predicted transcript: {predicted_test_transcripts[n]}\\nReference transcript: {test_transcripts[n]}\")"
   ]
  },
  {
   "cell_type": "markdown",
   "id": "41f57ca6",
   "metadata": {},
   "source": [
    "Since Whisper has not been fine-tuned on our dataset, foreign characters and capitalization seems to contribute to the CER/WER.\n",
    "\n",
    "**Note**: Manual error analysis is important to do along with looking at WER and CER. Sometimes, although the WER/CER is poor, the transcripts are not completely inaccurate, as we see above.\n",
    "\n",
    "**Note**: Also, Whisper only predicts for up to 30 secs of audio, so if you have longer samples, you will get poor WER/CER"
   ]
  },
  {
   "cell_type": "markdown",
   "id": "e6a2a508",
   "metadata": {},
   "source": [
    "### Facebook MMS"
   ]
  },
  {
   "cell_type": "markdown",
   "id": "e6291209",
   "metadata": {},
   "source": [
    "MMS-1b-all is Facebook's MMS (**M**assively **M**ultilingual **S**peech) model, which is MMS, a Wav2Vec model that is pretrained on a large corpus of Bible data covering 1107 languages, and finetuned on additional labeled datasets. MMS is pretrained similarly to how BERT is trained with a masked language modeling objective, but by masking audio input. We will use MMS-1b-all to run inference on our dataset."
   ]
  },
  {
   "cell_type": "markdown",
   "id": "7b7909c2",
   "metadata": {},
   "source": [
    "A batch size of 10 takes approximately 4 minutes and 22 GB of GPU memory."
   ]
  },
  {
   "cell_type": "code",
   "execution_count": 29,
   "id": "7db55c0c",
   "metadata": {},
   "outputs": [
    {
     "name": "stderr",
     "output_type": "stream",
     "text": [
      "100%|█████████████████████████████████████████████████████████████████████████████████████████████████████████████████████████████████████████████████████████████████████| 66/66 [04:40<00:00,  4.25s/it]\n"
     ]
    },
    {
     "data": {
      "text/plain": [
       "'for elem in tqdm(test_audio): \\n    inputs = processor(elem, sampling_rate=16_000, return_tensors=\"pt\")\\n    with torch.no_grad():\\n        outputs = model(**inputs).logits\\n    ids = torch.argmax(outputs, dim=-1)[0]\\n    predicted_test_transcripts.append(processor.decode(ids))'"
      ]
     },
     "execution_count": 29,
     "metadata": {},
     "output_type": "execute_result"
    }
   ],
   "source": [
    "import torch\n",
    "from transformers import Wav2Vec2ForCTC, Wav2Vec2Processor\n",
    "\n",
    "model_id = \"facebook/mms-1b-all\"\n",
    "\n",
    "processor = Wav2Vec2Processor.from_pretrained(model_id)\n",
    "model = Wav2Vec2ForCTC.from_pretrained(model_id)\n",
    "\n",
    "processor.tokenizer.set_target_lang(\"hau\")\n",
    "model.load_adapter(\"hau\")\n",
    "\n",
    "predicted_test_transcripts = []\n",
    "\n",
    "batch_size = 10\n",
    "\n",
    "for i in tqdm(range(0, len(test_audio), batch_size)):\n",
    "    batch = test_audio[i:i+batch_size] if i+batch_size <= len(test_audio) else test_audio[i:]\n",
    "    inputs = processor(batch, sampling_rate=16_000, return_tensors=\"pt\", padding=True)\n",
    "    with torch.no_grad():\n",
    "        outputs = model(**inputs).logits\n",
    "    ids = torch.argmax(outputs, dim=-1)\n",
    "    predicted_test_transcripts.extend((processor.batch_decode(ids)))\n",
    "\n",
    "\"\"\"for elem in tqdm(test_audio): \n",
    "    inputs = processor(elem, sampling_rate=16_000, return_tensors=\"pt\")\n",
    "    with torch.no_grad():\n",
    "        outputs = model(**inputs).logits\n",
    "    ids = torch.argmax(outputs, dim=-1)[0]\n",
    "    predicted_test_transcripts.append(processor.decode(ids))\"\"\""
   ]
  },
  {
   "cell_type": "code",
   "execution_count": 30,
   "id": "9868c9ce",
   "metadata": {},
   "outputs": [
    {
     "data": {
      "text/plain": [
       "{'wer': 35.54274735830932, 'cer': 7.887218045112782}"
      ]
     },
     "execution_count": 30,
     "metadata": {},
     "output_type": "execute_result"
    }
   ],
   "source": [
    "compute_metrics(test_transcripts, predicted_test_transcripts)"
   ]
  },
  {
   "cell_type": "markdown",
   "id": "3c4874ff",
   "metadata": {},
   "source": [
    "It looks like we have a 35.5% WER and 7.9% CER. Let's add this result to our table. This is substantially better than whisper-large!\n",
    "\n",
    "| Model | WER % | CER %|\n",
    "|-------|-----|----|\n",
    "|whisper-large-v2| 100.3| 51.9|\n",
    "|mms-1b-all|35.5|7.9|"
   ]
  },
  {
   "cell_type": "markdown",
   "id": "17b4e965",
   "metadata": {},
   "source": [
    "Here's a random example. THese are more accurate than Whisper."
   ]
  },
  {
   "cell_type": "code",
   "execution_count": 32,
   "id": "0e7aceda",
   "metadata": {},
   "outputs": [
    {
     "name": "stdout",
     "output_type": "stream",
     "text": [
      "Predicted transcript: sun yi ƙoƙari a banza na bawa shaidaccin hanci\n",
      "Reference transcript: sun yi ƙoƙari a banza na bawa shaidar cin hanci.\n"
     ]
    }
   ],
   "source": [
    "import random\n",
    "n = random.randint(0, len(predicted_test_transcripts)-1)\n",
    "print(f\"Predicted transcript: {predicted_test_transcripts[n]}\\nReference transcript: {test_transcripts[n]}\")"
   ]
  },
  {
   "cell_type": "markdown",
   "id": "59a6325a",
   "metadata": {},
   "source": [
    "## Section B: Finetuning"
   ]
  },
  {
   "cell_type": "markdown",
   "id": "3aacf6e2",
   "metadata": {},
   "source": [
    "For fine-tuning, we will be using functions from the Hugging Face API for the training loop and model setup. In order to use these functions, we need to wrap the data in a custom PyTorch Dataset object. We have two types of models: Wav2Vec2 (XLS-R, MMS) and Seq2Seq (Whisper), so we need two objects"
   ]
  },
  {
   "cell_type": "code",
   "execution_count": 33,
   "id": "4c1e5634",
   "metadata": {},
   "outputs": [],
   "source": [
    "import torch\n",
    "class ASRDatasetWav2Vec2(torch.utils.data.Dataset):\n",
    "    def __init__(self, audio, transcripts, sampling_rate, processor):\n",
    "        self.audio = audio\n",
    "        self.transcripts = transcripts\n",
    "        self.sampling_rate = sampling_rate\n",
    "        self.processor = processor\n",
    "    \n",
    "    def __getitem__(self, idx):\n",
    "        input_values = self.processor.feature_extractor(self.audio[idx], sampling_rate=self.sampling_rate).input_values[0]\n",
    "        labels = self.processor.tokenizer(self.transcripts[idx]).input_ids\n",
    "        item = {}\n",
    "        item[\"input_values\"] = input_values\n",
    "        item[\"labels\"] = labels\n",
    "        \n",
    "        return item\n",
    "\n",
    "    def __len__(self):\n",
    "        return len(self.transcripts)"
   ]
  },
  {
   "cell_type": "code",
   "execution_count": 34,
   "id": "a9c30972",
   "metadata": {},
   "outputs": [],
   "source": [
    "class ASRDatasetWhisper(torch.utils.data.Dataset):\n",
    "    def __init__(self, audio, transcripts, sampling_rate, processor):\n",
    "        self.audio = audio\n",
    "        self.transcripts = transcripts\n",
    "        self.sampling_rate = sampling_rate\n",
    "        self.processor = processor\n",
    "    \n",
    "    def __getitem__(self, idx):\n",
    "        input_values = self.processor.feature_extractor(self.audio[idx], sampling_rate=self.sampling_rate).input_features[0]\n",
    "        labels = self.processor.tokenizer(self.transcripts[idx]).input_ids\n",
    "        item = {}\n",
    "        item[\"input_features\"] = input_values\n",
    "        item[\"labels\"] = labels\n",
    "        \n",
    "        return item\n",
    "\n",
    "    def __len__(self):\n",
    "        return len(self.transcripts)"
   ]
  },
  {
   "cell_type": "markdown",
   "id": "1358da3f",
   "metadata": {},
   "source": [
    "### Whisper"
   ]
  },
  {
   "cell_type": "markdown",
   "id": "72b2a9a4",
   "metadata": {},
   "source": [
    "First, let's import the required Whisper classes and training loop functions from Hugging Face and some other utility functions\n",
    "\n",
    "**Note**: Hugging Face has a great tutorial that we referenced for fine-tuning Whisper. You can refer to [this tutorial](https://huggingface.co/blog/fine-tune-whisper#prepare-feature-extractor-tokenizer-and-data) for more information if needed."
   ]
  },
  {
   "cell_type": "code",
   "execution_count": 35,
   "id": "bd7b8cd9",
   "metadata": {},
   "outputs": [],
   "source": [
    "from transformers import WhisperFeatureExtractor, WhisperTokenizer, WhisperProcessor, WhisperForConditionalGeneration, Seq2SeqTrainingArguments, Seq2SeqTrainer\n",
    "from dataclasses import dataclass\n",
    "from typing import Any, Dict, List, Optional, Union\n",
    "import evaluate"
   ]
  },
  {
   "cell_type": "markdown",
   "id": "ffca4305",
   "metadata": {},
   "source": [
    "Let's fine-tune a Whisper-large V2 model which we will download from Hugging Face, and set up a WhisperProcessor object which contains a feature extractor and a tokenizer. The feature extractor transforms the input into log-Mel spectrograms. This transformation takes in the amplitude information respresented by the input array and transforms it into frequencies (refer to the Hugging Face tutorial for more information). Frequencies encode pitch, and so useful audio signals can be found for speech recognition. Additionally, the tokenizer splits the transcripts into tokens based on Whisper's vocabulary. Whisper utilizes byte-level BPE, which is the same tokenizer as GPT-2. If interested, refer to this page: https://huggingface.co/learn/nlp-course/chapter6/5?fw=pt. This tokenizer enables encoding of any character and so there will not be any unknown character predictions."
   ]
  },
  {
   "cell_type": "code",
   "execution_count": 36,
   "id": "7cab8e81",
   "metadata": {},
   "outputs": [],
   "source": [
    "model_card = \"openai/whisper-large-v2\"\n",
    "processor = WhisperProcessor.from_pretrained(model_card, language=\"Hausa\", task=\"transcribe\")\n",
    "model = WhisperForConditionalGeneration.from_pretrained(model_card)"
   ]
  },
  {
   "cell_type": "markdown",
   "id": "92aec1c5",
   "metadata": {},
   "source": [
    "The following lines are required to fine-tune the Whisper model. The first line makes the model predict the language and task by setting the token ids that control the transcription language and task, to `None`.\n",
    "\n",
    "The second line makes sure that all possible tokens are predicted by setting the set of supressed tokens to an empty list."
   ]
  },
  {
   "cell_type": "code",
   "execution_count": null,
   "id": "7657fffc",
   "metadata": {},
   "outputs": [],
   "source": [
    "model.config.forced_decoder_ids = None\n",
    "model.config.suppress_tokens = []"
   ]
  },
  {
   "cell_type": "markdown",
   "id": "f20c83da",
   "metadata": {},
   "source": [
    "Like mentioned before, Whisper takes inputs sampled at 16,000 Hz, and so we will prepare our data using this sampling rate (Fleurs is already sampled at 16 kHz) using the ASRDataset object mentioned before"
   ]
  },
  {
   "cell_type": "code",
   "execution_count": null,
   "id": "806959ee",
   "metadata": {},
   "outputs": [],
   "source": [
    "model_sampling_rate = 16000\n",
    "train_dataset = ASRDatasetWhisper(train_audio, train_transcripts, model_sampling_rate, processor)\n",
    "val_dataset = ASRDatasetWhisper(val_audio,  val_transcripts, model_sampling_rate, processor)\n",
    "test_dataset = ASRDatasetWhisper(test_audio, test_transcripts, model_sampling_rate, processor)"
   ]
  },
  {
   "cell_type": "markdown",
   "id": "bb3fab6f",
   "metadata": {},
   "source": [
    "Next, we need a function that will pad all the inputs/outputs in a batch to the same length. This code is from the tutorial mentioned earlier."
   ]
  },
  {
   "cell_type": "code",
   "execution_count": null,
   "id": "1d1fdde6",
   "metadata": {},
   "outputs": [],
   "source": [
    "@dataclass\n",
    "class DataCollatorSpeechSeq2SeqWithPadding:\n",
    "    processor: Any\n",
    "\n",
    "    def __call__(self, features: List[Dict[str, Union[List[int], torch.Tensor]]]) -> Dict[str, torch.Tensor]:\n",
    "        # split inputs and labels since they have to be of different lengths and need different padding methods\n",
    "        # first treat the audio inputs by simply returning torch tensors\n",
    "        input_features = [{\"input_features\": feature[\"input_features\"]} for feature in features]\n",
    "        batch = self.processor.feature_extractor.pad(input_features, return_tensors=\"pt\")\n",
    "\n",
    "        # get the tokenized label sequences\n",
    "        label_features = [{\"input_ids\": feature[\"labels\"]} for feature in features]\n",
    "        # pad the labels to max length\n",
    "        labels_batch = self.processor.tokenizer.pad(label_features, return_tensors=\"pt\")\n",
    "\n",
    "        # replace padding with -100 to ignore loss correctly\n",
    "        labels = labels_batch[\"input_ids\"].masked_fill(labels_batch.attention_mask.ne(1), -100)\n",
    "\n",
    "        # if bos token is appended in previous tokenization step,\n",
    "        # cut bos token here as it's append later anyways\n",
    "        if (labels[:, 0] == self.processor.tokenizer.bos_token_id).all().cpu().item():\n",
    "            labels = labels[:, 1:]\n",
    "\n",
    "        batch[\"labels\"] = labels\n",
    "\n",
    "        return batch\n",
    "    \n",
    "data_collator = DataCollatorSpeechSeq2SeqWithPadding(processor=processor)"
   ]
  },
  {
   "cell_type": "markdown",
   "id": "24fab3d7",
   "metadata": {},
   "source": [
    "In order to use the Trainer class from Hugging Face, we need to define an evaluation function that takes in a model prediction object."
   ]
  },
  {
   "cell_type": "code",
   "execution_count": null,
   "id": "52d2304f",
   "metadata": {},
   "outputs": [],
   "source": [
    "def compute_metrics(pred):\n",
    "    metric_wer = evaluate.load(\"wer\")\n",
    "    metric_cer = evaluate.load(\"cer\")\n",
    "    \n",
    "    pred_ids = pred.predictions\n",
    "    label_ids = pred.label_ids\n",
    "\n",
    "    # replace -100 with the pad_token_id\n",
    "    label_ids[label_ids == -100] = processor.tokenizer.pad_token_id\n",
    "\n",
    "    # we do not want to group tokens when computing the metrics\n",
    "    pred_str = processor.tokenizer.batch_decode(pred_ids, skip_special_tokens=True)\n",
    "    label_str = processor.tokenizer.batch_decode(label_ids, skip_special_tokens=True)\n",
    "\n",
    "    wer = 100 * metric_wer.compute(predictions=pred_str, references=label_str)\n",
    "    cer = 100 * metric_cer.compute(predictions=pred_str, references=label_str)\n",
    "\n",
    "    return {\"wer\": wer, \"cer\": cer}"
   ]
  },
  {
   "cell_type": "markdown",
   "id": "58b7c41f",
   "metadata": {},
   "source": [
    "Now, we will setup the model training hyperparameters by using Hugging Face Seq2SeqTrainingArguments. Feel free to experiment with different hyperparameters. Learning rate is an important hyperparameter to experiment with. Reference the official Seq2SeqTrainingArguments for explanations of the hyperparameters: https://huggingface.co/docs/transformers/main_classes/trainer#transformers.Seq2SeqTrainingArguments\n",
    "\n",
    "Note: Decrease batch size if you have limited GPU space. We have also set the mixed precision "
   ]
  },
  {
   "cell_type": "code",
   "execution_count": null,
   "id": "a77b5a0b",
   "metadata": {},
   "outputs": [],
   "source": [
    "train_batch_size = 16\n",
    "num_train_epochs = 3 \n",
    "learning_rate = 1e-05\n",
    "\n",
    "training_args = Seq2SeqTrainingArguments(\n",
    "    output_dir=out_dir+\"whisper-finetuning-experiment-2/\",  # change to a repo name of your choice\n",
    "    per_device_train_batch_size=train_batch_size,\n",
    "    gradient_accumulation_steps=1,  # increase by 2x for every 2x decrease in batch size\n",
    "    learning_rate=learning_rate,\n",
    "    warmup_steps=500,\n",
    "    num_train_epochs=num_train_epochs,\n",
    "    gradient_checkpointing=True, # another way to save GPU memory by recomputing gradients (less memory, more time)\n",
    "    fp16=True, # this enables mixed precision training, which lets some data be stored in 16 bit floating point precision instead of 32 bits.\n",
    "    evaluation_strategy=\"steps\",\n",
    "    per_device_eval_batch_size=8,\n",
    "    predict_with_generate=True,\n",
    "    generation_max_length=225,\n",
    "    save_steps=100,\n",
    "    eval_steps=100,\n",
    "    save_total_limit=2, \n",
    "    load_best_model_at_end=True,\n",
    "    metric_for_best_model=\"wer\",\n",
    "    greater_is_better=False)"
   ]
  },
  {
   "cell_type": "markdown",
   "id": "ada10041",
   "metadata": {},
   "source": [
    "Now, we set up the Trainer object by inputing our training and validation datasets, our evaluation function, tokenizer, model, data collator, and previously instantiated training arguments."
   ]
  },
  {
   "cell_type": "code",
   "execution_count": null,
   "id": "47ee3809",
   "metadata": {
    "scrolled": true
   },
   "outputs": [],
   "source": [
    "trainer = Seq2SeqTrainer(\n",
    "    args=training_args,\n",
    "    model=model,\n",
    "    train_dataset=train_dataset,\n",
    "    eval_dataset=val_dataset,\n",
    "    data_collator=data_collator,\n",
    "    compute_metrics=compute_metrics,\n",
    "    tokenizer=processor.feature_extractor,\n",
    ")"
   ]
  },
  {
   "cell_type": "markdown",
   "id": "e5847d83",
   "metadata": {},
   "source": [
    "Then we call train to start training. Training the Whisper large V2 model with batch size 16 for 3 epochs takes about 1 hour and about 56846MiB (57 GB) on a NVIDIA A100 GPU. "
   ]
  },
  {
   "cell_type": "code",
   "execution_count": null,
   "id": "7e15828e",
   "metadata": {},
   "outputs": [],
   "source": [
    "trainer.train()"
   ]
  },
  {
   "cell_type": "markdown",
   "id": "4963a5c6",
   "metadata": {},
   "source": [
    "Let's see the performance on the FLEURS test set"
   ]
  },
  {
   "cell_type": "code",
   "execution_count": null,
   "id": "d02878c8",
   "metadata": {},
   "outputs": [],
   "source": [
    "preds = trainer.predict(test_dataset)\n",
    "eval_preds = compute_metrics(preds)\n",
    "eval_preds"
   ]
  },
  {
   "cell_type": "markdown",
   "id": "35718d6e",
   "metadata": {},
   "source": [
    "It looks like we have a 40.4% WER and 19.2% CER. Great! We have some made some improvement after finetuning for 3 epochs. Let's add this result to our table. \n",
    "\n",
    "| Model | WER % | CER %|\n",
    "|-------|-----|----|\n",
    "|whisper-large-v2| 97.8| 40.5|\n",
    "|mms-1b-all|**29.3**|**7.7**|\n",
    "|finetuned whisper-large-v2|40.4|19.2|\n",
    "\n",
    "It looks like mms-1b-all still has the best results. Let's see if further finetuning mms-1b-all is better."
   ]
  },
  {
   "cell_type": "markdown",
   "id": "a4357c4c",
   "metadata": {},
   "source": [
    "### MMS"
   ]
  },
  {
   "cell_type": "markdown",
   "id": "13210611",
   "metadata": {},
   "source": [
    "MMS-1b-all is Facebook's MMS (**M**assively **M**ultilingual **S**peech) model, which is MMS, an ASR (Wav2Vec) model that is pretrained on a large corpus of Bible data covering 1107 languages, finetuned on additional labeled datasets. We wil further fine-tune MMS to see if it can be improved by further finetuning on our FLEURS dataset. You can refer to Hugging Face's recent MMS finetuning blog for more details and explanations if needed: https://huggingface.co/blog/mms_adapters"
   ]
  },
  {
   "cell_type": "markdown",
   "id": "fdaf5535",
   "metadata": {},
   "source": [
    "MMS-1b-all works by incorporating an adapter architecture, which are extra parameters throughout the architecture that are trainable during finetuning, and are language-specific. This enables the user to finetune a smaller number of parameters in comparison to the entire model.\n",
    "\n",
    "Here, we will finetune the MMS adapter weights for Hausa."
   ]
  },
  {
   "cell_type": "markdown",
   "id": "20d2424f",
   "metadata": {},
   "source": [
    "First, we will set up the tokenizer based on our previously made character vocabulary, setting special tokens for unknown characters, padding, and word delimiters according to the vocabulary. We need to specify our vocabulary for the specific language of interest in a dictionary so that the MMS-1b-all checkpoint will correctly finetune the adapter weights for Hausa."
   ]
  },
  {
   "cell_type": "code",
   "execution_count": null,
   "id": "a0e1c1f8",
   "metadata": {},
   "outputs": [],
   "source": [
    "from transformers import Wav2Vec2CTCTokenizer, Wav2Vec2FeatureExtractor, Wav2Vec2Processor\n",
    "\n",
    "target_lang = \"hau\"\n",
    "\n",
    "with open(vocab_file, \"r\") as f:\n",
    "    vocab_dict = json.load(f)\n",
    "\n",
    "new_vocab_dict = {target_lang: vocab_dict}\n",
    "\n",
    "experiment_file = out_dir+\"mms-1b-all-finetuning-1/\"\n",
    "\n",
    "try:\n",
    "    os.mkdir(experiment_file)\n",
    "except:\n",
    "    pass\n",
    "\n",
    "with open(experiment_file+\"vocab.json\", 'w') as f:\n",
    "    json.dump(new_vocab_dict, f)\n",
    "    \n",
    "tokenizer = Wav2Vec2CTCTokenizer.from_pretrained(experiment_file, unk_token=\"[UNK]\", pad_token=\"[PAD]\", word_delimiter_token=\"|\", target_lang=target_lang)"
   ]
  },
  {
   "cell_type": "markdown",
   "id": "96903bd0",
   "metadata": {},
   "source": [
    "Then, we will setup the feature extractor, which transforms the input audio into features. MMS takes in the raw audio, unlike the Whisper model, and simply zero-mean-unit-variance normalizes the values."
   ]
  },
  {
   "cell_type": "code",
   "execution_count": null,
   "id": "d755360b",
   "metadata": {},
   "outputs": [],
   "source": [
    "feature_extractor = Wav2Vec2FeatureExtractor(feature_size=1, sampling_rate=16000, padding_value=0.0, do_normalize=True, return_attention_mask=True)"
   ]
  },
  {
   "cell_type": "markdown",
   "id": "9f5f9b27",
   "metadata": {},
   "source": [
    "And finally, the processor wraps both the tokenizer and feature extractor into one conventient class."
   ]
  },
  {
   "cell_type": "code",
   "execution_count": null,
   "id": "60fe16b0",
   "metadata": {},
   "outputs": [],
   "source": [
    "processor = Wav2Vec2Processor(feature_extractor=feature_extractor, tokenizer=tokenizer)"
   ]
  },
  {
   "cell_type": "markdown",
   "id": "582b746d",
   "metadata": {},
   "source": [
    "Now, we want to create a data collator (similar to the one we made for Whisper) that prepares the input in batches for the model"
   ]
  },
  {
   "cell_type": "code",
   "execution_count": null,
   "id": "a6280929",
   "metadata": {},
   "outputs": [],
   "source": [
    "import torch\n",
    "\n",
    "from dataclasses import dataclass, field\n",
    "from typing import Any, Dict, List, Optional, Union\n",
    "\n",
    "@dataclass\n",
    "class DataCollatorCTCWithPadding:\n",
    "    \"\"\"\n",
    "    Data collator that will dynamically pad the inputs received.\n",
    "    Args:\n",
    "        processor (:class:`~transformers.Wav2Vec2Processor`)\n",
    "            The processor used for proccessing the data.\n",
    "        padding (:obj:`bool`, :obj:`str` or :class:`~transformers.tokenization_utils_base.PaddingStrategy`, `optional`, defaults to :obj:`True`):\n",
    "            Select a strategy to pad the returned sequences (according to the model's padding side and padding index)\n",
    "            among:\n",
    "            * :obj:`True` or :obj:`'longest'`: Pad to the longest sequence in the batch (or no padding if only a single\n",
    "              sequence if provided).\n",
    "            * :obj:`'max_length'`: Pad to a maximum length specified with the argument :obj:`max_length` or to the\n",
    "              maximum acceptable input length for the model if that argument is not provided.\n",
    "            * :obj:`False` or :obj:`'do_not_pad'` (default): No padding (i.e., can output a batch with sequences of\n",
    "              different lengths).\n",
    "    \"\"\"\n",
    "\n",
    "    processor: Wav2Vec2Processor\n",
    "    padding: Union[bool, str] = True\n",
    "\n",
    "    def __call__(self, features: List[Dict[str, Union[List[int], torch.Tensor]]]) -> Dict[str, torch.Tensor]:\n",
    "        # split inputs and labels since they have to be of different lenghts and need\n",
    "        # different padding methods\n",
    "        input_features = [{\"input_values\": feature[\"input_values\"]} for feature in features]\n",
    "        label_features = [{\"input_ids\": feature[\"labels\"]} for feature in features]\n",
    "\n",
    "        batch = self.processor.pad(\n",
    "            input_features,\n",
    "            padding=self.padding,\n",
    "            return_tensors=\"pt\",\n",
    "        )\n",
    "        labels_batch = self.processor.pad(\n",
    "            labels=label_features,\n",
    "            padding=self.padding,\n",
    "            return_tensors=\"pt\",\n",
    "        )\n",
    "\n",
    "        # replace padding with -100 to ignore loss correctly\n",
    "        labels = labels_batch[\"input_ids\"].masked_fill(labels_batch.attention_mask.ne(1), -100)\n",
    "\n",
    "        batch[\"labels\"] = labels\n",
    "\n",
    "        return batch\n",
    "    \n",
    "data_collator = DataCollatorCTCWithPadding(processor=processor, padding=True)"
   ]
  },
  {
   "cell_type": "markdown",
   "id": "df23e31b",
   "metadata": {},
   "source": [
    "Now we create an evaluation function."
   ]
  },
  {
   "cell_type": "code",
   "execution_count": null,
   "id": "bbc17ab5",
   "metadata": {},
   "outputs": [],
   "source": [
    "import numpy as np\n",
    "def compute_metrics(pred):\n",
    "    wer_metric = evaluate.load(\"wer\")\n",
    "    cer_metric = evaluate.load(\"cer\")\n",
    "    pred_logits = pred.predictions\n",
    "    pred_ids = np.argmax(pred_logits, axis=-1)\n",
    "\n",
    "    pred.label_ids[pred.label_ids == -100] = processor.tokenizer.pad_token_id\n",
    "\n",
    "    pred_str = processor.batch_decode(pred_ids)\n",
    "    # we do not want to group tokens when computing the metrics\n",
    "    label_str = processor.batch_decode(pred.label_ids, group_tokens=False)\n",
    "\n",
    "    wer = wer_metric.compute(predictions=pred_str, references=label_str)\n",
    "    cer = cer_metric.compute(predictions=pred_str, references=label_str)\n",
    "\n",
    "    return {\"wer\": wer, \"cer\": cer}"
   ]
  },
  {
   "cell_type": "markdown",
   "id": "a22618f1",
   "metadata": {},
   "source": [
    "Now, we can define the model."
   ]
  },
  {
   "cell_type": "code",
   "execution_count": null,
   "id": "69136f31",
   "metadata": {},
   "outputs": [],
   "source": [
    "from transformers import Wav2Vec2ForCTC\n",
    "\n",
    "model_card = \"facebook/mms-1b-all\"\n",
    "model = Wav2Vec2ForCTC.from_pretrained(\n",
    "    \"facebook/mms-1b-all\",\n",
    "    attention_dropout=0.0,\n",
    "    hidden_dropout=0.0,\n",
    "    feat_proj_dropout=0.0,\n",
    "    layerdrop=0.0,\n",
    "    ctc_loss_reduction=\"mean\",\n",
    "    pad_token_id=processor.tokenizer.pad_token_id,\n",
    "    vocab_size=len(processor.tokenizer),\n",
    "    ignore_mismatched_sizes=True,\n",
    ")"
   ]
  },
  {
   "cell_type": "markdown",
   "id": "a36ce7ec",
   "metadata": {},
   "source": [
    "We re-initialize the adapter layers to prepare for finetuning"
   ]
  },
  {
   "cell_type": "code",
   "execution_count": null,
   "id": "87198e0e",
   "metadata": {},
   "outputs": [],
   "source": [
    "model.init_adapter_layers()"
   ]
  },
  {
   "cell_type": "markdown",
   "id": "54a695c7",
   "metadata": {},
   "source": [
    "Then we freeze all the parameters (learned from the pretraining and finetuning by the Meta team) except the adapter weights"
   ]
  },
  {
   "cell_type": "code",
   "execution_count": null,
   "id": "4e9fa3c9",
   "metadata": {},
   "outputs": [],
   "source": [
    "model.freeze_base_model()\n",
    "\n",
    "adapter_weights = model._get_adapters()\n",
    "for param in adapter_weights.values():\n",
    "    param.requires_grad = True"
   ]
  },
  {
   "cell_type": "markdown",
   "id": "6256f550",
   "metadata": {},
   "source": [
    "Then, we set up the parameters for model training like for Whisper"
   ]
  },
  {
   "cell_type": "code",
   "execution_count": null,
   "id": "18563719",
   "metadata": {},
   "outputs": [],
   "source": [
    "train_batch_size = 16 # batch size 2 already takes 32472MiB (32 GB), batch size 16 takes 74049MiB (74 GB)\n",
    "learning_rate = 1e-3\n",
    "num_epochs = 3\n",
    "\n",
    "from transformers import TrainingArguments\n",
    "training_args = TrainingArguments(\n",
    "  output_dir=experiment_file,\n",
    "  group_by_length=True,\n",
    "  per_device_train_batch_size=train_batch_size,\n",
    "  evaluation_strategy=\"steps\",\n",
    "  num_train_epochs=num_epochs,\n",
    "  gradient_checkpointing=True, # another way to save GPU memory by recomputing gradients (less memory, more time)\n",
    "  fp16=True, # this enables mixed precision training, which lets some data be stored in 16 bit floating point precision instead of 32 bits.\n",
    "  save_steps=200,\n",
    "  eval_steps=100,\n",
    "  logging_steps=100,\n",
    "  learning_rate=learning_rate,\n",
    "  warmup_steps=100,\n",
    "  save_total_limit=2,\n",
    "  push_to_hub=False,\n",
    ")"
   ]
  },
  {
   "cell_type": "markdown",
   "id": "cf38c93a",
   "metadata": {},
   "source": [
    "Then send everything to the Trainer class for training!"
   ]
  },
  {
   "cell_type": "code",
   "execution_count": null,
   "id": "702443fd",
   "metadata": {},
   "outputs": [],
   "source": [
    "# since our processor is different, we will need to create new ASRDataset objects\n",
    "train_dataset = ASRDatasetWav2Vec2(train_audio, train_transcripts, model_sampling_rate, processor)\n",
    "val_dataset = ASRDatasetWav2Vec2(val_audio,  val_transcripts, model_sampling_rate, processor)\n",
    "test_dataset = ASRDatasetWav2Vec2(test_audio, test_transcripts, model_sampling_rate, processor)"
   ]
  },
  {
   "cell_type": "code",
   "execution_count": null,
   "id": "86677411",
   "metadata": {},
   "outputs": [],
   "source": [
    "from transformers import Trainer\n",
    "\n",
    "trainer = Trainer(\n",
    "    model=model,\n",
    "    data_collator=data_collator,\n",
    "    args=training_args,\n",
    "    compute_metrics=compute_metrics,\n",
    "    train_dataset=train_dataset,\n",
    "    eval_dataset=val_dataset,\n",
    "    tokenizer=processor.feature_extractor,\n",
    ")"
   ]
  },
  {
   "cell_type": "markdown",
   "id": "bb7f9691",
   "metadata": {},
   "source": [
    "Training 3 epochs with batch size 16 takes about 25 minutes and about 74049MiB (74 GB) on an NVIDIA A100 GPU. "
   ]
  },
  {
   "cell_type": "code",
   "execution_count": null,
   "id": "0c2e53e9",
   "metadata": {},
   "outputs": [],
   "source": [
    "trainer.train()"
   ]
  },
  {
   "cell_type": "code",
   "execution_count": null,
   "id": "206f189d",
   "metadata": {},
   "outputs": [],
   "source": [
    "preds = trainer.predict(test_dataset)\n",
    "eval_preds = compute_metrics(preds)\n",
    "eval_preds"
   ]
  },
  {
   "cell_type": "markdown",
   "id": "fe4244c8",
   "metadata": {},
   "source": [
    "It looks like we have a 27.9% WER and 8.1% CER. Interesting, we have a 4% decrease in WER but a 5% increase in CER... We have some made some improvement in WER after finetuning. Perhaps a different set of hyperparameters (such as learning rate) would show better results. Please refer to Section C for guidance on how to experiment with different hyperparameters. Let's add this result to our table. \n",
    "\n",
    "| Model | WER % | CER %|\n",
    "|-------|-----|----|\n",
    "|whisper-large-v2| 97.8| 40.5|\n",
    "|mms-1b-all|29.3|**7.7**|\n",
    "|finetuned whisper-large-v2|40.4|19.2|\n",
    "|finetuned mms-1b-all| **27.9**| 8.1|"
   ]
  },
  {
   "cell_type": "markdown",
   "id": "36e91f3a",
   "metadata": {},
   "source": [
    "### XLS-R"
   ]
  },
  {
   "cell_type": "markdown",
   "id": "ba222f69",
   "metadata": {},
   "source": [
    "XLS-R was released before MMS, and the MMS paper claims (CHECK) that it has better performance than XLS-R. However, it may be a good idea to check to see which model is better for your specific dataset and use-case. Therefore, let's try finetuning XLS-R on the Hausa fleurs dataset. Refer to the [Hugging Face tutorial](https://huggingface.co/blog/fine-tune-xlsr-wav2vec2) for more details."
   ]
  },
  {
   "cell_type": "markdown",
   "id": "444b4d1d",
   "metadata": {},
   "source": [
    "Similar to MMS, we will create a tokenizer from the character vocabulary file we made earlier in this tutorial, then the feature extractor and processor that wraps the tokenizer and feature extractor."
   ]
  },
  {
   "cell_type": "code",
   "execution_count": null,
   "id": "5d812a99",
   "metadata": {},
   "outputs": [],
   "source": [
    "from transformers import Wav2Vec2CTCTokenizer\n",
    "tokenizer = Wav2Vec2CTCTokenizer(vocab_file, unk_token=\"[UNK]\", pad_token=\"[PAD]\", word_delimiter_token=\"|\")\n",
    "\n",
    "feature_extractor = Wav2Vec2FeatureExtractor(feature_size=1, sampling_rate=model_sampling_rate, padding_value=0.0, do_normalize=True, return_attention_mask=True)\n",
    "\n",
    "processor = Wav2Vec2Processor(feature_extractor=feature_extractor, tokenizer=tokenizer)"
   ]
  },
  {
   "cell_type": "markdown",
   "id": "2f49d290",
   "metadata": {},
   "source": [
    "Then, we want to create our dataset objects using our processor."
   ]
  },
  {
   "cell_type": "code",
   "execution_count": null,
   "id": "3a404458",
   "metadata": {},
   "outputs": [],
   "source": [
    "train_dataset = ASRDatasetWav2Vec2(train_audio, train_transcripts, model_sampling_rate, processor)\n",
    "val_dataset = ASRDatasetWav2Vec2(val_audio,  val_transcripts, model_sampling_rate, processor)\n",
    "test_dataset = ASRDatasetWav2Vec2(test_audio, test_transcripts, model_sampling_rate, processor)"
   ]
  },
  {
   "cell_type": "markdown",
   "id": "e53f99c5",
   "metadata": {},
   "source": [
    "Then, we want to instantiate a data collator of the same class as the one for MMS "
   ]
  },
  {
   "cell_type": "code",
   "execution_count": null,
   "id": "a95eccff",
   "metadata": {},
   "outputs": [],
   "source": [
    "data_collator = DataCollatorCTCWithPaddingWav2Vec2(processor=processor, padding=True)"
   ]
  },
  {
   "cell_type": "markdown",
   "id": "c34c355b",
   "metadata": {},
   "source": [
    "Now, we create variables and functions for training"
   ]
  },
  {
   "cell_type": "code",
   "execution_count": null,
   "id": "6bc34870",
   "metadata": {},
   "outputs": [],
   "source": [
    "import numpy as np\n",
    "def compute_metrics(pred):\n",
    "    wer_metric = evaluate.load(\"wer\")\n",
    "    cer_metric = evaluate.load(\"cer\")\n",
    "    \n",
    "    pred_logits = pred.predictions\n",
    "    pred_ids = np.argmax(pred_logits, axis=-1)\n",
    "\n",
    "    pred.label_ids[pred.label_ids == -100] = processor.tokenizer.pad_token_id\n",
    "\n",
    "    pred_str = processor.batch_decode(pred_ids)\n",
    "    # we do not want to group tokens when computing the metrics\n",
    "    label_str = processor.batch_decode(pred.label_ids, group_tokens=False)\n",
    "\n",
    "    wer = wer_metric.compute(predictions=pred_str, references=label_str)\n",
    "    cer = cer_metric.compute(predictions=pred_str, references=label_str)\n",
    "\n",
    "    return {\"wer\": wer, \"cer\": cer}"
   ]
  },
  {
   "cell_type": "code",
   "execution_count": null,
   "id": "2118f81a",
   "metadata": {},
   "outputs": [],
   "source": [
    "batch_size = 8\n",
    "learning_rate = 2e-4\n",
    "num_train_epochs = 3\n",
    "attention_dropout = 0.1\n",
    "hidden_dropout = 0.1\n",
    "feat_proj_dropout = 0.0\n",
    "mask_time_prob = 0.05\n",
    "layerdrop = 0.1\n",
    "warmup_steps = 500\n",
    "    \n",
    "model_card = \"facebook/wav2vec2-xls-r-1b\"\n",
    "model = Wav2Vec2ForCTC.from_pretrained(\n",
    "    model_card, \n",
    "    attention_dropout=attention_dropout,\n",
    "    hidden_dropout=hidden_dropout,\n",
    "    feat_proj_dropout=feat_proj_dropout,\n",
    "    mask_time_prob=mask_time_prob,\n",
    "    layerdrop=layerdrop,\n",
    "    ctc_loss_reduction=\"mean\", \n",
    "    pad_token_id=processor.tokenizer.pad_token_id,\n",
    "    vocab_size=len(processor.tokenizer),\n",
    "    ignore_mismatched_sizes=True\n",
    ")\n",
    "\n",
    "model.freeze_feature_extractor()\n",
    "model.gradient_checkpointing_enable()"
   ]
  },
  {
   "cell_type": "code",
   "execution_count": null,
   "id": "998d22bf",
   "metadata": {},
   "outputs": [],
   "source": [
    "training_args = TrainingArguments(\n",
    "  output_dir=out_dir,\n",
    "  group_by_length=True,\n",
    "  per_device_train_batch_size=batch_size,\n",
    "  gradient_accumulation_steps=3,\n",
    "  evaluation_strategy=\"steps\",\n",
    "  num_train_epochs=num_train_epochs,\n",
    "  fp16=True,\n",
    "  save_steps=100,\n",
    "  eval_steps=100,\n",
    "  logging_steps=10,\n",
    "  load_best_model_at_end=True,\n",
    "  learning_rate=learning_rate,\n",
    "  warmup_steps=warmup_steps,\n",
    "  save_total_limit=2,\n",
    "  metric_for_best_model=\"wer\",\n",
    "  greater_is_better=False\n",
    ")"
   ]
  },
  {
   "cell_type": "code",
   "execution_count": null,
   "id": "4ea426a7",
   "metadata": {},
   "outputs": [],
   "source": [
    "trainer = Trainer(\n",
    "    model=model,\n",
    "    data_collator=data_collator,\n",
    "    args=training_args,\n",
    "    compute_metrics=compute_metrics,\n",
    "    train_dataset=train_dataset,\n",
    "    eval_dataset=val_dataset, \n",
    "    tokenizer=processor.feature_extractor,\n",
    ")"
   ]
  },
  {
   "cell_type": "markdown",
   "id": "d3b063e0",
   "metadata": {},
   "source": [
    "Training with batch size of 8 and 3 epochs takes about _ minutes and 61338MiB (61 GB) on an NVIDIA-SMI. This model should be trained longer, we found that the loss stabalizes after around 10 epochs, so train for 10+ epochs."
   ]
  },
  {
   "cell_type": "code",
   "execution_count": null,
   "id": "14dbb7e8",
   "metadata": {},
   "outputs": [],
   "source": [
    "trainer.train()"
   ]
  },
  {
   "cell_type": "code",
   "execution_count": null,
   "id": "ff447a7a",
   "metadata": {},
   "outputs": [],
   "source": [
    "preds = trainer.predict(test_dataset)\n",
    "eval_preds = compute_metrics(preds)\n",
    "eval_preds"
   ]
  },
  {
   "cell_type": "markdown",
   "id": "19ceb5d1",
   "metadata": {},
   "source": [
    "It looks like we have a _% WER and _% CER. Let's add this result to our table. \n",
    "\n",
    "| Model | WER % | CER %|\n",
    "|-------|-----|----|\n",
    "|whisper-large-v2| 97.8| 40.5|\n",
    "|mms-1b-all|29.3|7.7|\n",
    "|finetuned whisper-large-v2|40.4|19.2|\n",
    "|finetuned mms-1b-all|27.9|8.1|\n",
    "|finetuned xls-r-1b|_|_|"
   ]
  },
  {
   "cell_type": "markdown",
   "id": "f08ada4a",
   "metadata": {},
   "source": [
    "## Section C: Further Improvements **(under construction)**"
   ]
  },
  {
   "cell_type": "markdown",
   "id": "f9f18ecc",
   "metadata": {},
   "source": [
    "### Available scripts"
   ]
  },
  {
   "cell_type": "markdown",
   "id": "6afc8b74",
   "metadata": {},
   "source": [
    "For convenience, we have provided in this GitHub repo a finetuning script that enables the user to enter any FLUERS language, custom prepared dataset, and model training hyperparameters to do finetuning and evaluation all in one easy script (in progress)."
   ]
  },
  {
   "cell_type": "markdown",
   "id": "a153feed",
   "metadata": {},
   "source": [
    "#### Hyperparameter tuning"
   ]
  },
  {
   "cell_type": "markdown",
   "id": "bab900e4",
   "metadata": {},
   "source": [
    "Using the scripts available in this GitHub repo, you can run your own experiments with different hyperparameters to see what gives the best model performance."
   ]
  },
  {
   "cell_type": "markdown",
   "id": "5ee3831d",
   "metadata": {},
   "source": [
    "#### Adding more data"
   ]
  },
  {
   "cell_type": "markdown",
   "id": "34b95d37",
   "metadata": {},
   "source": [
    "In order to use a dataset other than FLEURS, you must make sure to set up a Python script that has a function called `create_dataset()`. It must return three ASRDataset objects for the training, validation, and test set. The ASRDataset is available in the `utilities.py` script.\n",
    "\n",
    "*Example custom dataset script:*\n",
    "\n",
    "```\n",
    "from utilities import ASRDataset \n",
    "def create_dataset() -> Tuple[ASRDataset]:\n",
    "    # your code\n",
    "    train_dataset = ASRDataset(audio_train, transcripts_train, sampling_rate, processor)\n",
    "    val_dataset = ASRDataset(audio_val, transcripts_val, sampling_rate, processor)\n",
    "    test_dataset = ASRDataset(audio_test, transcripts_test, sampling_rate, processor)\n",
    "\n",
    "    return train_dataset, val_dataset, test_dataset\n",
    "```"
   ]
  }
 ],
 "metadata": {
  "kernelspec": {
   "display_name": "Python 3 (ipykernel)",
   "language": "python",
   "name": "python3"
  },
  "language_info": {
   "codemirror_mode": {
    "name": "ipython",
    "version": 3
   },
   "file_extension": ".py",
   "mimetype": "text/x-python",
   "name": "python",
   "nbconvert_exporter": "python",
   "pygments_lexer": "ipython3",
   "version": "3.10.11"
  }
 },
 "nbformat": 4,
 "nbformat_minor": 5
}
