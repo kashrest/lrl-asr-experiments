{
 "cells": [
  {
   "cell_type": "markdown",
   "id": "a4ea45ff",
   "metadata": {},
   "source": [
    "# Automatic Speech Recognition (ASR) Tutorial "
   ]
  },
  {
   "cell_type": "markdown",
   "id": "691b82bb",
   "metadata": {},
   "source": [
    "## Fine-tune a pretrained, multilingual ASR model on FLEURS"
   ]
  },
  {
   "cell_type": "markdown",
   "id": "9e0545f5",
   "metadata": {},
   "source": [
    "In this tutorial, we will be evaluating and improving a multilingual ASR model for a language in the FLEURS dataset. We will focus on **Hausa**, but you can follow along in any language in FLEURS. See the FLEURS dataset paper for a list of supported languages: https://arxiv.org/abs/2205.12446.\n",
    "\n",
    "We will be looking at three major open-source ASR multilingual models:\n",
    "* XLS-R  (https://arxiv.org/abs/2111.09296)\n",
    "* Whisper (https://cdn.openai.com/papers/whisper.pdf)\n",
    "* MMS (https://scontent-sjc3-1.xx.fbcdn.net/v/t39.8562-6/348827959_6967534189927933_6819186233244071998_n.pdf?_nc_cat=104&ccb=1-7&_nc_sid=ad8a9d&_nc_ohc=-JOSFMsFL-UAX-4O6o4&_nc_ht=scontent-sjc3-1.xx&oh=00_AfDdMFq0DP2xIRyjWpGrmIpqncnouiylLfWnFsAgxboLWw&oe=6497E242)"
   ]
  },
  {
   "cell_type": "markdown",
   "id": "6945531e",
   "metadata": {},
   "source": [
    "## Before you start: Setting up your coding environment "
   ]
  },
  {
   "cell_type": "markdown",
   "id": "89b7e5c2",
   "metadata": {},
   "source": [
    "You can run follow along and run the lines of code in this notebook, and also utilize the scripts found in this GitHub respository. Before starting this tutorial, you will need to create a virtual environment for this project so you can download all the required packages without affecting your other projects. We recommend using Anaconda (conda) to create a virtual environment. We have provided an `environment.yml` file that you can use to create a virtual environment named `asr` containing all the required packages. In your terminal run this code:\n",
    "\n",
    "```\n",
    "git clone https://github.com/kashrest/lrl-asr-experiments.git\n",
    "cd lrl-asr-experiments\n",
    "conda env create -f environment.yml \n",
    "conda activate asr\n",
    "```"
   ]
  },
  {
   "cell_type": "markdown",
   "id": "a6fa7f76",
   "metadata": {},
   "source": [
    "Note: The pretrained multilingual ASR models we will be using in this notebook require GPUs with at least 40 GB of space (check) for practical use. "
   ]
  },
  {
   "cell_type": "markdown",
   "id": "79e13d8d",
   "metadata": {},
   "source": [
    "Now you can run the lines in this notebook"
   ]
  },
  {
   "cell_type": "markdown",
   "id": "db71af9f",
   "metadata": {},
   "source": [
    "## Data Preprocessing"
   ]
  },
  {
   "cell_type": "markdown",
   "id": "13dbbef6",
   "metadata": {},
   "source": [
    "The first step is to download and prepare the data for the ASR model. Hugging Face has an easy way to download FLEURS data for any supported language, where the split can be specified"
   ]
  },
  {
   "cell_type": "code",
   "execution_count": 10,
   "id": "24889296",
   "metadata": {},
   "outputs": [
    {
     "name": "stderr",
     "output_type": "stream",
     "text": [
      "Found cached dataset fleurs (/data/users/kashrest/lrl-asr-experiments/data/fleurs/google___fleurs/ha_ng/2.0.0/af82dbec419a815084fa63ebd5d5a9f24a6e9acdf9887b9e3b8c6bbd64e0b7ac)\n",
      "Found cached dataset fleurs (/data/users/kashrest/lrl-asr-experiments/data/fleurs/google___fleurs/ha_ng/2.0.0/af82dbec419a815084fa63ebd5d5a9f24a6e9acdf9887b9e3b8c6bbd64e0b7ac)\n",
      "Found cached dataset fleurs (/data/users/kashrest/lrl-asr-experiments/data/fleurs/google___fleurs/ha_ng/2.0.0/af82dbec419a815084fa63ebd5d5a9f24a6e9acdf9887b9e3b8c6bbd64e0b7ac)\n"
     ]
    }
   ],
   "source": [
    "import os \n",
    "from datasets import load_dataset\n",
    "\n",
    "cache_dir_fleurs = \"./data/fleurs/\"\n",
    "\n",
    "# create a data directory for caching \n",
    "try:\n",
    "    os.mkdir(cache_dir_fleurs)\n",
    "except:\n",
    "    pass\n",
    "\n",
    "# create a directory for outputs \n",
    "out_dir = \"./tutorial/\"\n",
    "\n",
    "try:\n",
    "    os.mkdir(out_dir)\n",
    "except:\n",
    "    pass\n",
    "\n",
    "\n",
    "# for Hausa, the language code is \"ha_ng\"\n",
    "train_data = load_dataset(\"google/fleurs\", \"ha_ng\", split=\"train\", cache_dir=cache_dir_fleurs)\n",
    "val_data = load_dataset(\"google/fleurs\", \"ha_ng\", split=\"validation\", cache_dir=cache_dir_fleurs)\n",
    "test_data = load_dataset(\"google/fleurs\", \"ha_ng\", split=\"test\", cache_dir=cache_dir_fleurs)"
   ]
  },
  {
   "cell_type": "markdown",
   "id": "8752ed3a",
   "metadata": {},
   "source": [
    "FLEURS data is organized like so"
   ]
  },
  {
   "cell_type": "code",
   "execution_count": 2,
   "id": "5ab66092",
   "metadata": {},
   "outputs": [
    {
     "data": {
      "text/plain": [
       "{'id': 302,\n",
       " 'num_samples': 301440,\n",
       " 'path': '/data/users/kashrest/asr-experiments/downloads/extracted/953575415c600d2042020b042380119265aefaa4fcf95afc300adfcd2b79784e/10002175198254707815.wav',\n",
       " 'audio': {'path': 'train/10002175198254707815.wav',\n",
       "  'array': array([0.00000000e+00, 0.00000000e+00, 0.00000000e+00, ...,\n",
       "         6.78300858e-05, 1.26361847e-05, 6.46114349e-05]),\n",
       "  'sampling_rate': 16000},\n",
       " 'transcription': 'nasarorin da vautier ta samu marasa alaka da bada umarni ba sun hada da yajin cin abinci a 1973 a kan abin da ya ke ganin dabaibayin siyasa ne',\n",
       " 'raw_transcription': 'Nasarorin da Vautier ta samu marasa alaka da bada umarni ba sun hada da yajin cin abinci a 1973 a kan abin da ya ke ganin dabaibayin siyasa ne.',\n",
       " 'gender': 1,\n",
       " 'lang_id': 30,\n",
       " 'language': 'Hausa',\n",
       " 'lang_group_id': 3}"
      ]
     },
     "execution_count": 2,
     "metadata": {},
     "output_type": "execute_result"
    }
   ],
   "source": [
    "train_data[0]"
   ]
  },
  {
   "cell_type": "markdown",
   "id": "ec16d08d",
   "metadata": {},
   "source": [
    "We are interested in the audio (represented as an array of floats each describing the amplitude/loudness of the sound; the number of floats is determined by the sampling rate which here is 16,000 measurements per second) and the corresponding transcript"
   ]
  },
  {
   "cell_type": "code",
   "execution_count": 12,
   "id": "f6d6e448",
   "metadata": {},
   "outputs": [],
   "source": [
    "train_transcripts, val_transcripts, test_transcripts = [], [], []\n",
    "train_audio, val_audio, test_audio = [], [], []\n",
    "\n",
    "for elem in train_data:\n",
    "    assert elem[\"audio\"][\"sampling_rate\"] == 16000\n",
    "    train_audio.append(elem[\"audio\"][\"array\"])\n",
    "    train_transcripts.append(elem[\"raw_transcription\"])\n",
    "    \n",
    "for elem in val_data:\n",
    "    assert elem[\"audio\"][\"sampling_rate\"] == 16000\n",
    "    val_audio.append(elem[\"audio\"][\"array\"])\n",
    "    val_transcripts.append(elem[\"raw_transcription\"])\n",
    "    \n",
    "for elem in test_data:\n",
    "    assert elem[\"audio\"][\"sampling_rate\"] == 16000\n",
    "    test_audio.append(elem[\"audio\"][\"array\"])\n",
    "    test_transcripts.append(elem[\"raw_transcription\"])"
   ]
  },
  {
   "cell_type": "markdown",
   "id": "9945c231",
   "metadata": {},
   "source": [
    "Now, since we are interested in transcribing speech, we want to clean the transcripts by removing special characters that do not have a clear sound (such as ! '). This part may depend on your target application and language. For example for Hausa, many native speakers do not speak English and does not have much code-switching, so we want to also normalize any foreign characters (ç ş) and symbols (% & $)."
   ]
  },
  {
   "cell_type": "code",
   "execution_count": 3,
   "id": "ffde34d4",
   "metadata": {},
   "outputs": [],
   "source": [
    "import re\n",
    "\n",
    "def preprocess_texts_hausa(transcriptions):\n",
    "    chars_to_remove_regex = '[\\,\\?\\!\\-\\;\\:\\\"\\“\\%\\‘\\'\\ʻ\\”\\�\\$\\&\\(\\)\\–\\—]'\n",
    "\n",
    "    def _remove_special_characters(transcription):\n",
    "        transcription = transcription.strip()\n",
    "        transcription = transcription.lower()\n",
    "        transcription = re.sub(chars_to_remove_regex, '', transcription)\n",
    "        transcription = re.sub(\"\\[\\]\\{\\}\", '', transcription)\n",
    "        transcription = re.sub(r'[\\\\]', '', transcription)\n",
    "        transcription = re.sub(r'[/]', '', transcription)\n",
    "        transcription = re.sub(u'[¥£°¾½²]', '', transcription)\n",
    "        transcription = re.sub(u'[\\+><]', '', transcription)\n",
    "        return transcription\n",
    "\n",
    "    def _normalize_diacritics(transcription):\n",
    "        a = '[āăáã]'\n",
    "        u = '[ūúü]'\n",
    "        o = '[öõó]' \n",
    "        c = '[ç]'\n",
    "        i = '[í]'\n",
    "        s = '[ş]'\n",
    "        e = '[é]'\n",
    "\n",
    "        transcription = re.sub(a, \"a\", transcription)\n",
    "        transcription = re.sub(u, \"u\", transcription)\n",
    "        transcription = re.sub(o, \"o\", transcription)\n",
    "        transcription = re.sub(c, \"c\", transcription)\n",
    "        transcription = re.sub(i, \"i\", transcription)\n",
    "        transcription = re.sub(s, \"s\", transcription)\n",
    "        transcription = re.sub(e, \"e\", transcription)\n",
    "\n",
    "        return transcription\n",
    "\n",
    "    cleaned_transcriptions = map(_remove_special_characters, transcriptions)\n",
    "    cleaned_transcriptions = list(map(_normalize_diacritics, list(cleaned_transcriptions)))\n",
    "    return cleaned_transcriptions\n",
    "\n",
    "train_transcripts = preprocess_texts_hausa(train_transcripts)\n",
    "val_transcripts = preprocess_texts_hausa(val_transcripts)\n",
    "test_transcripts = preprocess_texts_hausa(test_transcripts)"
   ]
  },
  {
   "cell_type": "markdown",
   "id": "d341925a",
   "metadata": {},
   "source": [
    "Some models predict one character at a time, and so we need a character vocabulary made up of all characters in the dataset after preprocessing. We can save the vocabulary in a JSON file"
   ]
  },
  {
   "cell_type": "code",
   "execution_count": 6,
   "id": "cbc6aa32",
   "metadata": {},
   "outputs": [],
   "source": [
    "import json "
   ]
  },
  {
   "cell_type": "code",
   "execution_count": 29,
   "id": "9aaddb44",
   "metadata": {},
   "outputs": [],
   "source": [
    "def extract_all_chars(transcription):\n",
    "      all_text = \" \".join(transcription)\n",
    "      vocab = list(set(all_text))\n",
    "      return {\"vocab\": [vocab], \"all_text\": [all_text]}\n",
    "\n",
    "vocab_train = list(map(extract_all_chars, train_transcripts))\n",
    "vocab_val = list(map(extract_all_chars, val_transcripts))\n",
    "vocab_test = list(map(extract_all_chars, test_transcripts))\n",
    "\n",
    "vocab_train_chars = []\n",
    "for elem in [elem[\"vocab\"][0] for elem in vocab_train]:\n",
    "    vocab_train_chars.extend(elem)\n",
    "\n",
    "vocab_val_chars = []\n",
    "for elem in [elem[\"vocab\"][0] for elem in vocab_val]:\n",
    "    vocab_val_chars.extend(elem)\n",
    "\n",
    "vocab_test_chars = []\n",
    "for elem in [elem[\"vocab\"][0] for elem in vocab_test]:\n",
    "    vocab_test_chars.extend(elem)\n",
    "\n",
    "vocab_list = list(set(vocab_train_chars) | set(vocab_val_chars) | set(vocab_test_chars))\n",
    "vocab_dict = {v: k for k, v in enumerate(vocab_list)}\n",
    "\n",
    "# for word delimiter, change \" \" --> \"|\" (ex. \"Hello my name is Bob\" --> \"Hello|my|name|is|Bob\")\n",
    "vocab_dict[\"|\"] = vocab_dict[\" \"]\n",
    "del vocab_dict[\" \"]\n",
    "vocab_dict[\"[UNK]\"] = len(vocab_dict)\n",
    "vocab_dict[\"[PAD]\"] = len(vocab_dict) # this is for CTC to predict the end of a character (e.g. \"hhh[PAD]iii[PAD]iii[PAD]\" == \"hii\")\n",
    "\n",
    "vocab_file = out_dir+\"vocab_hausa.json\"\n",
    "with open(vocab_file, 'w') as f:\n",
    "    json.dump(vocab_dict, f)"
   ]
  },
  {
   "cell_type": "markdown",
   "id": "74417458",
   "metadata": {},
   "source": [
    "## Evaluation code"
   ]
  },
  {
   "cell_type": "markdown",
   "id": "c7b7c289",
   "metadata": {},
   "source": [
    "In ASR, word error rate (WER) and character error rate (CER) are the common metrics used to evaluate how good a model-produced transcript is in comparison to the gold transcript."
   ]
  },
  {
   "cell_type": "code",
   "execution_count": null,
   "id": "68bb3215",
   "metadata": {},
   "outputs": [],
   "source": [
    "from datasets import load_metric, load_dataset, Audio"
   ]
  },
  {
   "cell_type": "code",
   "execution_count": 6,
   "id": "aef73068",
   "metadata": {},
   "outputs": [
    {
     "name": "stderr",
     "output_type": "stream",
     "text": [
      "/tmp/ipykernel_6402/778497257.py:2: FutureWarning: load_metric is deprecated and will be removed in the next major version of datasets. Use 'evaluate.load' instead, from the new library 🤗 Evaluate: https://huggingface.co/docs/evaluate\n",
      "  wer_metric = load_metric(\"wer\")\n"
     ]
    }
   ],
   "source": [
    "wer_metric = load_metric(\"wer\")\n",
    "cer_metric = load_metric(\"cer\")\n",
    "                         \n",
    "def compute_metrics(label_strs, pred_strs):\n",
    "    # make sure labels are preprocessed the same way for proper comparison with other models after finetuning\n",
    "    wer = wer_metric.compute(predictions=pred_strs, references=label_strs) * 100\n",
    "    cer = cer_metric.compute(predictions=pred_strs, references=label_strs) * 100\n",
    "    return {\"wer\": wer, \"cer\": cer}"
   ]
  },
  {
   "cell_type": "markdown",
   "id": "8c88b179",
   "metadata": {},
   "source": [
    "## Section A: Zero-Shot ASR"
   ]
  },
  {
   "cell_type": "markdown",
   "id": "4ebc9422",
   "metadata": {},
   "source": [
    "Let's run inference on our audio dataset with different existing, ready-to-use pretrained and finetuned models. Later, when we compare model performance, we will compare performance on the test set since some models will be trained on the train split."
   ]
  },
  {
   "cell_type": "markdown",
   "id": "3cec099d",
   "metadata": {},
   "source": [
    "### OpenAI Whisper"
   ]
  },
  {
   "cell_type": "markdown",
   "id": "5a72baf2",
   "metadata": {},
   "source": [
    "OpenAI's Whisper model is a pretrained encoder-decoder model that supports a set of languages without futher fine-tuning. Here, we will use whisper-large V2 to compare it with MMS-1b-all (both have about 1 billion parameters). You can use the smaller checkpoints if you do not have enough GPU space (found on Hugging Face Hub: https://huggingface.co/openai/whisper-small) or decrease the batch size.\n",
    "\n",
    "Note: Whisper requires that input is sampled at 16,000 Hz. FLEURS data is sampled at this rate, so we are good. Also, Whisper does not support all FLEURS languages (the 96 languages are listed in the paper)"
   ]
  },
  {
   "cell_type": "code",
   "execution_count": null,
   "id": "b9ce34a8",
   "metadata": {},
   "outputs": [],
   "source": [
    "from transformers import WhisperProcessor, WhisperForConditionalGeneration\n",
    "from tqdm import tqdm\n",
    "import time"
   ]
  },
  {
   "cell_type": "markdown",
   "id": "f6b5a288",
   "metadata": {},
   "source": [
    "With a batch size of 10, inference takes about 5 minutes."
   ]
  },
  {
   "cell_type": "code",
   "execution_count": 7,
   "id": "422ba1e7",
   "metadata": {},
   "outputs": [
    {
     "name": "stderr",
     "output_type": "stream",
     "text": [
      "  0%|                                                                                         | 0/63 [00:00<?, ?it/s]/data/users/kashrest/miniconda3/envs/asr/lib/python3.10/site-packages/transformers/generation/utils.py:1353: UserWarning: Using `max_length`'s default (448) to control the generation length. This behaviour is deprecated and will be removed from the config in v5 of Transformers -- we recommend using `max_new_tokens` to control the maximum length of the generation.\n",
      "  warnings.warn(\n",
      "100%|████████████████████████████████████████████████████████████████████████████████| 63/63 [05:19<00:00,  5.07s/it]\n"
     ]
    }
   ],
   "source": [
    "device = \"cuda:0\" # change this to a gpu if you have access to one, otherwise set to \"cpu\"\n",
    "model_id = \"openai/whisper-large-v2\" # 8630MiB for batch size 1, ~25426MiB for batch size 10\n",
    "processor = WhisperProcessor.from_pretrained(model_id)\n",
    "model = WhisperForConditionalGeneration.from_pretrained(model_id).to(device)\n",
    "forced_decoder_ids = processor.get_decoder_prompt_ids(language=\"hausa\", task=\"transcribe\")\n",
    "\n",
    "predicted_test_transcripts = []\n",
    "\n",
    "batch_size = 10 # decrease if needed\n",
    "\n",
    "for i in tqdm(range(0, len(test_audio), batch_size)):\n",
    "    batch = test_audio[i:i+batch_size] if i+batch_size <= len(test_audio) else test_audio[i:]\n",
    "    input_features = processor(batch, sampling_rate=16000, return_tensors=\"pt\").input_features.to(device)\n",
    "    # generate token ids\n",
    "    predicted_ids = model.generate(input_features, forced_decoder_ids=forced_decoder_ids)\n",
    "    # decode token ids to text\n",
    "    predicted_test_transcripts.extend(processor.batch_decode(predicted_ids, skip_special_tokens=True))"
   ]
  },
  {
   "cell_type": "code",
   "execution_count": 8,
   "id": "7768e1af",
   "metadata": {},
   "outputs": [
    {
     "data": {
      "text/plain": [
       "(621, 621)"
      ]
     },
     "execution_count": 8,
     "metadata": {},
     "output_type": "execute_result"
    }
   ],
   "source": [
    "len(predicted_test_transcripts), len(test_audio)"
   ]
  },
  {
   "cell_type": "markdown",
   "id": "73753c9b",
   "metadata": {},
   "source": [
    "Let's evaluate the performance of whisper-small on our preprocessed test dataset"
   ]
  },
  {
   "cell_type": "code",
   "execution_count": 9,
   "id": "100d70d6",
   "metadata": {},
   "outputs": [
    {
     "data": {
      "text/plain": [
       "621"
      ]
     },
     "execution_count": 9,
     "metadata": {},
     "output_type": "execute_result"
    }
   ],
   "source": [
    "len(test_audio)"
   ]
  },
  {
   "cell_type": "code",
   "execution_count": 10,
   "id": "521fe204",
   "metadata": {},
   "outputs": [
    {
     "data": {
      "text/plain": [
       "{'wer': 97.78959507944643, 'cer': 40.52395399540877}"
      ]
     },
     "execution_count": 10,
     "metadata": {},
     "output_type": "execute_result"
    }
   ],
   "source": [
    "compute_metrics(test_transcripts, predicted_test_transcripts)"
   ]
  },
  {
   "cell_type": "markdown",
   "id": "8dbe8e1a",
   "metadata": {},
   "source": [
    "It looks like we have a 97.8% WER and 40.5% CER. Let's create a running table of the performances of different models on our test dataset. \n",
    "\n",
    "| Model | WER % | CER %|\n",
    "|-------|-----|----|\n",
    "|whisper-large-v2| 97.8| 40.5|"
   ]
  },
  {
   "cell_type": "markdown",
   "id": "e6a2a508",
   "metadata": {},
   "source": [
    "### Facebook MMS"
   ]
  },
  {
   "cell_type": "code",
   "execution_count": 8,
   "id": "7db55c0c",
   "metadata": {},
   "outputs": [],
   "source": [
    "import torch\n",
    "from transformers import Wav2Vec2ForCTC, AutoProcessor"
   ]
  },
  {
   "cell_type": "code",
   "execution_count": 11,
   "id": "6c219b85",
   "metadata": {},
   "outputs": [
    {
     "name": "stderr",
     "output_type": "stream",
     "text": [
      "100%|██████████████████████████████████████████████████████████████████████████████| 621/621 [28:10<00:00,  2.72s/it]\n"
     ]
    }
   ],
   "source": [
    "model_id = \"facebook/mms-1b-all\"\n",
    "\n",
    "processor = AutoProcessor.from_pretrained(model_id)\n",
    "model = Wav2Vec2ForCTC.from_pretrained(model_id)\n",
    "\n",
    "processor.tokenizer.set_target_lang(\"hau\")\n",
    "model.load_adapter(\"hau\")\n",
    "\n",
    "predicted_test_transcripts = []\n",
    "\n",
    "for elem in tqdm(test_audio): # Todo: batch inference\n",
    "    inputs = processor(elem, sampling_rate=16_000, return_tensors=\"pt\")\n",
    "    with torch.no_grad():\n",
    "        outputs = model(**inputs).logits\n",
    "    ids = torch.argmax(outputs, dim=-1)[0]\n",
    "    predicted_test_transcripts.append(processor.decode(ids))"
   ]
  },
  {
   "cell_type": "code",
   "execution_count": 12,
   "id": "9868c9ce",
   "metadata": {},
   "outputs": [
    {
     "data": {
      "text/plain": [
       "{'wer': 29.279856483854434, 'cer': 7.700116511126236}"
      ]
     },
     "execution_count": 12,
     "metadata": {},
     "output_type": "execute_result"
    }
   ],
   "source": [
    "compute_metrics(test_transcripts, predicted_test_transcripts)"
   ]
  },
  {
   "cell_type": "markdown",
   "id": "3c4874ff",
   "metadata": {},
   "source": [
    "It looks like we have a 29.3% WER and 7.7% CER. Let's add this result to our table. \n",
    "\n",
    "| Model | WER % | CER %|\n",
    "|-------|-----|----|\n",
    "|whisper-large-v2| 97.8| 40.5|\n",
    "|mms-1b-all|29.3|7.7|"
   ]
  },
  {
   "cell_type": "markdown",
   "id": "59a6325a",
   "metadata": {},
   "source": [
    "## Section B: Finetuning"
   ]
  },
  {
   "cell_type": "markdown",
   "id": "3aacf6e2",
   "metadata": {},
   "source": [
    "For fine-tuning, we will be using functions from the Hugging Face API for the training loop and model setup. In order to use these functions, we need to wrap the data in a custom PyTorch Dataset object."
   ]
  },
  {
   "cell_type": "code",
   "execution_count": 44,
   "id": "4c1e5634",
   "metadata": {},
   "outputs": [],
   "source": [
    "class ASRDataset(torch.utils.data.Dataset):\n",
    "    def __init__(self, audio, transcripts, sampling_rate, processor):#feature_extractor, tokenizer):\n",
    "        self.audio = audio\n",
    "        self.transcripts = transcripts\n",
    "        self.sampling_rate = sampling_rate\n",
    "        self.processor = processor\n",
    "        \"\"\"self.tokenizer = tokenizer\n",
    "        self.feature_extractor = feature_extractor\"\"\"\n",
    "    def __getitem__(self, idx):\n",
    "        input_values = self.processor.feature_extractor(self.audio[idx], sampling_rate=self.sampling_rate).input_features[0]\n",
    "        labels = self.processor.tokenizer(self.transcripts[idx]).input_ids\n",
    "        \n",
    "        item = {}\n",
    "        item[\"input_features\"] = input_values\n",
    "        item[\"labels\"] = labels\n",
    "        \n",
    "        return item\n",
    "\n",
    "    def __len__(self):\n",
    "        return len(self.transcripts)"
   ]
  },
  {
   "cell_type": "markdown",
   "id": "1358da3f",
   "metadata": {},
   "source": [
    "### Whisper"
   ]
  },
  {
   "cell_type": "markdown",
   "id": "72b2a9a4",
   "metadata": {},
   "source": [
    "First, let's import the required Whisper classes and training loop functions from Hugging Face and some other utility functions\n",
    "\n",
    "Note: Hugging Face has a great tutorial that we referenced for fine-tuning Whisper. You can refer to this tutorial for more information if needed: https://huggingface.co/blog/fine-tune-whisper#prepare-feature-extractor-tokenizer-and-data"
   ]
  },
  {
   "cell_type": "code",
   "execution_count": 10,
   "id": "bd7b8cd9",
   "metadata": {},
   "outputs": [],
   "source": [
    "from transformers import WhisperFeatureExtractor, WhisperTokenizer, WhisperProcessor, WhisperForConditionalGeneration, Seq2SeqTrainingArguments, Seq2SeqTrainer\n",
    "from dataclasses import dataclass\n",
    "from typing import Any, Dict, List, Optional, Union\n",
    "import evaluate"
   ]
  },
  {
   "cell_type": "markdown",
   "id": "ffca4305",
   "metadata": {},
   "source": [
    "Let's fine-tune a Whisper-large V2 model which we will download from Hugging Face, and set up a WhisperProcessor object which takes contains a feature extractor and a tokenizer. The feature extractor transforms the input into log-Mel spectrograms. This transformation takes in the amplitude information respresented by the input array and transforms it into frequencies (refer to the Hugging Face tutorial for more information). Frequencies encode pitch, and so useful audio signals can be found for speech recognition. Additionally, the tokenizer splits the transcripts into tokens based on Whisper's vocabulary. Whisper utilizes byte-level BPE, which is the same tokenizer as GPT-2. If interested, refer to this page: https://huggingface.co/learn/nlp-course/chapter6/5?fw=pt"
   ]
  },
  {
   "cell_type": "code",
   "execution_count": 11,
   "id": "7cab8e81",
   "metadata": {},
   "outputs": [],
   "source": [
    "model_card = \"openai/whisper-large-v2\"\n",
    "processor = WhisperProcessor.from_pretrained(model_card, language=\"Hausa\", task=\"transcribe\")\n",
    "model = WhisperForConditionalGeneration.from_pretrained(model_card)"
   ]
  },
  {
   "cell_type": "markdown",
   "id": "92aec1c5",
   "metadata": {},
   "source": [
    "The following lines are required to fine-tune the Whisper model. The first line makes the model predict the language and task by setting the token ids that control the transcription language and task, to `None`.\n",
    "\n",
    "The second line makes sure that all possible tokens are predicted by setting the set of supressed tokens to an empty list."
   ]
  },
  {
   "cell_type": "code",
   "execution_count": 12,
   "id": "7657fffc",
   "metadata": {},
   "outputs": [],
   "source": [
    "model.config.forced_decoder_ids = None\n",
    "model.config.suppress_tokens = []"
   ]
  },
  {
   "cell_type": "markdown",
   "id": "f20c83da",
   "metadata": {},
   "source": [
    "Like mentioned before, Whisper takes inputs sampled at 16,000 Hz, and so we will prepare our data using this sampling rate (Fleurs is already sampled at 16 kHz) using the ASRDataset object mentioned before"
   ]
  },
  {
   "cell_type": "code",
   "execution_count": 45,
   "id": "806959ee",
   "metadata": {},
   "outputs": [],
   "source": [
    "model_sampling_rate = 16000\n",
    "train_dataset = ASRDataset(train_audio, train_transcripts, model_sampling_rate, processor)\n",
    "val_dataset = ASRDataset(val_audio,  val_transcripts, model_sampling_rate, processor)\n",
    "test_dataset = ASRDataset(test_audio, test_transcripts, model_sampling_rate, processor)"
   ]
  },
  {
   "cell_type": "markdown",
   "id": "bb3fab6f",
   "metadata": {},
   "source": [
    "Next, we need a function that will pad all the inputs/outputs in a batch to the same length. This code is from the tutorial mentioned earlier."
   ]
  },
  {
   "cell_type": "code",
   "execution_count": 14,
   "id": "1d1fdde6",
   "metadata": {},
   "outputs": [],
   "source": [
    "@dataclass\n",
    "class DataCollatorSpeechSeq2SeqWithPadding:\n",
    "    processor: Any\n",
    "\n",
    "    def __call__(self, features: List[Dict[str, Union[List[int], torch.Tensor]]]) -> Dict[str, torch.Tensor]:\n",
    "        # split inputs and labels since they have to be of different lengths and need different padding methods\n",
    "        # first treat the audio inputs by simply returning torch tensors\n",
    "        input_features = [{\"input_features\": feature[\"input_features\"]} for feature in features]\n",
    "        batch = self.processor.feature_extractor.pad(input_features, return_tensors=\"pt\")\n",
    "\n",
    "        # get the tokenized label sequences\n",
    "        label_features = [{\"input_ids\": feature[\"labels\"]} for feature in features]\n",
    "        # pad the labels to max length\n",
    "        labels_batch = self.processor.tokenizer.pad(label_features, return_tensors=\"pt\")\n",
    "\n",
    "        # replace padding with -100 to ignore loss correctly\n",
    "        labels = labels_batch[\"input_ids\"].masked_fill(labels_batch.attention_mask.ne(1), -100)\n",
    "\n",
    "        # if bos token is appended in previous tokenization step,\n",
    "        # cut bos token here as it's append later anyways\n",
    "        if (labels[:, 0] == self.processor.tokenizer.bos_token_id).all().cpu().item():\n",
    "            labels = labels[:, 1:]\n",
    "\n",
    "        batch[\"labels\"] = labels\n",
    "\n",
    "        return batch\n",
    "    \n",
    "data_collator = DataCollatorSpeechSeq2SeqWithPadding(processor=processor)"
   ]
  },
  {
   "cell_type": "markdown",
   "id": "24fab3d7",
   "metadata": {},
   "source": [
    "In order to use the Trainer class from Hugging Face, we need to define an evaluation function that takes in a model prediction object."
   ]
  },
  {
   "cell_type": "code",
   "execution_count": 15,
   "id": "52d2304f",
   "metadata": {},
   "outputs": [],
   "source": [
    "def compute_metrics(pred):\n",
    "    metric_wer = evaluate.load(\"wer\")\n",
    "    metric_cer = evaluate.load(\"cer\")\n",
    "    \n",
    "    pred_ids = pred.predictions\n",
    "    label_ids = pred.label_ids\n",
    "\n",
    "    # replace -100 with the pad_token_id\n",
    "    label_ids[label_ids == -100] = processor.tokenizer.pad_token_id\n",
    "\n",
    "    # we do not want to group tokens when computing the metrics\n",
    "    pred_str = processor.tokenizer.batch_decode(pred_ids, skip_special_tokens=True)\n",
    "    label_str = processor.tokenizer.batch_decode(label_ids, skip_special_tokens=True)\n",
    "\n",
    "    wer = 100 * metric_wer.compute(predictions=pred_str, references=label_str)\n",
    "    cer = 100 * metric_cer.compute(predictions=pred_str, references=label_str)\n",
    "\n",
    "    return {\"wer\": wer, \"cer\": cer}"
   ]
  },
  {
   "cell_type": "markdown",
   "id": "58b7c41f",
   "metadata": {},
   "source": [
    "Now, we will setup the model training hyperparameters by using Hugging Face Seq2SeqTrainingArguments. Feel free to experiment with different hyperparameters. Learning rate is an important hyperparameter to experiment with. Reference the official Seq2SeqTrainingArguments for explanations of the hyperparameters: https://huggingface.co/docs/transformers/main_classes/trainer#transformers.Seq2SeqTrainingArguments\n",
    "\n",
    "Note: Decrease batch size if you have limited GPU space"
   ]
  },
  {
   "cell_type": "code",
   "execution_count": 16,
   "id": "a77b5a0b",
   "metadata": {},
   "outputs": [],
   "source": [
    "train_batch_size = 8\n",
    "num_train_epochs = 1 \n",
    "learning_rate = 1e-05\n",
    "\n",
    "training_args = Seq2SeqTrainingArguments(\n",
    "    output_dir=out_dir+\"whisper-finetuning-experiment-1/\",  # change to a repo name of your choice\n",
    "    per_device_train_batch_size=train_batch_size,\n",
    "    gradient_accumulation_steps=1,  # increase by 2x for every 2x decrease in batch size\n",
    "    learning_rate=learning_rate,\n",
    "    warmup_steps=500,\n",
    "    num_train_epochs=num_train_epochs,\n",
    "    gradient_checkpointing=True,\n",
    "    fp16=True,\n",
    "    evaluation_strategy=\"steps\",\n",
    "    per_device_eval_batch_size=8,\n",
    "    predict_with_generate=True,\n",
    "    generation_max_length=225,\n",
    "    save_steps=100,\n",
    "    eval_steps=100,\n",
    "    save_total_limit=2, \n",
    "    load_best_model_at_end=True,\n",
    "    metric_for_best_model=\"wer\",\n",
    "    greater_is_better=False)"
   ]
  },
  {
   "cell_type": "markdown",
   "id": "ada10041",
   "metadata": {},
   "source": [
    "Now, we set up the Trainer object by inputing our training and validation datasets, our evaluation function, tokenizer, model, data collator, and previously instantiated training arguments. Then, we call the train function for the Trainer object to start training."
   ]
  },
  {
   "cell_type": "code",
   "execution_count": 17,
   "id": "47ee3809",
   "metadata": {
    "scrolled": true
   },
   "outputs": [
    {
     "name": "stderr",
     "output_type": "stream",
     "text": [
      "/data/users/kashrest/miniconda3/envs/asr/lib/python3.10/site-packages/transformers/optimization.py:411: FutureWarning: This implementation of AdamW is deprecated and will be removed in a future version. Use the PyTorch implementation torch.optim.AdamW instead, or set `no_deprecation_warning=True` to disable this warning\n",
      "  warnings.warn(\n",
      "`use_cache = True` is incompatible with gradient checkpointing. Setting `use_cache = False`...\n"
     ]
    },
    {
     "data": {
      "text/html": [
       "\n",
       "    <div>\n",
       "      \n",
       "      <progress value='408' max='408' style='width:300px; height:20px; vertical-align: middle;'></progress>\n",
       "      [408/408 29:30, Epoch 1/1]\n",
       "    </div>\n",
       "    <table border=\"1\" class=\"dataframe\">\n",
       "  <thead>\n",
       " <tr style=\"text-align: left;\">\n",
       "      <th>Step</th>\n",
       "      <th>Training Loss</th>\n",
       "      <th>Validation Loss</th>\n",
       "      <th>Wer</th>\n",
       "      <th>Cer</th>\n",
       "    </tr>\n",
       "  </thead>\n",
       "  <tbody>\n",
       "    <tr>\n",
       "      <td>100</td>\n",
       "      <td>No log</td>\n",
       "      <td>1.407914</td>\n",
       "      <td>145.707527</td>\n",
       "      <td>99.179581</td>\n",
       "    </tr>\n",
       "    <tr>\n",
       "      <td>200</td>\n",
       "      <td>No log</td>\n",
       "      <td>0.821172</td>\n",
       "      <td>58.647558</td>\n",
       "      <td>22.764104</td>\n",
       "    </tr>\n",
       "    <tr>\n",
       "      <td>300</td>\n",
       "      <td>No log</td>\n",
       "      <td>0.699349</td>\n",
       "      <td>44.956171</td>\n",
       "      <td>15.122050</td>\n",
       "    </tr>\n",
       "    <tr>\n",
       "      <td>400</td>\n",
       "      <td>No log</td>\n",
       "      <td>0.630282</td>\n",
       "      <td>43.829136</td>\n",
       "      <td>16.028563</td>\n",
       "    </tr>\n",
       "  </tbody>\n",
       "</table><p>"
      ],
      "text/plain": [
       "<IPython.core.display.HTML object>"
      ]
     },
     "metadata": {},
     "output_type": "display_data"
    }
   ],
   "source": [
    "trainer = Seq2SeqTrainer(\n",
    "    args=training_args,\n",
    "    model=model,\n",
    "    train_dataset=train_dataset,\n",
    "    eval_dataset=val_dataset,\n",
    "    data_collator=data_collator,\n",
    "    compute_metrics=compute_metrics,\n",
    "    tokenizer=processor.feature_extractor,\n",
    ")\n",
    "\n",
    "start = time.time()\n",
    "trainer.train()\n",
    "end = time.time()"
   ]
  },
  {
   "cell_type": "markdown",
   "id": "4963a5c6",
   "metadata": {},
   "source": [
    "Let's see the performance on the FLEURS test set"
   ]
  },
  {
   "cell_type": "code",
   "execution_count": 18,
   "id": "d02878c8",
   "metadata": {},
   "outputs": [
    {
     "data": {
      "text/html": [],
      "text/plain": [
       "<IPython.core.display.HTML object>"
      ]
     },
     "metadata": {},
     "output_type": "display_data"
    },
    {
     "data": {
      "text/plain": [
       "{'wer': 45.48308559712967, 'cer': 18.391454312642033}"
      ]
     },
     "execution_count": 18,
     "metadata": {},
     "output_type": "execute_result"
    }
   ],
   "source": [
    "preds = trainer.predict(test_dataset)\n",
    "eval_preds = compute_metrics(preds)\n",
    "eval_preds"
   ]
  },
  {
   "cell_type": "markdown",
   "id": "35718d6e",
   "metadata": {},
   "source": [
    "It looks like we have a 45.5% WER and % 18.4 CER. Great! We have some made some improvement after finetuning over just 1 epoch of training. Let's add this result to our table. \n",
    "\n",
    "| Model | WER % | CER %|\n",
    "|-------|-----|----|\n",
    "|whisper-large-v2| 97.8| 40.5|\n",
    "|mms-1b-all|29.3|7.7|\n",
    "|finetuned whisper-large-v2|45.5|18.4|\n",
    "\n",
    "It looks like mms-1b-all still has the best results. Let's see if further finetuning mms-1b-all is better."
   ]
  },
  {
   "cell_type": "markdown",
   "id": "a4357c4c",
   "metadata": {},
   "source": [
    "### MMS"
   ]
  },
  {
   "cell_type": "markdown",
   "id": "13210611",
   "metadata": {},
   "source": [
    "MMS-1b-all is Facebook's MMS (**M**assively **M**ultilingual **S**peech) model, which is MMS, an ASR (Wav2Vec) model that is pretrained on a large corpus of Bible data covering 1107 languages, finetuned on additional labeled datasets. We wil further fine-tune MMS to see if it can be improved by further finetuning on our FLEURS dataset. You can refer to Hugging Face's recent MMS finetuning blog for more details and explanations if needed: https://huggingface.co/blog/mms_adapters"
   ]
  },
  {
   "cell_type": "markdown",
   "id": "fdaf5535",
   "metadata": {},
   "source": [
    "MMS-1b-all works by incorporating an adapter architecture, which are extra parameters throughout the architecture that are trainable during finetuning, and are language-specific. This enables the user to finetune a smaller number of parameters in comparison to the entire model.\n",
    "\n",
    "Here, we will finetune the MMS adapter weights for Hausa."
   ]
  },
  {
   "cell_type": "markdown",
   "id": "9ba669fd",
   "metadata": {},
   "source": [
    "First, we will set up the tokenizer based on our previously made character vocabulary, setting special tokens for unknown characters, padding, and word delimiters according to the vocabulary. We need to specify our vocabulary for the specific language of interest in a dictionary so that the MMS-1b-all checkpoint will correctly finetune the adapter weights for Hausa."
   ]
  },
  {
   "cell_type": "code",
   "execution_count": 30,
   "id": "78e94168",
   "metadata": {},
   "outputs": [
    {
     "name": "stderr",
     "output_type": "stream",
     "text": [
      "Special tokens have been added in the vocabulary, make sure the associated word embeddings are fine-tuned or trained.\n"
     ]
    }
   ],
   "source": [
    "from transformers import Wav2Vec2CTCTokenizer, Wav2Vec2FeatureExtractor, Wav2Vec2Processor\n",
    "\n",
    "target_lang = \"hau\"\n",
    "\n",
    "with open(vocab_file, \"r\") as f:\n",
    "    vocab_dict = json.load(f)\n",
    "\n",
    "new_vocab_dict = {target_lang: vocab_dict}\n",
    "\n",
    "experiment_file = out_dir+\"mms-1b-all-finetuning-1/\"\n",
    "\n",
    "try:\n",
    "    os.mkdir(experiment_file)\n",
    "except:\n",
    "    print(\"already exists\")\n",
    "\n",
    "with open(experiment_file+\"vocab.json\", 'w') as f:\n",
    "    json.dump(new_vocab_dict, f)\n",
    "    \n",
    "tokenizer = Wav2Vec2CTCTokenizer.from_pretrained(experiment_file, unk_token=\"[UNK]\", pad_token=\"[PAD]\", word_delimiter_token=\"|\", target_lang=target_lang)"
   ]
  },
  {
   "cell_type": "markdown",
   "id": "2945e61c",
   "metadata": {},
   "source": [
    "Then, we will setup the feature extractor, which transforms the input audio into features. MMS takes in the raw audio, unlike the Whisper model, and simply zero-mean-unit-variance normalizes the values."
   ]
  },
  {
   "cell_type": "code",
   "execution_count": 31,
   "id": "ad1f7bb4",
   "metadata": {},
   "outputs": [],
   "source": [
    "model_sampling_rate = 16000\n",
    "feature_extractor = Wav2Vec2FeatureExtractor(feature_size=1, sampling_rate=16000, padding_value=0.0, do_normalize=True, return_attention_mask=True)"
   ]
  },
  {
   "cell_type": "markdown",
   "id": "c1c2d285",
   "metadata": {},
   "source": [
    "And finally, the processor wraps both the tokenizer and feature extractor into one conventient class."
   ]
  },
  {
   "cell_type": "code",
   "execution_count": 32,
   "id": "30961c55",
   "metadata": {},
   "outputs": [],
   "source": [
    "processor = Wav2Vec2Processor(feature_extractor=feature_extractor, tokenizer=tokenizer)"
   ]
  },
  {
   "cell_type": "markdown",
   "id": "7d90cb8e",
   "metadata": {},
   "source": [
    "Now, we want to create a data collator (similar to the one we made for Whisper) that prepares the input in batches for the model"
   ]
  },
  {
   "cell_type": "code",
   "execution_count": 33,
   "id": "bf9800d7",
   "metadata": {},
   "outputs": [],
   "source": [
    "import torch\n",
    "\n",
    "from dataclasses import dataclass, field\n",
    "from typing import Any, Dict, List, Optional, Union\n",
    "\n",
    "\n",
    "@dataclass\n",
    "class DataCollatorCTCWithPadding: # credit: https://huggingface.co/blog/mms_adapters\n",
    "    \"\"\"\n",
    "    Data collator that will dynamically pad the inputs received.\n",
    "    Args:\n",
    "        processor (:class:`~transformers.Wav2Vec2Processor`)\n",
    "            The processor used for proccessing the data.\n",
    "        padding (:obj:`bool`, :obj:`str` or :class:`~transformers.tokenization_utils_base.PaddingStrategy`, `optional`, defaults to :obj:`True`):\n",
    "            Select a strategy to pad the returned sequences (according to the model's padding side and padding index)\n",
    "            among:\n",
    "            * :obj:`True` or :obj:`'longest'`: Pad to the longest sequence in the batch (or no padding if only a single\n",
    "              sequence if provided).\n",
    "            * :obj:`'max_length'`: Pad to a maximum length specified with the argument :obj:`max_length` or to the\n",
    "              maximum acceptable input length for the model if that argument is not provided.\n",
    "            * :obj:`False` or :obj:`'do_not_pad'` (default): No padding (i.e., can output a batch with sequences of\n",
    "              different lengths).\n",
    "    \"\"\"\n",
    "\n",
    "    processor: Wav2Vec2Processor\n",
    "    padding: Union[bool, str] = True\n",
    "\n",
    "    def __call__(self, features: List[Dict[str, Union[List[int], torch.Tensor]]]) -> Dict[str, torch.Tensor]:\n",
    "        # split inputs and labels since they have to be of different lenghts and need\n",
    "        # different padding methods\n",
    "        input_features = [{\"input_values\": feature[\"input_values\"]} for feature in features]\n",
    "        label_features = [{\"input_ids\": feature[\"labels\"]} for feature in features]\n",
    "\n",
    "        batch = self.processor.pad(\n",
    "            input_features,\n",
    "            padding=self.padding,\n",
    "            return_tensors=\"pt\",\n",
    "        )\n",
    "\n",
    "        labels_batch = self.processor.pad(\n",
    "            labels=label_features,\n",
    "            padding=self.padding,\n",
    "            return_tensors=\"pt\",\n",
    "        )\n",
    "\n",
    "        # replace padding with -100 to ignore loss correctly\n",
    "        labels = labels_batch[\"input_ids\"].masked_fill(labels_batch.attention_mask.ne(1), -100)\n",
    "\n",
    "        batch[\"labels\"] = labels\n",
    "\n",
    "        return batch\n",
    "data_collator = DataCollatorCTCWithPadding(processor=processor, padding=True)"
   ]
  },
  {
   "cell_type": "markdown",
   "id": "0d8fcd8b",
   "metadata": {},
   "source": [
    "Now we create an evaluation function."
   ]
  },
  {
   "cell_type": "code",
   "execution_count": 34,
   "id": "aeb738df",
   "metadata": {},
   "outputs": [],
   "source": [
    "def compute_metrics(pred):\n",
    "    wer_metric = load(\"wer\")\n",
    "    cer_metric = load(\"cer\")\n",
    "    pred_logits = pred.predictions\n",
    "    pred_ids = np.argmax(pred_logits, axis=-1)\n",
    "\n",
    "    pred.label_ids[pred.label_ids == -100] = processor.tokenizer.pad_token_id\n",
    "\n",
    "    pred_str = processor.batch_decode(pred_ids)\n",
    "    # we do not want to group tokens when computing the metrics\n",
    "    label_str = processor.batch_decode(pred.label_ids, group_tokens=False)\n",
    "\n",
    "    wer = wer_metric.compute(predictions=pred_str, references=label_str)\n",
    "    cer = cer_metric.compute(predictions=pred_str, references=label_str)\n",
    "\n",
    "    return {\"wer\": wer, \"cer\": cer}"
   ]
  },
  {
   "cell_type": "markdown",
   "id": "378f8dd3",
   "metadata": {},
   "source": [
    "Now, we can define the model."
   ]
  },
  {
   "cell_type": "code",
   "execution_count": 35,
   "id": "b17606a7",
   "metadata": {},
   "outputs": [
    {
     "name": "stderr",
     "output_type": "stream",
     "text": [
      "Some weights of Wav2Vec2ForCTC were not initialized from the model checkpoint at facebook/mms-1b-all and are newly initialized because the shapes did not match:\n",
      "- lm_head.bias: found shape torch.Size([154]) in the checkpoint and torch.Size([122]) in the model instantiated\n",
      "- lm_head.weight: found shape torch.Size([154, 1280]) in the checkpoint and torch.Size([122, 1280]) in the model instantiated\n",
      "You should probably TRAIN this model on a down-stream task to be able to use it for predictions and inference.\n"
     ]
    }
   ],
   "source": [
    "from transformers import Wav2Vec2ForCTC\n",
    "\n",
    "model_card = \"facebook/mms-1b-all\"\n",
    "model = Wav2Vec2ForCTC.from_pretrained(\n",
    "    model_card,\n",
    "    attention_dropout=0.0,\n",
    "    hidden_dropout=0.0,\n",
    "    feat_proj_dropout=0.0,\n",
    "    layerdrop=0.0,\n",
    "    ctc_loss_reduction=\"mean\",\n",
    "    pad_token_id=processor.tokenizer.pad_token_id,\n",
    "    vocab_size=len(processor.tokenizer),\n",
    "    ignore_mismatched_sizes=True,\n",
    ")"
   ]
  },
  {
   "cell_type": "markdown",
   "id": "a9916216",
   "metadata": {},
   "source": [
    "We re-initialize the adapter layers to prepare for finetuning"
   ]
  },
  {
   "cell_type": "code",
   "execution_count": 36,
   "id": "0999e66b",
   "metadata": {},
   "outputs": [],
   "source": [
    "model.init_adapter_layers()"
   ]
  },
  {
   "cell_type": "markdown",
   "id": "c9ddfe3d",
   "metadata": {},
   "source": [
    "Then we freeze all the parameters (learned from the pretraining and finetuning by the Meta team) except the adapter weights"
   ]
  },
  {
   "cell_type": "code",
   "execution_count": 38,
   "id": "8fc55aab",
   "metadata": {},
   "outputs": [],
   "source": [
    "model.freeze_base_model()\n",
    "\n",
    "adapter_weights = model._get_adapters()\n",
    "for param in adapter_weights.values():\n",
    "    param.requires_grad = True"
   ]
  },
  {
   "cell_type": "markdown",
   "id": "44db2af1",
   "metadata": {},
   "source": [
    "Then, we set up the parameters for model training like for Whisper"
   ]
  },
  {
   "cell_type": "code",
   "execution_count": 39,
   "id": "6d58be0b",
   "metadata": {},
   "outputs": [],
   "source": [
    "train_batch_size = 16\n",
    "learning_rate = 1e-3\n",
    "num_epochs = 1"
   ]
  },
  {
   "cell_type": "code",
   "execution_count": 41,
   "id": "d117585a",
   "metadata": {
    "scrolled": true
   },
   "outputs": [],
   "source": [
    "from transformers import TrainingArguments\n",
    "training_args = TrainingArguments(\n",
    "  output_dir=experiment_file,\n",
    "  group_by_length=True,\n",
    "  per_device_train_batch_size=train_batch_size,\n",
    "  evaluation_strategy=\"steps\",\n",
    "  num_train_epochs=num_epochs,\n",
    "  gradient_checkpointing=True,\n",
    "  fp16=True,\n",
    "  save_steps=200,\n",
    "  eval_steps=100,\n",
    "  logging_steps=100,\n",
    "  learning_rate=learning_rate,\n",
    "  warmup_steps=100,\n",
    "  save_total_limit=2,\n",
    "  push_to_hub=False,\n",
    ")"
   ]
  },
  {
   "cell_type": "markdown",
   "id": "37855918",
   "metadata": {},
   "source": [
    "Then send everything to the Trainer class for training!"
   ]
  },
  {
   "cell_type": "code",
   "execution_count": 47,
   "id": "1592265f",
   "metadata": {},
   "outputs": [],
   "source": [
    "from transformers import Trainer\n",
    "\n",
    "trainer = Trainer(\n",
    "    model=model,\n",
    "    data_collator=data_collator,\n",
    "    args=training_args,\n",
    "    compute_metrics=compute_metrics,\n",
    "    train_dataset=train_dataset,\n",
    "    eval_dataset=val_dataset,\n",
    "    tokenizer=processor.feature_extractor,\n",
    ")\n"
   ]
  },
  {
   "cell_type": "code",
   "execution_count": 48,
   "id": "99cfa47f",
   "metadata": {
    "collapsed": true
   },
   "outputs": [
    {
     "ename": "AttributeError",
     "evalue": "",
     "output_type": "error",
     "traceback": [
      "\u001b[0;31m---------------------------------------------------------------------------\u001b[0m",
      "\u001b[0;31mKeyError\u001b[0m                                  Traceback (most recent call last)",
      "File \u001b[0;32m/data/users/kashrest/miniconda3/envs/asr/lib/python3.10/site-packages/transformers/feature_extraction_utils.py:91\u001b[0m, in \u001b[0;36mBatchFeature.__getattr__\u001b[0;34m(self, item)\u001b[0m\n\u001b[1;32m     90\u001b[0m \u001b[38;5;28;01mtry\u001b[39;00m:\n\u001b[0;32m---> 91\u001b[0m     \u001b[38;5;28;01mreturn\u001b[39;00m \u001b[38;5;28;43mself\u001b[39;49m\u001b[38;5;241;43m.\u001b[39;49m\u001b[43mdata\u001b[49m\u001b[43m[\u001b[49m\u001b[43mitem\u001b[49m\u001b[43m]\u001b[49m\n\u001b[1;32m     92\u001b[0m \u001b[38;5;28;01mexcept\u001b[39;00m \u001b[38;5;167;01mKeyError\u001b[39;00m:\n",
      "\u001b[0;31mKeyError\u001b[0m: 'input_features'",
      "\nDuring handling of the above exception, another exception occurred:\n",
      "\u001b[0;31mAttributeError\u001b[0m                            Traceback (most recent call last)",
      "Cell \u001b[0;32mIn[48], line 1\u001b[0m\n\u001b[0;32m----> 1\u001b[0m \u001b[43mtrainer\u001b[49m\u001b[38;5;241;43m.\u001b[39;49m\u001b[43mtrain\u001b[49m\u001b[43m(\u001b[49m\u001b[43m)\u001b[49m\n",
      "File \u001b[0;32m/data/users/kashrest/miniconda3/envs/asr/lib/python3.10/site-packages/transformers/trainer.py:1539\u001b[0m, in \u001b[0;36mTrainer.train\u001b[0;34m(self, resume_from_checkpoint, trial, ignore_keys_for_eval, **kwargs)\u001b[0m\n\u001b[1;32m   1534\u001b[0m     \u001b[38;5;28mself\u001b[39m\u001b[38;5;241m.\u001b[39mmodel_wrapped \u001b[38;5;241m=\u001b[39m \u001b[38;5;28mself\u001b[39m\u001b[38;5;241m.\u001b[39mmodel\n\u001b[1;32m   1536\u001b[0m inner_training_loop \u001b[38;5;241m=\u001b[39m find_executable_batch_size(\n\u001b[1;32m   1537\u001b[0m     \u001b[38;5;28mself\u001b[39m\u001b[38;5;241m.\u001b[39m_inner_training_loop, \u001b[38;5;28mself\u001b[39m\u001b[38;5;241m.\u001b[39m_train_batch_size, args\u001b[38;5;241m.\u001b[39mauto_find_batch_size\n\u001b[1;32m   1538\u001b[0m )\n\u001b[0;32m-> 1539\u001b[0m \u001b[38;5;28;01mreturn\u001b[39;00m \u001b[43minner_training_loop\u001b[49m\u001b[43m(\u001b[49m\n\u001b[1;32m   1540\u001b[0m \u001b[43m    \u001b[49m\u001b[43margs\u001b[49m\u001b[38;5;241;43m=\u001b[39;49m\u001b[43margs\u001b[49m\u001b[43m,\u001b[49m\n\u001b[1;32m   1541\u001b[0m \u001b[43m    \u001b[49m\u001b[43mresume_from_checkpoint\u001b[49m\u001b[38;5;241;43m=\u001b[39;49m\u001b[43mresume_from_checkpoint\u001b[49m\u001b[43m,\u001b[49m\n\u001b[1;32m   1542\u001b[0m \u001b[43m    \u001b[49m\u001b[43mtrial\u001b[49m\u001b[38;5;241;43m=\u001b[39;49m\u001b[43mtrial\u001b[49m\u001b[43m,\u001b[49m\n\u001b[1;32m   1543\u001b[0m \u001b[43m    \u001b[49m\u001b[43mignore_keys_for_eval\u001b[49m\u001b[38;5;241;43m=\u001b[39;49m\u001b[43mignore_keys_for_eval\u001b[49m\u001b[43m,\u001b[49m\n\u001b[1;32m   1544\u001b[0m \u001b[43m\u001b[49m\u001b[43m)\u001b[49m\n",
      "File \u001b[0;32m/data/users/kashrest/miniconda3/envs/asr/lib/python3.10/site-packages/transformers/trainer.py:1553\u001b[0m, in \u001b[0;36mTrainer._inner_training_loop\u001b[0;34m(self, batch_size, args, resume_from_checkpoint, trial, ignore_keys_for_eval)\u001b[0m\n\u001b[1;32m   1551\u001b[0m logger\u001b[38;5;241m.\u001b[39mdebug(\u001b[38;5;124mf\u001b[39m\u001b[38;5;124m\"\u001b[39m\u001b[38;5;124mCurrently training with a batch size of: \u001b[39m\u001b[38;5;132;01m{\u001b[39;00m\u001b[38;5;28mself\u001b[39m\u001b[38;5;241m.\u001b[39m_train_batch_size\u001b[38;5;132;01m}\u001b[39;00m\u001b[38;5;124m\"\u001b[39m)\n\u001b[1;32m   1552\u001b[0m \u001b[38;5;66;03m# Data loader and number of training steps\u001b[39;00m\n\u001b[0;32m-> 1553\u001b[0m train_dataloader \u001b[38;5;241m=\u001b[39m \u001b[38;5;28;43mself\u001b[39;49m\u001b[38;5;241;43m.\u001b[39;49m\u001b[43mget_train_dataloader\u001b[49m\u001b[43m(\u001b[49m\u001b[43m)\u001b[49m\n\u001b[1;32m   1555\u001b[0m \u001b[38;5;66;03m# Setting up training control variables:\u001b[39;00m\n\u001b[1;32m   1556\u001b[0m \u001b[38;5;66;03m# number of training epochs: num_train_epochs\u001b[39;00m\n\u001b[1;32m   1557\u001b[0m \u001b[38;5;66;03m# number of training steps per epoch: num_update_steps_per_epoch\u001b[39;00m\n\u001b[1;32m   1558\u001b[0m \u001b[38;5;66;03m# total number of training steps to execute: max_steps\u001b[39;00m\n\u001b[1;32m   1559\u001b[0m total_train_batch_size \u001b[38;5;241m=\u001b[39m args\u001b[38;5;241m.\u001b[39mtrain_batch_size \u001b[38;5;241m*\u001b[39m args\u001b[38;5;241m.\u001b[39mgradient_accumulation_steps \u001b[38;5;241m*\u001b[39m args\u001b[38;5;241m.\u001b[39mworld_size\n",
      "File \u001b[0;32m/data/users/kashrest/miniconda3/envs/asr/lib/python3.10/site-packages/transformers/trainer.py:859\u001b[0m, in \u001b[0;36mTrainer.get_train_dataloader\u001b[0;34m(self)\u001b[0m\n\u001b[1;32m    851\u001b[0m dataloader_params \u001b[38;5;241m=\u001b[39m {\n\u001b[1;32m    852\u001b[0m     \u001b[38;5;124m\"\u001b[39m\u001b[38;5;124mbatch_size\u001b[39m\u001b[38;5;124m\"\u001b[39m: \u001b[38;5;28mself\u001b[39m\u001b[38;5;241m.\u001b[39m_train_batch_size,\n\u001b[1;32m    853\u001b[0m     \u001b[38;5;124m\"\u001b[39m\u001b[38;5;124mcollate_fn\u001b[39m\u001b[38;5;124m\"\u001b[39m: data_collator,\n\u001b[1;32m    854\u001b[0m     \u001b[38;5;124m\"\u001b[39m\u001b[38;5;124mnum_workers\u001b[39m\u001b[38;5;124m\"\u001b[39m: \u001b[38;5;28mself\u001b[39m\u001b[38;5;241m.\u001b[39margs\u001b[38;5;241m.\u001b[39mdataloader_num_workers,\n\u001b[1;32m    855\u001b[0m     \u001b[38;5;124m\"\u001b[39m\u001b[38;5;124mpin_memory\u001b[39m\u001b[38;5;124m\"\u001b[39m: \u001b[38;5;28mself\u001b[39m\u001b[38;5;241m.\u001b[39margs\u001b[38;5;241m.\u001b[39mdataloader_pin_memory,\n\u001b[1;32m    856\u001b[0m }\n\u001b[1;32m    858\u001b[0m \u001b[38;5;28;01mif\u001b[39;00m \u001b[38;5;129;01mnot\u001b[39;00m \u001b[38;5;28misinstance\u001b[39m(train_dataset, torch\u001b[38;5;241m.\u001b[39mutils\u001b[38;5;241m.\u001b[39mdata\u001b[38;5;241m.\u001b[39mIterableDataset):\n\u001b[0;32m--> 859\u001b[0m     dataloader_params[\u001b[38;5;124m\"\u001b[39m\u001b[38;5;124msampler\u001b[39m\u001b[38;5;124m\"\u001b[39m] \u001b[38;5;241m=\u001b[39m \u001b[38;5;28;43mself\u001b[39;49m\u001b[38;5;241;43m.\u001b[39;49m\u001b[43m_get_train_sampler\u001b[49m\u001b[43m(\u001b[49m\u001b[43m)\u001b[49m\n\u001b[1;32m    860\u001b[0m     dataloader_params[\u001b[38;5;124m\"\u001b[39m\u001b[38;5;124mdrop_last\u001b[39m\u001b[38;5;124m\"\u001b[39m] \u001b[38;5;241m=\u001b[39m \u001b[38;5;28mself\u001b[39m\u001b[38;5;241m.\u001b[39margs\u001b[38;5;241m.\u001b[39mdataloader_drop_last\n\u001b[1;32m    861\u001b[0m     dataloader_params[\u001b[38;5;124m\"\u001b[39m\u001b[38;5;124mworker_init_fn\u001b[39m\u001b[38;5;124m\"\u001b[39m] \u001b[38;5;241m=\u001b[39m seed_worker\n",
      "File \u001b[0;32m/data/users/kashrest/miniconda3/envs/asr/lib/python3.10/site-packages/transformers/trainer.py:822\u001b[0m, in \u001b[0;36mTrainer._get_train_sampler\u001b[0;34m(self)\u001b[0m\n\u001b[1;32m    820\u001b[0m         lengths \u001b[38;5;241m=\u001b[39m \u001b[38;5;28;01mNone\u001b[39;00m\n\u001b[1;32m    821\u001b[0m     model_input_name \u001b[38;5;241m=\u001b[39m \u001b[38;5;28mself\u001b[39m\u001b[38;5;241m.\u001b[39mtokenizer\u001b[38;5;241m.\u001b[39mmodel_input_names[\u001b[38;5;241m0\u001b[39m] \u001b[38;5;28;01mif\u001b[39;00m \u001b[38;5;28mself\u001b[39m\u001b[38;5;241m.\u001b[39mtokenizer \u001b[38;5;129;01mis\u001b[39;00m \u001b[38;5;129;01mnot\u001b[39;00m \u001b[38;5;28;01mNone\u001b[39;00m \u001b[38;5;28;01melse\u001b[39;00m \u001b[38;5;28;01mNone\u001b[39;00m\n\u001b[0;32m--> 822\u001b[0m     \u001b[38;5;28;01mreturn\u001b[39;00m \u001b[43mLengthGroupedSampler\u001b[49m\u001b[43m(\u001b[49m\n\u001b[1;32m    823\u001b[0m \u001b[43m        \u001b[49m\u001b[38;5;28;43mself\u001b[39;49m\u001b[38;5;241;43m.\u001b[39;49m\u001b[43margs\u001b[49m\u001b[38;5;241;43m.\u001b[39;49m\u001b[43mtrain_batch_size\u001b[49m\u001b[43m \u001b[49m\u001b[38;5;241;43m*\u001b[39;49m\u001b[43m \u001b[49m\u001b[38;5;28;43mself\u001b[39;49m\u001b[38;5;241;43m.\u001b[39;49m\u001b[43margs\u001b[49m\u001b[38;5;241;43m.\u001b[39;49m\u001b[43mgradient_accumulation_steps\u001b[49m\u001b[43m,\u001b[49m\n\u001b[1;32m    824\u001b[0m \u001b[43m        \u001b[49m\u001b[43mdataset\u001b[49m\u001b[38;5;241;43m=\u001b[39;49m\u001b[38;5;28;43mself\u001b[39;49m\u001b[38;5;241;43m.\u001b[39;49m\u001b[43mtrain_dataset\u001b[49m\u001b[43m,\u001b[49m\n\u001b[1;32m    825\u001b[0m \u001b[43m        \u001b[49m\u001b[43mlengths\u001b[49m\u001b[38;5;241;43m=\u001b[39;49m\u001b[43mlengths\u001b[49m\u001b[43m,\u001b[49m\n\u001b[1;32m    826\u001b[0m \u001b[43m        \u001b[49m\u001b[43mmodel_input_name\u001b[49m\u001b[38;5;241;43m=\u001b[39;49m\u001b[43mmodel_input_name\u001b[49m\u001b[43m,\u001b[49m\n\u001b[1;32m    827\u001b[0m \u001b[43m    \u001b[49m\u001b[43m)\u001b[49m\n\u001b[1;32m    829\u001b[0m \u001b[38;5;28;01melse\u001b[39;00m:\n\u001b[1;32m    830\u001b[0m     \u001b[38;5;28;01mreturn\u001b[39;00m RandomSampler(\u001b[38;5;28mself\u001b[39m\u001b[38;5;241m.\u001b[39mtrain_dataset)\n",
      "File \u001b[0;32m/data/users/kashrest/miniconda3/envs/asr/lib/python3.10/site-packages/transformers/trainer_pt_utils.py:571\u001b[0m, in \u001b[0;36mLengthGroupedSampler.__init__\u001b[0;34m(self, batch_size, dataset, lengths, model_input_name, generator)\u001b[0m\n\u001b[1;32m    568\u001b[0m \u001b[38;5;28;01mif\u001b[39;00m lengths \u001b[38;5;129;01mis\u001b[39;00m \u001b[38;5;28;01mNone\u001b[39;00m:\n\u001b[1;32m    569\u001b[0m     model_input_name \u001b[38;5;241m=\u001b[39m model_input_name \u001b[38;5;28;01mif\u001b[39;00m model_input_name \u001b[38;5;129;01mis\u001b[39;00m \u001b[38;5;129;01mnot\u001b[39;00m \u001b[38;5;28;01mNone\u001b[39;00m \u001b[38;5;28;01melse\u001b[39;00m \u001b[38;5;124m\"\u001b[39m\u001b[38;5;124minput_ids\u001b[39m\u001b[38;5;124m\"\u001b[39m\n\u001b[1;32m    570\u001b[0m     \u001b[38;5;28;01mif\u001b[39;00m (\n\u001b[0;32m--> 571\u001b[0m         \u001b[38;5;129;01mnot\u001b[39;00m (\u001b[38;5;28misinstance\u001b[39m(\u001b[43mdataset\u001b[49m\u001b[43m[\u001b[49m\u001b[38;5;241;43m0\u001b[39;49m\u001b[43m]\u001b[49m, \u001b[38;5;28mdict\u001b[39m) \u001b[38;5;129;01mor\u001b[39;00m \u001b[38;5;28misinstance\u001b[39m(dataset[\u001b[38;5;241m0\u001b[39m], BatchEncoding))\n\u001b[1;32m    572\u001b[0m         \u001b[38;5;129;01mor\u001b[39;00m model_input_name \u001b[38;5;129;01mnot\u001b[39;00m \u001b[38;5;129;01min\u001b[39;00m dataset[\u001b[38;5;241m0\u001b[39m]\n\u001b[1;32m    573\u001b[0m     ):\n\u001b[1;32m    574\u001b[0m         \u001b[38;5;28;01mraise\u001b[39;00m \u001b[38;5;167;01mValueError\u001b[39;00m(\n\u001b[1;32m    575\u001b[0m             \u001b[38;5;124m\"\u001b[39m\u001b[38;5;124mCan only automatically infer lengths for datasets whose items are dictionaries with an \u001b[39m\u001b[38;5;124m\"\u001b[39m\n\u001b[1;32m    576\u001b[0m             \u001b[38;5;124mf\u001b[39m\u001b[38;5;124m\"\u001b[39m\u001b[38;5;124m'\u001b[39m\u001b[38;5;132;01m{\u001b[39;00mmodel_input_name\u001b[38;5;132;01m}\u001b[39;00m\u001b[38;5;124m'\u001b[39m\u001b[38;5;124m key.\u001b[39m\u001b[38;5;124m\"\u001b[39m\n\u001b[1;32m    577\u001b[0m         )\n\u001b[1;32m    578\u001b[0m     lengths \u001b[38;5;241m=\u001b[39m [\u001b[38;5;28mlen\u001b[39m(feature[model_input_name]) \u001b[38;5;28;01mfor\u001b[39;00m feature \u001b[38;5;129;01min\u001b[39;00m dataset]\n",
      "Cell \u001b[0;32mIn[44], line 10\u001b[0m, in \u001b[0;36mASRDataset.__getitem__\u001b[0;34m(self, idx)\u001b[0m\n\u001b[1;32m      9\u001b[0m \u001b[38;5;28;01mdef\u001b[39;00m \u001b[38;5;21m__getitem__\u001b[39m(\u001b[38;5;28mself\u001b[39m, idx):\n\u001b[0;32m---> 10\u001b[0m     input_values \u001b[38;5;241m=\u001b[39m \u001b[38;5;28;43mself\u001b[39;49m\u001b[38;5;241;43m.\u001b[39;49m\u001b[43mprocessor\u001b[49m\u001b[38;5;241;43m.\u001b[39;49m\u001b[43mfeature_extractor\u001b[49m\u001b[43m(\u001b[49m\u001b[38;5;28;43mself\u001b[39;49m\u001b[38;5;241;43m.\u001b[39;49m\u001b[43maudio\u001b[49m\u001b[43m[\u001b[49m\u001b[43midx\u001b[49m\u001b[43m]\u001b[49m\u001b[43m,\u001b[49m\u001b[43m \u001b[49m\u001b[43msampling_rate\u001b[49m\u001b[38;5;241;43m=\u001b[39;49m\u001b[38;5;28;43mself\u001b[39;49m\u001b[38;5;241;43m.\u001b[39;49m\u001b[43msampling_rate\u001b[49m\u001b[43m)\u001b[49m\u001b[38;5;241;43m.\u001b[39;49m\u001b[43minput_features\u001b[49m[\u001b[38;5;241m0\u001b[39m]\n\u001b[1;32m     11\u001b[0m     labels \u001b[38;5;241m=\u001b[39m \u001b[38;5;28mself\u001b[39m\u001b[38;5;241m.\u001b[39mprocessor\u001b[38;5;241m.\u001b[39mtokenizer(\u001b[38;5;28mself\u001b[39m\u001b[38;5;241m.\u001b[39mtranscripts[idx])\u001b[38;5;241m.\u001b[39minput_ids\n\u001b[1;32m     13\u001b[0m     item \u001b[38;5;241m=\u001b[39m {}\n",
      "File \u001b[0;32m/data/users/kashrest/miniconda3/envs/asr/lib/python3.10/site-packages/transformers/feature_extraction_utils.py:93\u001b[0m, in \u001b[0;36mBatchFeature.__getattr__\u001b[0;34m(self, item)\u001b[0m\n\u001b[1;32m     91\u001b[0m     \u001b[38;5;28;01mreturn\u001b[39;00m \u001b[38;5;28mself\u001b[39m\u001b[38;5;241m.\u001b[39mdata[item]\n\u001b[1;32m     92\u001b[0m \u001b[38;5;28;01mexcept\u001b[39;00m \u001b[38;5;167;01mKeyError\u001b[39;00m:\n\u001b[0;32m---> 93\u001b[0m     \u001b[38;5;28;01mraise\u001b[39;00m \u001b[38;5;167;01mAttributeError\u001b[39;00m\n",
      "\u001b[0;31mAttributeError\u001b[0m: "
     ]
    }
   ],
   "source": [
    "trainer.train()"
   ]
  },
  {
   "cell_type": "code",
   "execution_count": null,
   "id": "3e416b46",
   "metadata": {},
   "outputs": [],
   "source": []
  },
  {
   "cell_type": "markdown",
   "id": "36e91f3a",
   "metadata": {},
   "source": [
    "### XLS-R"
   ]
  },
  {
   "cell_type": "markdown",
   "id": "ba222f69",
   "metadata": {},
   "source": [
    "XLS-R was released before MMS, and the MMS paper claims (CHECK) that it has better performance than XLS-R. However, it may be a good idea to check to see which model is better for your specific dataset and use-case. Therefore, let's try finetuning XLS-R on the Hausa fleurs dataset"
   ]
  },
  {
   "cell_type": "markdown",
   "id": "f08ada4a",
   "metadata": {},
   "source": [
    "## Section C: Further Improvements"
   ]
  },
  {
   "cell_type": "markdown",
   "id": "203cfcb9",
   "metadata": {},
   "source": [
    "### Available scripts"
   ]
  },
  {
   "cell_type": "markdown",
   "id": "93a750db",
   "metadata": {},
   "source": [
    "For convenience, we have provided in this GitHub repo a finetuning script that enables the user to enter any FLUERS language, custom prepared dataset, and model training hyperparameters to do finetuning and evaluation all in one easy script (in progress)."
   ]
  },
  {
   "cell_type": "markdown",
   "id": "a153feed",
   "metadata": {},
   "source": [
    "#### Hyperparameter tuning"
   ]
  },
  {
   "cell_type": "markdown",
   "id": "f805faae",
   "metadata": {},
   "source": [
    "Using the scripts available in this GitHub repo, you can run your own experiments with different hyperparameters to see what gives the best model performance."
   ]
  },
  {
   "cell_type": "markdown",
   "id": "5ee3831d",
   "metadata": {},
   "source": [
    "#### Adding more data"
   ]
  },
  {
   "cell_type": "markdown",
   "id": "2d86e625",
   "metadata": {},
   "source": [
    "In order to use a dataset other than FLEURS, you must make sure to set up a Python script that has a function called `create_dataset()`. It must return three ASRDataset objects for the training, validation, and test set. The ASRDataset is available in the \n",
    "\n",
    "\n",
    "```\n",
    "from \n",
    "def create_dataset() -> List[ASRDataset]:\n",
    "    # your code\n",
    "    train_dataset = ASRDataset()\n",
    "\n",
    "    \n",
    "```"
   ]
  }
 ],
 "metadata": {
  "kernelspec": {
   "display_name": "Python 3 (ipykernel)",
   "language": "python",
   "name": "python3"
  },
  "language_info": {
   "codemirror_mode": {
    "name": "ipython",
    "version": 3
   },
   "file_extension": ".py",
   "mimetype": "text/x-python",
   "name": "python",
   "nbconvert_exporter": "python",
   "pygments_lexer": "ipython3",
   "version": "3.10.11"
  }
 },
 "nbformat": 4,
 "nbformat_minor": 5
}
